{
 "cells": [
  {
   "cell_type": "markdown",
   "metadata": {},
   "source": [
    "# Automated ML\n",
    "\n",
    "TODO: Import Dependencies. In the cell below, import all the dependencies that you will need to complete the project."
   ]
  },
  {
   "cell_type": "code",
   "execution_count": 1,
   "metadata": {
    "gather": {
     "logged": 1616872329466
    },
    "jupyter": {
     "outputs_hidden": false,
     "source_hidden": false
    },
    "nteract": {
     "transient": {
      "deleting": false
     }
    }
   },
   "outputs": [],
   "source": [
    "import os\n",
    "import joblib\n",
    "import logging\n",
    "import json\n",
    "import requests\n",
    "\n",
    "import azureml.core\n",
    "from azureml.core.experiment import Experiment\n",
    "from azureml.core.workspace import Workspace\n",
    "from azureml.train.automl import AutoMLConfig\n",
    "from azureml.core.dataset import Dataset\n",
    "from azureml.core.compute import AmlCompute\n",
    "from azureml.core.compute import ComputeTarget\n",
    "from azureml.core.compute_target import ComputeTargetException\n",
    "from azureml.widgets import RunDetails\n",
    "\n",
    "from azureml.core.model import Model\n",
    "from azureml.core.environment import Environment\n",
    "from azureml.core.model import InferenceConfig\n",
    "from azureml.core.webservice import AciWebservice"
   ]
  },
  {
   "cell_type": "code",
   "execution_count": 2,
   "metadata": {
    "gather": {
     "logged": 1616872405358
    }
   },
   "outputs": [
    {
     "name": "stdout",
     "output_type": "stream",
     "text": [
      "Collecting package metadata (repodata.json): - \b\b\\ \b\b| \b\b/ \b\b- \b\b\\ \b\b| \b\b/ \b\b- \b\b\\ \b\b| \b\b/ \b\b- \b\b\\ \b\b| \b\b/ \b\b- \b\b\\ \b\b| \b\b/ \b\b- \b\b\\ \b\b| \b\b/ \b\b- \b\b\\ \b\b| \b\b/ \b\b- \b\b\\ \b\b| \b\b/ \b\b- \b\b\\ \b\b| \b\b/ \b\b- \b\b\\ \b\b| \b\b/ \b\b- \b\b\\ \b\b| \b\b/ \b\b- \b\bdone\n",
      "Solving environment: | \b\b/ \b\bfailed\n",
      "\n",
      "PackagesNotFoundError: The following packages are missing from the target environment:\n",
      "  - xgboost\n",
      "\n",
      "\n",
      "\n",
      "Note: you may need to restart the kernel to use updated packages.\n",
      "Collecting xgboost==0.90\n",
      "  Downloading xgboost-0.90-py2.py3-none-manylinux1_x86_64.whl (142.8 MB)\n",
      "\u001b[K     |████████████████████████████████| 142.8 MB 25 kB/s s eta 0:00:01\n",
      "\u001b[?25hRequirement already satisfied: numpy in /anaconda/envs/azureml_py36/lib/python3.6/site-packages (from xgboost==0.90) (1.18.5)\n",
      "Requirement already satisfied: scipy in /anaconda/envs/azureml_py36/lib/python3.6/site-packages (from xgboost==0.90) (1.4.1)\n",
      "Installing collected packages: xgboost\n",
      "  Attempting uninstall: xgboost\n",
      "    Found existing installation: xgboost 1.3.3\n",
      "    Uninstalling xgboost-1.3.3:\n",
      "      Successfully uninstalled xgboost-1.3.3\n",
      "Successfully installed xgboost-0.90\n",
      "Note: you may need to restart the kernel to use updated packages.\n",
      "0.90\n"
     ]
    }
   ],
   "source": [
    "%conda remove xgboost\n",
    "%pip install xgboost==0.90\n",
    "import xgboost\n",
    "print(xgboost.__version__)"
   ]
  },
  {
   "cell_type": "code",
   "execution_count": 3,
   "metadata": {
    "gather": {
     "logged": 1616872698643
    }
   },
   "outputs": [
    {
     "name": "stdout",
     "output_type": "stream",
     "text": [
      "Performing interactive authentication. Please follow the instructions on the terminal.\n",
      "To sign in, use a web browser to open the page https://microsoft.com/devicelogin and enter the code AL6KP2WCT to authenticate.\n",
      "You have logged in. Now let us find all the subscriptions to which you have access...\n",
      "Interactive authentication successfully completed.\n",
      "Workspace name: quick-starts-ws-141469\n",
      "Azure region: southcentralus\n",
      "Subscription id: 1b944a9b-fdae-4f97-aeb1-b7eea0beac53\n",
      "Resource group: aml-quickstarts-141469\n"
     ]
    }
   ],
   "source": [
    "ws = Workspace.from_config()\n",
    "\n",
    "print('Workspace name: ' + ws.name, \n",
    "      'Azure region: ' + ws.location, \n",
    "      'Subscription id: ' + ws.subscription_id, \n",
    "      'Resource group: ' + ws.resource_group, sep = '\\n')"
   ]
  },
  {
   "cell_type": "code",
   "execution_count": 4,
   "metadata": {
    "gather": {
     "logged": 1616872698804
    }
   },
   "outputs": [],
   "source": [
    "# choose a name for experiment\n",
    "experiment_name = 'automl-experiment'\n",
    "experiment=Experiment(ws, experiment_name)"
   ]
  },
  {
   "cell_type": "code",
   "execution_count": 5,
   "metadata": {
    "gather": {
     "logged": 1616872698944
    }
   },
   "outputs": [
    {
     "data": {
      "text/html": [
       "<table style=\"width:100%\"><tr><th>Name</th><th>Workspace</th><th>Report Page</th><th>Docs Page</th></tr><tr><td>automl-experiment</td><td>quick-starts-ws-141469</td><td><a href=\"https://ml.azure.com/experiments/automl-experiment?wsid=/subscriptions/1b944a9b-fdae-4f97-aeb1-b7eea0beac53/resourcegroups/aml-quickstarts-141469/workspaces/quick-starts-ws-141469\" target=\"_blank\" rel=\"noopener\">Link to Azure Machine Learning studio</a></td><td><a href=\"https://docs.microsoft.com/en-us/python/api/azureml-core/azureml.core.experiment.Experiment?view=azure-ml-py\" target=\"_blank\" rel=\"noopener\">Link to Documentation</a></td></tr></table>"
      ],
      "text/plain": [
       "Experiment(Name: automl-experiment,\n",
       "Workspace: quick-starts-ws-141469)"
      ]
     },
     "execution_count": 5,
     "metadata": {},
     "output_type": "execute_result"
    }
   ],
   "source": [
    "experiment"
   ]
  },
  {
   "cell_type": "markdown",
   "metadata": {},
   "source": [
    "## Create Compute Cluster"
   ]
  },
  {
   "cell_type": "code",
   "execution_count": 6,
   "metadata": {
    "gather": {
     "logged": 1616872699108
    },
    "jupyter": {
     "outputs_hidden": false,
     "source_hidden": false
    },
    "nteract": {
     "transient": {
      "deleting": false
     }
    }
   },
   "outputs": [
    {
     "name": "stdout",
     "output_type": "stream",
     "text": [
      "Found existing cluster, use it.\n",
      "Succeeded\n",
      "AmlCompute wait for completion finished\n",
      "\n",
      "Minimum number of nodes requested have been provisioned\n"
     ]
    }
   ],
   "source": [
    "# Create compute cluster\n",
    "cluster_name = \"capstone-cluster\"\n",
    "\n",
    "# Verify that cluster does not exist already\n",
    "try:\n",
    "    compute_cluster = ComputeTarget(workspace=ws, name=cluster_name)\n",
    "    print('Found existing cluster, use it.')\n",
    "except ComputeTargetException:\n",
    "    compute_config = AmlCompute.provisioning_configuration( vm_size='STANDARD_DS3_V2', max_nodes=6 )\n",
    "    compute_cluster = ComputeTarget.create(ws, cluster_name, compute_config)\n",
    "\n",
    "compute_cluster.wait_for_completion(show_output=True, min_node_count=1, timeout_in_minutes=10)"
   ]
  },
  {
   "cell_type": "markdown",
   "metadata": {},
   "source": [
    "## Dataset\n",
    "\n",
    "### Overview\n",
    "The dataset used for the capstone project is Heart Failure Prediction dataset, and it is obtained from kaggle. This dataset has 299 records and is comprised of 12 features. This is a classification task, in which we will be predicting the heart failure.  \n",
    "Dataset can be found at this link: https://www.kaggle.com/andrewmvd/heart-failure-clinical-data "
   ]
  },
  {
   "cell_type": "code",
   "execution_count": 7,
   "metadata": {
    "gather": {
     "logged": 1616872705287
    }
   },
   "outputs": [
    {
     "name": "stdout",
     "output_type": "stream",
     "text": [
      "Dataset is already registered in the workspace\n"
     ]
    }
   ],
   "source": [
    "# Try to load the dataset from the Workspace. Otherwise, create it from the file\n",
    "# NOTE: update the key to match the dataset name\n",
    "found = False\n",
    "key = \"Heart-Failure-Dataset\"\n",
    "description_text = \"Dataset for heart failure prediction.\"\n",
    "\n",
    "if key in ws.datasets.keys(): \n",
    "        found = True\n",
    "        dataset = ws.datasets[key] \n",
    "        print(\"Dataset is already registered in the workspace\")\n",
    "\n",
    "if not found:\n",
    "        # Create AML Dataset and register it into Workspace\n",
    "        data = 'https://raw.githubusercontent.com/TahreemArif/ML-Azure-Capstone-Project/master/heart_failure_clinical_records_dataset.csv'\n",
    "        dataset = Dataset.Tabular.from_delimited_files(data)        \n",
    "        #Register Dataset in Workspace\n",
    "        dataset = dataset.register(workspace=ws,\n",
    "                                   name=key,\n",
    "                                   description=description_text)\n",
    "\n",
    "\n",
    "df = dataset.to_pandas_dataframe()"
   ]
  },
  {
   "cell_type": "code",
   "execution_count": 8,
   "metadata": {
    "gather": {
     "logged": 1616872705601
    }
   },
   "outputs": [
    {
     "data": {
      "text/html": [
       "<div>\n",
       "<style scoped>\n",
       "    .dataframe tbody tr th:only-of-type {\n",
       "        vertical-align: middle;\n",
       "    }\n",
       "\n",
       "    .dataframe tbody tr th {\n",
       "        vertical-align: top;\n",
       "    }\n",
       "\n",
       "    .dataframe thead th {\n",
       "        text-align: right;\n",
       "    }\n",
       "</style>\n",
       "<table border=\"1\" class=\"dataframe\">\n",
       "  <thead>\n",
       "    <tr style=\"text-align: right;\">\n",
       "      <th></th>\n",
       "      <th>age</th>\n",
       "      <th>anaemia</th>\n",
       "      <th>creatinine_phosphokinase</th>\n",
       "      <th>diabetes</th>\n",
       "      <th>ejection_fraction</th>\n",
       "      <th>high_blood_pressure</th>\n",
       "      <th>platelets</th>\n",
       "      <th>serum_creatinine</th>\n",
       "      <th>serum_sodium</th>\n",
       "      <th>sex</th>\n",
       "      <th>smoking</th>\n",
       "      <th>time</th>\n",
       "      <th>DEATH_EVENT</th>\n",
       "    </tr>\n",
       "  </thead>\n",
       "  <tbody>\n",
       "    <tr>\n",
       "      <th>count</th>\n",
       "      <td>299.000000</td>\n",
       "      <td>299.000000</td>\n",
       "      <td>299.000000</td>\n",
       "      <td>299.000000</td>\n",
       "      <td>299.000000</td>\n",
       "      <td>299.000000</td>\n",
       "      <td>299.000000</td>\n",
       "      <td>299.00000</td>\n",
       "      <td>299.000000</td>\n",
       "      <td>299.000000</td>\n",
       "      <td>299.00000</td>\n",
       "      <td>299.000000</td>\n",
       "      <td>299.00000</td>\n",
       "    </tr>\n",
       "    <tr>\n",
       "      <th>mean</th>\n",
       "      <td>60.833893</td>\n",
       "      <td>0.431438</td>\n",
       "      <td>581.839465</td>\n",
       "      <td>0.418060</td>\n",
       "      <td>38.083612</td>\n",
       "      <td>0.351171</td>\n",
       "      <td>263358.029264</td>\n",
       "      <td>1.39388</td>\n",
       "      <td>136.625418</td>\n",
       "      <td>0.648829</td>\n",
       "      <td>0.32107</td>\n",
       "      <td>130.260870</td>\n",
       "      <td>0.32107</td>\n",
       "    </tr>\n",
       "    <tr>\n",
       "      <th>std</th>\n",
       "      <td>11.894809</td>\n",
       "      <td>0.496107</td>\n",
       "      <td>970.287881</td>\n",
       "      <td>0.494067</td>\n",
       "      <td>11.834841</td>\n",
       "      <td>0.478136</td>\n",
       "      <td>97804.236869</td>\n",
       "      <td>1.03451</td>\n",
       "      <td>4.412477</td>\n",
       "      <td>0.478136</td>\n",
       "      <td>0.46767</td>\n",
       "      <td>77.614208</td>\n",
       "      <td>0.46767</td>\n",
       "    </tr>\n",
       "    <tr>\n",
       "      <th>min</th>\n",
       "      <td>40.000000</td>\n",
       "      <td>0.000000</td>\n",
       "      <td>23.000000</td>\n",
       "      <td>0.000000</td>\n",
       "      <td>14.000000</td>\n",
       "      <td>0.000000</td>\n",
       "      <td>25100.000000</td>\n",
       "      <td>0.50000</td>\n",
       "      <td>113.000000</td>\n",
       "      <td>0.000000</td>\n",
       "      <td>0.00000</td>\n",
       "      <td>4.000000</td>\n",
       "      <td>0.00000</td>\n",
       "    </tr>\n",
       "    <tr>\n",
       "      <th>25%</th>\n",
       "      <td>51.000000</td>\n",
       "      <td>0.000000</td>\n",
       "      <td>116.500000</td>\n",
       "      <td>0.000000</td>\n",
       "      <td>30.000000</td>\n",
       "      <td>0.000000</td>\n",
       "      <td>212500.000000</td>\n",
       "      <td>0.90000</td>\n",
       "      <td>134.000000</td>\n",
       "      <td>0.000000</td>\n",
       "      <td>0.00000</td>\n",
       "      <td>73.000000</td>\n",
       "      <td>0.00000</td>\n",
       "    </tr>\n",
       "    <tr>\n",
       "      <th>50%</th>\n",
       "      <td>60.000000</td>\n",
       "      <td>0.000000</td>\n",
       "      <td>250.000000</td>\n",
       "      <td>0.000000</td>\n",
       "      <td>38.000000</td>\n",
       "      <td>0.000000</td>\n",
       "      <td>262000.000000</td>\n",
       "      <td>1.10000</td>\n",
       "      <td>137.000000</td>\n",
       "      <td>1.000000</td>\n",
       "      <td>0.00000</td>\n",
       "      <td>115.000000</td>\n",
       "      <td>0.00000</td>\n",
       "    </tr>\n",
       "    <tr>\n",
       "      <th>75%</th>\n",
       "      <td>70.000000</td>\n",
       "      <td>1.000000</td>\n",
       "      <td>582.000000</td>\n",
       "      <td>1.000000</td>\n",
       "      <td>45.000000</td>\n",
       "      <td>1.000000</td>\n",
       "      <td>303500.000000</td>\n",
       "      <td>1.40000</td>\n",
       "      <td>140.000000</td>\n",
       "      <td>1.000000</td>\n",
       "      <td>1.00000</td>\n",
       "      <td>203.000000</td>\n",
       "      <td>1.00000</td>\n",
       "    </tr>\n",
       "    <tr>\n",
       "      <th>max</th>\n",
       "      <td>95.000000</td>\n",
       "      <td>1.000000</td>\n",
       "      <td>7861.000000</td>\n",
       "      <td>1.000000</td>\n",
       "      <td>80.000000</td>\n",
       "      <td>1.000000</td>\n",
       "      <td>850000.000000</td>\n",
       "      <td>9.40000</td>\n",
       "      <td>148.000000</td>\n",
       "      <td>1.000000</td>\n",
       "      <td>1.00000</td>\n",
       "      <td>285.000000</td>\n",
       "      <td>1.00000</td>\n",
       "    </tr>\n",
       "  </tbody>\n",
       "</table>\n",
       "</div>"
      ],
      "text/plain": [
       "              age     anaemia  creatinine_phosphokinase    diabetes  \\\n",
       "count  299.000000  299.000000                299.000000  299.000000   \n",
       "mean    60.833893    0.431438                581.839465    0.418060   \n",
       "std     11.894809    0.496107                970.287881    0.494067   \n",
       "min     40.000000    0.000000                 23.000000    0.000000   \n",
       "25%     51.000000    0.000000                116.500000    0.000000   \n",
       "50%     60.000000    0.000000                250.000000    0.000000   \n",
       "75%     70.000000    1.000000                582.000000    1.000000   \n",
       "max     95.000000    1.000000               7861.000000    1.000000   \n",
       "\n",
       "       ejection_fraction  high_blood_pressure      platelets  \\\n",
       "count         299.000000           299.000000     299.000000   \n",
       "mean           38.083612             0.351171  263358.029264   \n",
       "std            11.834841             0.478136   97804.236869   \n",
       "min            14.000000             0.000000   25100.000000   \n",
       "25%            30.000000             0.000000  212500.000000   \n",
       "50%            38.000000             0.000000  262000.000000   \n",
       "75%            45.000000             1.000000  303500.000000   \n",
       "max            80.000000             1.000000  850000.000000   \n",
       "\n",
       "       serum_creatinine  serum_sodium         sex    smoking        time  \\\n",
       "count         299.00000    299.000000  299.000000  299.00000  299.000000   \n",
       "mean            1.39388    136.625418    0.648829    0.32107  130.260870   \n",
       "std             1.03451      4.412477    0.478136    0.46767   77.614208   \n",
       "min             0.50000    113.000000    0.000000    0.00000    4.000000   \n",
       "25%             0.90000    134.000000    0.000000    0.00000   73.000000   \n",
       "50%             1.10000    137.000000    1.000000    0.00000  115.000000   \n",
       "75%             1.40000    140.000000    1.000000    1.00000  203.000000   \n",
       "max             9.40000    148.000000    1.000000    1.00000  285.000000   \n",
       "\n",
       "       DEATH_EVENT  \n",
       "count    299.00000  \n",
       "mean       0.32107  \n",
       "std        0.46767  \n",
       "min        0.00000  \n",
       "25%        0.00000  \n",
       "50%        0.00000  \n",
       "75%        1.00000  \n",
       "max        1.00000  "
      ]
     },
     "execution_count": 8,
     "metadata": {},
     "output_type": "execute_result"
    }
   ],
   "source": [
    "df.describe()"
   ]
  },
  {
   "cell_type": "code",
   "execution_count": 9,
   "metadata": {
    "gather": {
     "logged": 1616872706970
    }
   },
   "outputs": [
    {
     "data": {
      "text/html": [
       "<div>\n",
       "<style scoped>\n",
       "    .dataframe tbody tr th:only-of-type {\n",
       "        vertical-align: middle;\n",
       "    }\n",
       "\n",
       "    .dataframe tbody tr th {\n",
       "        vertical-align: top;\n",
       "    }\n",
       "\n",
       "    .dataframe thead th {\n",
       "        text-align: right;\n",
       "    }\n",
       "</style>\n",
       "<table border=\"1\" class=\"dataframe\">\n",
       "  <thead>\n",
       "    <tr style=\"text-align: right;\">\n",
       "      <th></th>\n",
       "      <th>age</th>\n",
       "      <th>anaemia</th>\n",
       "      <th>creatinine_phosphokinase</th>\n",
       "      <th>diabetes</th>\n",
       "      <th>ejection_fraction</th>\n",
       "      <th>high_blood_pressure</th>\n",
       "      <th>platelets</th>\n",
       "      <th>serum_creatinine</th>\n",
       "      <th>serum_sodium</th>\n",
       "      <th>sex</th>\n",
       "      <th>smoking</th>\n",
       "      <th>time</th>\n",
       "      <th>DEATH_EVENT</th>\n",
       "    </tr>\n",
       "  </thead>\n",
       "  <tbody>\n",
       "    <tr>\n",
       "      <th>0</th>\n",
       "      <td>75.0</td>\n",
       "      <td>0</td>\n",
       "      <td>582</td>\n",
       "      <td>0</td>\n",
       "      <td>20</td>\n",
       "      <td>1</td>\n",
       "      <td>265000.00</td>\n",
       "      <td>1.9</td>\n",
       "      <td>130</td>\n",
       "      <td>1</td>\n",
       "      <td>0</td>\n",
       "      <td>4</td>\n",
       "      <td>1</td>\n",
       "    </tr>\n",
       "    <tr>\n",
       "      <th>1</th>\n",
       "      <td>55.0</td>\n",
       "      <td>0</td>\n",
       "      <td>7861</td>\n",
       "      <td>0</td>\n",
       "      <td>38</td>\n",
       "      <td>0</td>\n",
       "      <td>263358.03</td>\n",
       "      <td>1.1</td>\n",
       "      <td>136</td>\n",
       "      <td>1</td>\n",
       "      <td>0</td>\n",
       "      <td>6</td>\n",
       "      <td>1</td>\n",
       "    </tr>\n",
       "    <tr>\n",
       "      <th>2</th>\n",
       "      <td>65.0</td>\n",
       "      <td>0</td>\n",
       "      <td>146</td>\n",
       "      <td>0</td>\n",
       "      <td>20</td>\n",
       "      <td>0</td>\n",
       "      <td>162000.00</td>\n",
       "      <td>1.3</td>\n",
       "      <td>129</td>\n",
       "      <td>1</td>\n",
       "      <td>1</td>\n",
       "      <td>7</td>\n",
       "      <td>1</td>\n",
       "    </tr>\n",
       "    <tr>\n",
       "      <th>3</th>\n",
       "      <td>50.0</td>\n",
       "      <td>1</td>\n",
       "      <td>111</td>\n",
       "      <td>0</td>\n",
       "      <td>20</td>\n",
       "      <td>0</td>\n",
       "      <td>210000.00</td>\n",
       "      <td>1.9</td>\n",
       "      <td>137</td>\n",
       "      <td>1</td>\n",
       "      <td>0</td>\n",
       "      <td>7</td>\n",
       "      <td>1</td>\n",
       "    </tr>\n",
       "    <tr>\n",
       "      <th>4</th>\n",
       "      <td>65.0</td>\n",
       "      <td>1</td>\n",
       "      <td>160</td>\n",
       "      <td>1</td>\n",
       "      <td>20</td>\n",
       "      <td>0</td>\n",
       "      <td>327000.00</td>\n",
       "      <td>2.7</td>\n",
       "      <td>116</td>\n",
       "      <td>0</td>\n",
       "      <td>0</td>\n",
       "      <td>8</td>\n",
       "      <td>1</td>\n",
       "    </tr>\n",
       "  </tbody>\n",
       "</table>\n",
       "</div>"
      ],
      "text/plain": [
       "    age  anaemia  creatinine_phosphokinase  diabetes  ejection_fraction  \\\n",
       "0  75.0        0                       582         0                 20   \n",
       "1  55.0        0                      7861         0                 38   \n",
       "2  65.0        0                       146         0                 20   \n",
       "3  50.0        1                       111         0                 20   \n",
       "4  65.0        1                       160         1                 20   \n",
       "\n",
       "   high_blood_pressure  platelets  serum_creatinine  serum_sodium  sex  \\\n",
       "0                    1  265000.00               1.9           130    1   \n",
       "1                    0  263358.03               1.1           136    1   \n",
       "2                    0  162000.00               1.3           129    1   \n",
       "3                    0  210000.00               1.9           137    1   \n",
       "4                    0  327000.00               2.7           116    0   \n",
       "\n",
       "   smoking  time  DEATH_EVENT  \n",
       "0        0     4            1  \n",
       "1        0     6            1  \n",
       "2        1     7            1  \n",
       "3        0     7            1  \n",
       "4        0     8            1  "
      ]
     },
     "execution_count": 9,
     "metadata": {},
     "output_type": "execute_result"
    }
   ],
   "source": [
    "df.head()"
   ]
  },
  {
   "cell_type": "markdown",
   "metadata": {},
   "source": [
    "## AutoML Configuration\n",
    "\n",
    "TODO: Explain why you chose the automl settings and cofiguration you used below."
   ]
  },
  {
   "cell_type": "code",
   "execution_count": 10,
   "metadata": {
    "gather": {
     "logged": 1616872707084
    },
    "jupyter": {
     "outputs_hidden": false,
     "source_hidden": false
    },
    "nteract": {
     "transient": {
      "deleting": false
     }
    }
   },
   "outputs": [],
   "source": [
    "# TODO: Put your automl settings here\n",
    "automl_settings = {\n",
    "    \"compute_target\":compute_cluster,\n",
    "    \"task\": \"classification\",\n",
    "    \"training_data\": dataset,\n",
    "    \"label_column_name\": \"DEATH_EVENT\",   \n",
    "    \"enable_early_stopping\": True,\n",
    "    \"featurization\": \"auto\",\n",
    "    \"n_cross_validations\": 5,\n",
    "    \"debug_log\": \"automl_errors.log\",\n",
    "    \"experiment_timeout_hours\": 1.0,\n",
    "    \"max_concurrent_iterations\": 5,\n",
    "    \"primary_metric\" : 'accuracy'\n",
    "}\n",
    "\n",
    "# TODO: Put your automl config here\n",
    "automl_config = AutoMLConfig(**automl_settings)"
   ]
  },
  {
   "cell_type": "code",
   "execution_count": 11,
   "metadata": {
    "gather": {
     "logged": 1616872708555
    },
    "jupyter": {
     "outputs_hidden": false,
     "source_hidden": false
    },
    "nteract": {
     "transient": {
      "deleting": false
     }
    }
   },
   "outputs": [
    {
     "name": "stdout",
     "output_type": "stream",
     "text": [
      "Running on remote.\n"
     ]
    }
   ],
   "source": [
    "# TODO: Submit your experiment\n",
    "remote_run = experiment.submit(automl_config)"
   ]
  },
  {
   "cell_type": "markdown",
   "metadata": {},
   "source": [
    "## Run Details\n",
    "\n",
    "OPTIONAL: Write about the different models trained and their performance. Why do you think some models did better than others?\n",
    "\n",
    "TODO: In the cell below, use the `RunDetails` widget to show the different experiments."
   ]
  },
  {
   "cell_type": "code",
   "execution_count": 12,
   "metadata": {
    "gather": {
     "logged": 1616872710857
    },
    "jupyter": {
     "outputs_hidden": false,
     "source_hidden": false
    },
    "nteract": {
     "transient": {
      "deleting": false
     }
    }
   },
   "outputs": [
    {
     "data": {
      "application/vnd.jupyter.widget-view+json": {
       "model_id": "b6f4a163acec4853817033894ea02f43",
       "version_major": 2,
       "version_minor": 0
      },
      "text/plain": [
       "_AutoMLWidget(widget_settings={'childWidgetDisplay': 'popup', 'send_telemetry': False, 'log_level': 'INFO', 's…"
      ]
     },
     "metadata": {},
     "output_type": "display_data"
    },
    {
     "data": {
      "application/aml.mini.widget.v1": "{\"status\": \"Completed\", \"workbench_run_details_uri\": \"https://ml.azure.com/experiments/automl-experiment/runs/AutoML_b2f5bbc0-522b-448b-9be5-21fd243dd259?wsid=/subscriptions/1b944a9b-fdae-4f97-aeb1-b7eea0beac53/resourcegroups/aml-quickstarts-141469/workspaces/quick-starts-ws-141469\", \"run_id\": \"AutoML_b2f5bbc0-522b-448b-9be5-21fd243dd259\", \"run_properties\": {\"run_id\": \"AutoML_b2f5bbc0-522b-448b-9be5-21fd243dd259\", \"created_utc\": \"2021-03-27T19:18:26.945714Z\", \"properties\": {\"num_iterations\": \"1000\", \"training_type\": \"TrainFull\", \"acquisition_function\": \"EI\", \"primary_metric\": \"accuracy\", \"train_split\": \"0\", \"acquisition_parameter\": \"0\", \"num_cross_validation\": \"5\", \"target\": \"capstone-cluster\", \"AMLSettingsJsonString\": \"{\\\"path\\\":null,\\\"name\\\":\\\"automl-experiment\\\",\\\"subscription_id\\\":\\\"1b944a9b-fdae-4f97-aeb1-b7eea0beac53\\\",\\\"resource_group\\\":\\\"aml-quickstarts-141469\\\",\\\"workspace_name\\\":\\\"quick-starts-ws-141469\\\",\\\"region\\\":\\\"southcentralus\\\",\\\"compute_target\\\":\\\"capstone-cluster\\\",\\\"spark_service\\\":null,\\\"azure_service\\\":\\\"remote\\\",\\\"many_models\\\":false,\\\"pipeline_fetch_max_batch_size\\\":1,\\\"enable_batch_run\\\":false,\\\"iterations\\\":1000,\\\"primary_metric\\\":\\\"accuracy\\\",\\\"task_type\\\":\\\"classification\\\",\\\"data_script\\\":null,\\\"validation_size\\\":0.0,\\\"n_cross_validations\\\":5,\\\"y_min\\\":null,\\\"y_max\\\":null,\\\"num_classes\\\":null,\\\"featurization\\\":\\\"auto\\\",\\\"_ignore_package_version_incompatibilities\\\":false,\\\"is_timeseries\\\":false,\\\"max_cores_per_iteration\\\":1,\\\"max_concurrent_iterations\\\":5,\\\"iteration_timeout_minutes\\\":null,\\\"mem_in_mb\\\":null,\\\"enforce_time_on_windows\\\":false,\\\"experiment_timeout_minutes\\\":60,\\\"experiment_exit_score\\\":null,\\\"whitelist_models\\\":null,\\\"blacklist_algos\\\":[\\\"TensorFlowLinearClassifier\\\",\\\"TensorFlowDNN\\\"],\\\"supported_models\\\":[\\\"LogisticRegression\\\",\\\"MultinomialNaiveBayes\\\",\\\"TensorFlowDNN\\\",\\\"KNN\\\",\\\"LinearSVM\\\",\\\"ExtremeRandomTrees\\\",\\\"AveragedPerceptronClassifier\\\",\\\"XGBoostClassifier\\\",\\\"GradientBoosting\\\",\\\"RandomForest\\\",\\\"BernoulliNaiveBayes\\\",\\\"TensorFlowLinearClassifier\\\",\\\"DecisionTree\\\",\\\"SVM\\\",\\\"SGD\\\",\\\"LightGBM\\\"],\\\"private_models\\\":[],\\\"auto_blacklist\\\":true,\\\"blacklist_samples_reached\\\":false,\\\"exclude_nan_labels\\\":true,\\\"verbosity\\\":20,\\\"_debug_log\\\":\\\"azureml_automl.log\\\",\\\"show_warnings\\\":false,\\\"model_explainability\\\":true,\\\"service_url\\\":null,\\\"sdk_url\\\":null,\\\"sdk_packages\\\":null,\\\"enable_onnx_compatible_models\\\":false,\\\"enable_split_onnx_featurizer_estimator_models\\\":false,\\\"vm_type\\\":\\\"STANDARD_DS3_V2\\\",\\\"telemetry_verbosity\\\":20,\\\"send_telemetry\\\":true,\\\"enable_dnn\\\":false,\\\"scenario\\\":\\\"SDK-1.13.0\\\",\\\"environment_label\\\":null,\\\"save_mlflow\\\":false,\\\"force_text_dnn\\\":false,\\\"enable_feature_sweeping\\\":true,\\\"enable_early_stopping\\\":true,\\\"early_stopping_n_iters\\\":10,\\\"metrics\\\":null,\\\"enable_metric_confidence\\\":false,\\\"enable_ensembling\\\":true,\\\"enable_stack_ensembling\\\":true,\\\"ensemble_iterations\\\":15,\\\"enable_tf\\\":false,\\\"enable_subsampling\\\":null,\\\"subsample_seed\\\":null,\\\"enable_nimbusml\\\":false,\\\"enable_streaming\\\":false,\\\"force_streaming\\\":false,\\\"track_child_runs\\\":true,\\\"allowed_private_models\\\":[],\\\"label_column_name\\\":\\\"DEATH_EVENT\\\",\\\"weight_column_name\\\":null,\\\"cv_split_column_names\\\":null,\\\"enable_local_managed\\\":false,\\\"_local_managed_run_id\\\":null,\\\"cost_mode\\\":1,\\\"lag_length\\\":0,\\\"metric_operation\\\":\\\"maximize\\\",\\\"preprocess\\\":true}\", \"DataPrepJsonString\": \"{\\\\\\\"training_data\\\\\\\": \\\\\\\"{\\\\\\\\\\\\\\\"blocks\\\\\\\\\\\\\\\": [{\\\\\\\\\\\\\\\"id\\\\\\\\\\\\\\\": \\\\\\\\\\\\\\\"c38481bd-8302-496b-a68b-4ad1442c712a\\\\\\\\\\\\\\\", \\\\\\\\\\\\\\\"type\\\\\\\\\\\\\\\": \\\\\\\\\\\\\\\"Microsoft.DPrep.GetDatastoreFilesBlock\\\\\\\\\\\\\\\", \\\\\\\\\\\\\\\"arguments\\\\\\\\\\\\\\\": {\\\\\\\\\\\\\\\"datastores\\\\\\\\\\\\\\\": [{\\\\\\\\\\\\\\\"datastoreName\\\\\\\\\\\\\\\": \\\\\\\\\\\\\\\"workspaceblobstore\\\\\\\\\\\\\\\", \\\\\\\\\\\\\\\"path\\\\\\\\\\\\\\\": \\\\\\\\\\\\\\\"UI/03-27-2021_070315_UTC/heart_failure_clinical_records_dataset.csv\\\\\\\\\\\\\\\", \\\\\\\\\\\\\\\"resourceGroup\\\\\\\\\\\\\\\": \\\\\\\\\\\\\\\"aml-quickstarts-141469\\\\\\\\\\\\\\\", \\\\\\\\\\\\\\\"subscription\\\\\\\\\\\\\\\": \\\\\\\\\\\\\\\"1b944a9b-fdae-4f97-aeb1-b7eea0beac53\\\\\\\\\\\\\\\", \\\\\\\\\\\\\\\"workspaceName\\\\\\\\\\\\\\\": \\\\\\\\\\\\\\\"quick-starts-ws-141469\\\\\\\\\\\\\\\"}]}, \\\\\\\\\\\\\\\"localData\\\\\\\\\\\\\\\": {}, \\\\\\\\\\\\\\\"isEnabled\\\\\\\\\\\\\\\": true, \\\\\\\\\\\\\\\"name\\\\\\\\\\\\\\\": null, \\\\\\\\\\\\\\\"annotation\\\\\\\\\\\\\\\": null}, {\\\\\\\\\\\\\\\"id\\\\\\\\\\\\\\\": \\\\\\\\\\\\\\\"6708ba55-3a1a-4128-8498-b942929e05fe\\\\\\\\\\\\\\\", \\\\\\\\\\\\\\\"type\\\\\\\\\\\\\\\": \\\\\\\\\\\\\\\"Microsoft.DPrep.ParseDelimitedBlock\\\\\\\\\\\\\\\", \\\\\\\\\\\\\\\"arguments\\\\\\\\\\\\\\\": {\\\\\\\\\\\\\\\"columnHeadersMode\\\\\\\\\\\\\\\": 1, \\\\\\\\\\\\\\\"fileEncoding\\\\\\\\\\\\\\\": 0, \\\\\\\\\\\\\\\"handleQuotedLineBreaks\\\\\\\\\\\\\\\": false, \\\\\\\\\\\\\\\"preview\\\\\\\\\\\\\\\": false, \\\\\\\\\\\\\\\"separator\\\\\\\\\\\\\\\": \\\\\\\\\\\\\\\",\\\\\\\\\\\\\\\", \\\\\\\\\\\\\\\"skipRows\\\\\\\\\\\\\\\": 0, \\\\\\\\\\\\\\\"skipRowsMode\\\\\\\\\\\\\\\": 0}, \\\\\\\\\\\\\\\"localData\\\\\\\\\\\\\\\": {}, \\\\\\\\\\\\\\\"isEnabled\\\\\\\\\\\\\\\": true, \\\\\\\\\\\\\\\"name\\\\\\\\\\\\\\\": null, \\\\\\\\\\\\\\\"annotation\\\\\\\\\\\\\\\": null}, {\\\\\\\\\\\\\\\"id\\\\\\\\\\\\\\\": \\\\\\\\\\\\\\\"90c60f3c-e513-47bf-ad9e-491140d20a44\\\\\\\\\\\\\\\", \\\\\\\\\\\\\\\"type\\\\\\\\\\\\\\\": \\\\\\\\\\\\\\\"Microsoft.DPrep.DropColumnsBlock\\\\\\\\\\\\\\\", \\\\\\\\\\\\\\\"arguments\\\\\\\\\\\\\\\": {\\\\\\\\\\\\\\\"columns\\\\\\\\\\\\\\\": {\\\\\\\\\\\\\\\"type\\\\\\\\\\\\\\\": 0, \\\\\\\\\\\\\\\"details\\\\\\\\\\\\\\\": {\\\\\\\\\\\\\\\"selectedColumns\\\\\\\\\\\\\\\": [\\\\\\\\\\\\\\\"Path\\\\\\\\\\\\\\\"]}}}, \\\\\\\\\\\\\\\"localData\\\\\\\\\\\\\\\": {}, \\\\\\\\\\\\\\\"isEnabled\\\\\\\\\\\\\\\": true, \\\\\\\\\\\\\\\"name\\\\\\\\\\\\\\\": null, \\\\\\\\\\\\\\\"annotation\\\\\\\\\\\\\\\": null}, {\\\\\\\\\\\\\\\"id\\\\\\\\\\\\\\\": \\\\\\\\\\\\\\\"40097426-611d-4454-a497-a262b0c237c5\\\\\\\\\\\\\\\", \\\\\\\\\\\\\\\"type\\\\\\\\\\\\\\\": \\\\\\\\\\\\\\\"Microsoft.DPrep.SetColumnTypesBlock\\\\\\\\\\\\\\\", \\\\\\\\\\\\\\\"arguments\\\\\\\\\\\\\\\": {\\\\\\\\\\\\\\\"columnConversion\\\\\\\\\\\\\\\": [{\\\\\\\\\\\\\\\"column\\\\\\\\\\\\\\\": {\\\\\\\\\\\\\\\"type\\\\\\\\\\\\\\\": 2, \\\\\\\\\\\\\\\"details\\\\\\\\\\\\\\\": {\\\\\\\\\\\\\\\"selectedColumn\\\\\\\\\\\\\\\": \\\\\\\\\\\\\\\"Path\\\\\\\\\\\\\\\"}}, \\\\\\\\\\\\\\\"typeProperty\\\\\\\\\\\\\\\": 0}, {\\\\\\\\\\\\\\\"column\\\\\\\\\\\\\\\": {\\\\\\\\\\\\\\\"type\\\\\\\\\\\\\\\": 2, \\\\\\\\\\\\\\\"details\\\\\\\\\\\\\\\": {\\\\\\\\\\\\\\\"selectedColumn\\\\\\\\\\\\\\\": \\\\\\\\\\\\\\\"age\\\\\\\\\\\\\\\"}}, \\\\\\\\\\\\\\\"typeProperty\\\\\\\\\\\\\\\": 3}, {\\\\\\\\\\\\\\\"column\\\\\\\\\\\\\\\": {\\\\\\\\\\\\\\\"type\\\\\\\\\\\\\\\": 2, \\\\\\\\\\\\\\\"details\\\\\\\\\\\\\\\": {\\\\\\\\\\\\\\\"selectedColumn\\\\\\\\\\\\\\\": \\\\\\\\\\\\\\\"anaemia\\\\\\\\\\\\\\\"}}, \\\\\\\\\\\\\\\"typeProperty\\\\\\\\\\\\\\\": 2}, {\\\\\\\\\\\\\\\"column\\\\\\\\\\\\\\\": {\\\\\\\\\\\\\\\"type\\\\\\\\\\\\\\\": 2, \\\\\\\\\\\\\\\"details\\\\\\\\\\\\\\\": {\\\\\\\\\\\\\\\"selectedColumn\\\\\\\\\\\\\\\": \\\\\\\\\\\\\\\"creatinine_phosphokinase\\\\\\\\\\\\\\\"}}, \\\\\\\\\\\\\\\"typeProperty\\\\\\\\\\\\\\\": 2}, {\\\\\\\\\\\\\\\"column\\\\\\\\\\\\\\\": {\\\\\\\\\\\\\\\"type\\\\\\\\\\\\\\\": 2, \\\\\\\\\\\\\\\"details\\\\\\\\\\\\\\\": {\\\\\\\\\\\\\\\"selectedColumn\\\\\\\\\\\\\\\": \\\\\\\\\\\\\\\"diabetes\\\\\\\\\\\\\\\"}}, \\\\\\\\\\\\\\\"typeProperty\\\\\\\\\\\\\\\": 2}, {\\\\\\\\\\\\\\\"column\\\\\\\\\\\\\\\": {\\\\\\\\\\\\\\\"type\\\\\\\\\\\\\\\": 2, \\\\\\\\\\\\\\\"details\\\\\\\\\\\\\\\": {\\\\\\\\\\\\\\\"selectedColumn\\\\\\\\\\\\\\\": \\\\\\\\\\\\\\\"ejection_fraction\\\\\\\\\\\\\\\"}}, \\\\\\\\\\\\\\\"typeProperty\\\\\\\\\\\\\\\": 2}, {\\\\\\\\\\\\\\\"column\\\\\\\\\\\\\\\": {\\\\\\\\\\\\\\\"type\\\\\\\\\\\\\\\": 2, \\\\\\\\\\\\\\\"details\\\\\\\\\\\\\\\": {\\\\\\\\\\\\\\\"selectedColumn\\\\\\\\\\\\\\\": \\\\\\\\\\\\\\\"high_blood_pressure\\\\\\\\\\\\\\\"}}, \\\\\\\\\\\\\\\"typeProperty\\\\\\\\\\\\\\\": 2}, {\\\\\\\\\\\\\\\"column\\\\\\\\\\\\\\\": {\\\\\\\\\\\\\\\"type\\\\\\\\\\\\\\\": 2, \\\\\\\\\\\\\\\"details\\\\\\\\\\\\\\\": {\\\\\\\\\\\\\\\"selectedColumn\\\\\\\\\\\\\\\": \\\\\\\\\\\\\\\"platelets\\\\\\\\\\\\\\\"}}, \\\\\\\\\\\\\\\"typeProperty\\\\\\\\\\\\\\\": 3}, {\\\\\\\\\\\\\\\"column\\\\\\\\\\\\\\\": {\\\\\\\\\\\\\\\"type\\\\\\\\\\\\\\\": 2, \\\\\\\\\\\\\\\"details\\\\\\\\\\\\\\\": {\\\\\\\\\\\\\\\"selectedColumn\\\\\\\\\\\\\\\": \\\\\\\\\\\\\\\"serum_creatinine\\\\\\\\\\\\\\\"}}, \\\\\\\\\\\\\\\"typeProperty\\\\\\\\\\\\\\\": 3}, {\\\\\\\\\\\\\\\"column\\\\\\\\\\\\\\\": {\\\\\\\\\\\\\\\"type\\\\\\\\\\\\\\\": 2, \\\\\\\\\\\\\\\"details\\\\\\\\\\\\\\\": {\\\\\\\\\\\\\\\"selectedColumn\\\\\\\\\\\\\\\": \\\\\\\\\\\\\\\"serum_sodium\\\\\\\\\\\\\\\"}}, \\\\\\\\\\\\\\\"typeProperty\\\\\\\\\\\\\\\": 2}, {\\\\\\\\\\\\\\\"column\\\\\\\\\\\\\\\": {\\\\\\\\\\\\\\\"type\\\\\\\\\\\\\\\": 2, \\\\\\\\\\\\\\\"details\\\\\\\\\\\\\\\": {\\\\\\\\\\\\\\\"selectedColumn\\\\\\\\\\\\\\\": \\\\\\\\\\\\\\\"sex\\\\\\\\\\\\\\\"}}, \\\\\\\\\\\\\\\"typeProperty\\\\\\\\\\\\\\\": 2}, {\\\\\\\\\\\\\\\"column\\\\\\\\\\\\\\\": {\\\\\\\\\\\\\\\"type\\\\\\\\\\\\\\\": 2, \\\\\\\\\\\\\\\"details\\\\\\\\\\\\\\\": {\\\\\\\\\\\\\\\"selectedColumn\\\\\\\\\\\\\\\": \\\\\\\\\\\\\\\"smoking\\\\\\\\\\\\\\\"}}, \\\\\\\\\\\\\\\"typeProperty\\\\\\\\\\\\\\\": 2}, {\\\\\\\\\\\\\\\"column\\\\\\\\\\\\\\\": {\\\\\\\\\\\\\\\"type\\\\\\\\\\\\\\\": 2, \\\\\\\\\\\\\\\"details\\\\\\\\\\\\\\\": {\\\\\\\\\\\\\\\"selectedColumn\\\\\\\\\\\\\\\": \\\\\\\\\\\\\\\"time\\\\\\\\\\\\\\\"}}, \\\\\\\\\\\\\\\"typeProperty\\\\\\\\\\\\\\\": 2}, {\\\\\\\\\\\\\\\"column\\\\\\\\\\\\\\\": {\\\\\\\\\\\\\\\"type\\\\\\\\\\\\\\\": 2, \\\\\\\\\\\\\\\"details\\\\\\\\\\\\\\\": {\\\\\\\\\\\\\\\"selectedColumn\\\\\\\\\\\\\\\": \\\\\\\\\\\\\\\"DEATH_EVENT\\\\\\\\\\\\\\\"}}, \\\\\\\\\\\\\\\"typeProperty\\\\\\\\\\\\\\\": 2}]}, \\\\\\\\\\\\\\\"localData\\\\\\\\\\\\\\\": {}, \\\\\\\\\\\\\\\"isEnabled\\\\\\\\\\\\\\\": true, \\\\\\\\\\\\\\\"name\\\\\\\\\\\\\\\": null, \\\\\\\\\\\\\\\"annotation\\\\\\\\\\\\\\\": null}], \\\\\\\\\\\\\\\"inspectors\\\\\\\\\\\\\\\": [], \\\\\\\\\\\\\\\"meta\\\\\\\\\\\\\\\": {\\\\\\\\\\\\\\\"savedDatasetId\\\\\\\\\\\\\\\": \\\\\\\\\\\\\\\"f22965dc-41ce-46de-93e1-175c53fb606c\\\\\\\\\\\\\\\", \\\\\\\\\\\\\\\"datasetType\\\\\\\\\\\\\\\": \\\\\\\\\\\\\\\"tabular\\\\\\\\\\\\\\\", \\\\\\\\\\\\\\\"subscriptionId\\\\\\\\\\\\\\\": \\\\\\\\\\\\\\\"1b944a9b-fdae-4f97-aeb1-b7eea0beac53\\\\\\\\\\\\\\\", \\\\\\\\\\\\\\\"workspaceId\\\\\\\\\\\\\\\": \\\\\\\\\\\\\\\"ff0d47e8-1401-499a-bcc3-69189ba9356f\\\\\\\\\\\\\\\", \\\\\\\\\\\\\\\"workspaceLocation\\\\\\\\\\\\\\\": \\\\\\\\\\\\\\\"southcentralus\\\\\\\\\\\\\\\"}}\\\\\\\", \\\\\\\"activities\\\\\\\": 0}\", \"EnableSubsampling\": null, \"runTemplate\": \"AutoML\", \"azureml.runsource\": \"automl\", \"display_task_type\": \"classification\", \"dependencies_versions\": \"{\\\"azureml-widgets\\\": \\\"1.24.0\\\", \\\"azureml-train\\\": \\\"1.24.0\\\", \\\"azureml-train-restclients-hyperdrive\\\": \\\"1.24.0\\\", \\\"azureml-train-core\\\": \\\"1.24.0\\\", \\\"azureml-train-automl\\\": \\\"1.24.0\\\", \\\"azureml-train-automl-runtime\\\": \\\"1.24.0\\\", \\\"azureml-train-automl-client\\\": \\\"1.24.0\\\", \\\"azureml-tensorboard\\\": \\\"1.24.0\\\", \\\"azureml-telemetry\\\": \\\"1.24.0\\\", \\\"azureml-sdk\\\": \\\"1.24.0\\\", \\\"azureml-samples\\\": \\\"0+unknown\\\", \\\"azureml-pipeline\\\": \\\"1.24.0\\\", \\\"azureml-pipeline-steps\\\": \\\"1.24.0\\\", \\\"azureml-pipeline-core\\\": \\\"1.24.0\\\", \\\"azureml-opendatasets\\\": \\\"1.24.0\\\", \\\"azureml-model-management-sdk\\\": \\\"1.0.1b6.post1\\\", \\\"azureml-mlflow\\\": \\\"1.24.0\\\", \\\"azureml-interpret\\\": \\\"1.24.0\\\", \\\"azureml-explain-model\\\": \\\"1.24.0\\\", \\\"azureml-defaults\\\": \\\"1.24.0\\\", \\\"azureml-dataset-runtime\\\": \\\"1.24.0\\\", \\\"azureml-dataprep\\\": \\\"2.11.1\\\", \\\"azureml-dataprep-rslex\\\": \\\"1.9.0\\\", \\\"azureml-dataprep-native\\\": \\\"30.0.0\\\", \\\"azureml-datadrift\\\": \\\"1.24.0\\\", \\\"azureml-core\\\": \\\"1.24.0\\\", \\\"azureml-contrib-services\\\": \\\"1.24.0\\\", \\\"azureml-contrib-server\\\": \\\"1.24.0\\\", \\\"azureml-contrib-reinforcementlearning\\\": \\\"1.24.0\\\", \\\"azureml-contrib-pipeline-steps\\\": \\\"1.24.0\\\", \\\"azureml-contrib-notebook\\\": \\\"1.24.0\\\", \\\"azureml-contrib-gbdt\\\": \\\"1.24.0\\\", \\\"azureml-contrib-fairness\\\": \\\"1.24.0\\\", \\\"azureml-contrib-dataset\\\": \\\"1.24.0\\\", \\\"azureml-cli-common\\\": \\\"1.24.0\\\", \\\"azureml-automl-runtime\\\": \\\"1.24.0\\\", \\\"azureml-automl-dnn-nlp\\\": \\\"1.24.0\\\", \\\"azureml-automl-core\\\": \\\"1.24.0\\\", \\\"azureml-accel-models\\\": \\\"1.24.0\\\"}\", \"_aml_system_scenario_identification\": \"Remote.Parent\", \"ClientType\": \"SDK\", \"environment_cpu_name\": \"AzureML-AutoML\", \"environment_cpu_label\": \"prod\", \"environment_gpu_name\": \"AzureML-AutoML-GPU\", \"environment_gpu_label\": \"prod\", \"root_attribution\": \"automl\", \"attribution\": \"AutoML\", \"Orchestrator\": \"AutoML\", \"CancelUri\": \"https://southcentralus.experiments.azureml.net/jasmine/v1.0/subscriptions/1b944a9b-fdae-4f97-aeb1-b7eea0beac53/resourceGroups/aml-quickstarts-141469/providers/Microsoft.MachineLearningServices/workspaces/quick-starts-ws-141469/experimentids/e3d5cfa2-b71f-4d5c-b271-9ec841153529/cancel/AutoML_b2f5bbc0-522b-448b-9be5-21fd243dd259\", \"ClientSdkVersion\": \"1.24.0\", \"snapshotId\": \"00000000-0000-0000-0000-000000000000\", \"SetupRunId\": \"AutoML_b2f5bbc0-522b-448b-9be5-21fd243dd259_setup\", \"SetupRunContainerId\": \"dcid.AutoML_b2f5bbc0-522b-448b-9be5-21fd243dd259_setup\", \"FeaturizationRunJsonPath\": \"featurizer_container.json\", \"FeaturizationRunId\": \"AutoML_b2f5bbc0-522b-448b-9be5-21fd243dd259_featurize\", \"ProblemInfoJsonString\": \"{\\\"dataset_num_categorical\\\": 0, \\\"is_sparse\\\": false, \\\"subsampling\\\": false, \\\"dataset_classes\\\": 2, \\\"dataset_features\\\": 12, \\\"dataset_samples\\\": 299, \\\"single_frequency_class_detected\\\": false}\", \"ModelExplainRunId\": \"AutoML_b2f5bbc0-522b-448b-9be5-21fd243dd259_ModelExplain\"}, \"tags\": {\"model_explain_run\": \"best_run\", \"_aml_system_azureml.automlComponent\": \"AutoML\", \"pipeline_id\": \"\", \"score\": \"\", \"predicted_cost\": \"\", \"fit_time\": \"\", \"training_percent\": \"\", \"iteration\": \"\", \"run_preprocessor\": \"\", \"run_algorithm\": \"\", \"dynamic_whitelisting_iterations\": \"<25>;<30>;<35>;\", \"automl_best_child_run_id\": \"AutoML_b2f5bbc0-522b-448b-9be5-21fd243dd259_38\", \"model_explain_best_run_child_id\": \"AutoML_b2f5bbc0-522b-448b-9be5-21fd243dd259_38\"}, \"end_time_utc\": \"2021-03-27T19:34:02.810357Z\", \"status\": \"Completed\", \"log_files\": {}, \"log_groups\": [], \"run_duration\": \"0:15:35\", \"run_number\": \"1\", \"run_queued_details\": {\"status\": \"Completed\", \"details\": null}}, \"child_runs\": [{\"run_id\": \"AutoML_b2f5bbc0-522b-448b-9be5-21fd243dd259_0\", \"run_number\": 5, \"metric\": null, \"status\": \"Completed\", \"run_type\": \"azureml.scriptrun\", \"training_percent\": \"100\", \"start_time\": \"2021-03-27T19:23:40.313615Z\", \"end_time\": \"2021-03-27T19:24:17.557955Z\", \"created_time\": \"2021-03-27T19:23:25.369981Z\", \"created_time_dt\": \"2021-03-27T19:23:25.369981Z\", \"duration\": \"0:00:52\", \"iteration\": \"0\", \"goal\": \"accuracy_max\", \"run_name\": \"MaxAbsScaler, LightGBM\", \"run_properties\": \"copy=True\", \"primary_metric\": 0.8059887, \"best_metric\": 0.8059887}, {\"run_id\": \"AutoML_b2f5bbc0-522b-448b-9be5-21fd243dd259_4\", \"run_number\": 6, \"metric\": null, \"status\": \"Completed\", \"run_type\": \"azureml.scriptrun\", \"training_percent\": \"100\", \"start_time\": \"2021-03-27T19:23:35.476894Z\", \"end_time\": \"2021-03-27T19:24:15.245908Z\", \"created_time\": \"2021-03-27T19:23:25.427849Z\", \"created_time_dt\": \"2021-03-27T19:23:25.427849Z\", \"duration\": \"0:00:49\", \"iteration\": \"4\", \"goal\": \"accuracy_max\", \"run_name\": \"MinMaxScaler, RandomForest\", \"run_properties\": \"copy=True, feature_range=(0, 1\", \"primary_metric\": 0.84248588, \"best_metric\": 0.84248588}, {\"run_id\": \"AutoML_b2f5bbc0-522b-448b-9be5-21fd243dd259_3\", \"run_number\": 7, \"metric\": null, \"status\": \"Completed\", \"run_type\": \"azureml.scriptrun\", \"training_percent\": \"100\", \"start_time\": \"2021-03-27T19:23:52.088209Z\", \"end_time\": \"2021-03-27T19:25:28.769186Z\", \"created_time\": \"2021-03-27T19:23:25.816541Z\", \"created_time_dt\": \"2021-03-27T19:23:25.816541Z\", \"duration\": \"0:02:02\", \"iteration\": \"3\", \"goal\": \"accuracy_max\", \"run_name\": \"MinMaxScaler, RandomForest\", \"run_properties\": \"copy=True, feature_range=(0, 1\", \"primary_metric\": 0.82587571, \"best_metric\": 0.83949153}, {\"run_id\": \"AutoML_b2f5bbc0-522b-448b-9be5-21fd243dd259_2\", \"run_number\": 8, \"metric\": null, \"status\": \"Completed\", \"run_type\": \"azureml.scriptrun\", \"training_percent\": \"100\", \"start_time\": \"2021-03-27T19:23:35.870653Z\", \"end_time\": \"2021-03-27T19:25:13.506787Z\", \"created_time\": \"2021-03-27T19:23:25.849206Z\", \"created_time_dt\": \"2021-03-27T19:23:25.849206Z\", \"duration\": \"0:01:47\", \"iteration\": \"2\", \"goal\": \"accuracy_max\", \"run_name\": \"MinMaxScaler, RandomForest\", \"run_properties\": \"copy=True, feature_range=(0, 1\", \"primary_metric\": 0.83949153, \"best_metric\": 0.83949153}, {\"run_id\": \"AutoML_b2f5bbc0-522b-448b-9be5-21fd243dd259_1\", \"run_number\": 9, \"metric\": null, \"status\": \"Completed\", \"run_type\": \"azureml.scriptrun\", \"training_percent\": \"100\", \"start_time\": \"2021-03-27T19:23:59.386241Z\", \"end_time\": \"2021-03-27T19:25:42.982713Z\", \"created_time\": \"2021-03-27T19:23:25.896581Z\", \"created_time_dt\": \"2021-03-27T19:23:25.896581Z\", \"duration\": \"0:02:17\", \"iteration\": \"1\", \"goal\": \"accuracy_max\", \"run_name\": \"MaxAbsScaler, XGBoostClassifier\", \"run_properties\": \"copy=True\", \"primary_metric\": 0.8259322, \"best_metric\": 0.8259322}, {\"run_id\": \"AutoML_b2f5bbc0-522b-448b-9be5-21fd243dd259_5\", \"run_number\": 10, \"metric\": null, \"status\": \"Completed\", \"run_type\": \"azureml.scriptrun\", \"training_percent\": \"100\", \"start_time\": \"2021-03-27T19:25:26.361852Z\", \"end_time\": \"2021-03-27T19:26:05.877999Z\", \"created_time\": \"2021-03-27T19:24:20.984605Z\", \"created_time_dt\": \"2021-03-27T19:24:20.984605Z\", \"duration\": \"0:01:44\", \"iteration\": \"5\", \"goal\": \"accuracy_max\", \"run_name\": \"RobustScaler, LightGBM\", \"run_properties\": \"copy=True, quantile_range=[10, 90], with_centering=False,\\n             with_scaling=False\", \"primary_metric\": 0.82926554, \"best_metric\": 0.84248588}, {\"run_id\": \"AutoML_b2f5bbc0-522b-448b-9be5-21fd243dd259_6\", \"run_number\": 11, \"metric\": null, \"status\": \"Completed\", \"run_type\": \"azureml.scriptrun\", \"training_percent\": \"100\", \"start_time\": \"2021-03-27T19:25:43.694519Z\", \"end_time\": \"2021-03-27T19:27:35.656852Z\", \"created_time\": \"2021-03-27T19:24:30.321164Z\", \"created_time_dt\": \"2021-03-27T19:24:30.321164Z\", \"duration\": \"0:03:05\", \"iteration\": \"6\", \"goal\": \"accuracy_max\", \"run_name\": \"MaxAbsScaler, LightGBM\", \"run_properties\": \"copy=True\", \"primary_metric\": 0.8360452, \"best_metric\": 0.84248588}, {\"run_id\": \"AutoML_b2f5bbc0-522b-448b-9be5-21fd243dd259_7\", \"run_number\": 12, \"metric\": null, \"status\": \"Completed\", \"run_type\": \"azureml.scriptrun\", \"training_percent\": \"100\", \"start_time\": \"2021-03-27T19:25:45.148003Z\", \"end_time\": \"2021-03-27T19:26:29.593889Z\", \"created_time\": \"2021-03-27T19:25:17.368714Z\", \"created_time_dt\": \"2021-03-27T19:25:17.368714Z\", \"duration\": \"0:01:12\", \"iteration\": \"7\", \"goal\": \"accuracy_max\", \"run_name\": \"MinMaxScaler, SVM\", \"run_properties\": \"copy=True, feature_range=(0, 1\", \"primary_metric\": 0.70576271, \"best_metric\": 0.84248588}, {\"run_id\": \"AutoML_b2f5bbc0-522b-448b-9be5-21fd243dd259_8\", \"run_number\": 13, \"metric\": null, \"status\": \"Completed\", \"run_type\": \"azureml.scriptrun\", \"training_percent\": \"100\", \"start_time\": \"2021-03-27T19:25:55.582128Z\", \"end_time\": \"2021-03-27T19:26:42.349755Z\", \"created_time\": \"2021-03-27T19:25:30.611096Z\", \"created_time_dt\": \"2021-03-27T19:25:30.611096Z\", \"duration\": \"0:01:11\", \"iteration\": \"8\", \"goal\": \"accuracy_max\", \"run_name\": \"SparseNormalizer, XGBoostClassifier\", \"run_properties\": \"<azureml.automl.runtime.shared.model_wrappers.SparseNormalizer object at 0x7fe331ef4e10\", \"primary_metric\": 0.84627119, \"best_metric\": 0.84627119}, {\"run_id\": \"AutoML_b2f5bbc0-522b-448b-9be5-21fd243dd259_9\", \"run_number\": 14, \"metric\": null, \"status\": \"Completed\", \"run_type\": \"azureml.scriptrun\", \"training_percent\": \"100\", \"start_time\": \"2021-03-27T19:26:30.001871Z\", \"end_time\": \"2021-03-27T19:27:15.835728Z\", \"created_time\": \"2021-03-27T19:25:44.982262Z\", \"created_time_dt\": \"2021-03-27T19:25:44.982262Z\", \"duration\": \"0:01:30\", \"iteration\": \"9\", \"goal\": \"accuracy_max\", \"run_name\": \"SparseNormalizer, XGBoostClassifier\", \"run_properties\": \"<azureml.automl.runtime.shared.model_wrappers.SparseNormalizer object at 0x7fc2a455c978\", \"primary_metric\": 0.82615819, \"best_metric\": 0.84627119}, {\"run_id\": \"AutoML_b2f5bbc0-522b-448b-9be5-21fd243dd259_10\", \"run_number\": 15, \"metric\": null, \"status\": \"Completed\", \"run_type\": \"azureml.scriptrun\", \"training_percent\": \"100\", \"start_time\": \"2021-03-27T19:26:55.881795Z\", \"end_time\": \"2021-03-27T19:27:46.611609Z\", \"created_time\": \"2021-03-27T19:26:07.573402Z\", \"created_time_dt\": \"2021-03-27T19:26:07.573402Z\", \"duration\": \"0:01:39\", \"iteration\": \"10\", \"goal\": \"accuracy_max\", \"run_name\": \"MinMaxScaler, SVM\", \"run_properties\": \"copy=True, feature_range=(0, 1\", \"primary_metric\": 0.70576271, \"best_metric\": 0.84627119}, {\"run_id\": \"AutoML_b2f5bbc0-522b-448b-9be5-21fd243dd259_11\", \"run_number\": 16, \"metric\": null, \"status\": \"Completed\", \"run_type\": \"azureml.scriptrun\", \"training_percent\": \"100\", \"start_time\": \"2021-03-27T19:27:12.378711Z\", \"end_time\": \"2021-03-27T19:27:50.684835Z\", \"created_time\": \"2021-03-27T19:26:31.16565Z\", \"created_time_dt\": \"2021-03-27T19:26:31.16565Z\", \"duration\": \"0:01:19\", \"iteration\": \"11\", \"goal\": \"accuracy_max\", \"run_name\": \"MaxAbsScaler, GradientBoosting\", \"run_properties\": \"copy=True\", \"primary_metric\": 0.8259887, \"best_metric\": 0.84627119}, {\"run_id\": \"AutoML_b2f5bbc0-522b-448b-9be5-21fd243dd259_12\", \"run_number\": 17, \"metric\": null, \"status\": \"Completed\", \"run_type\": \"azureml.scriptrun\", \"training_percent\": \"100\", \"start_time\": \"2021-03-27T19:27:33.670165Z\", \"end_time\": \"2021-03-27T19:28:17.023834Z\", \"created_time\": \"2021-03-27T19:26:44.392729Z\", \"created_time_dt\": \"2021-03-27T19:26:44.392729Z\", \"duration\": \"0:01:32\", \"iteration\": \"12\", \"goal\": \"accuracy_max\", \"run_name\": \"StandardScalerWrapper, RandomForest\", \"run_properties\": \"<azureml.automl.runtime.shared.model_wrappers.StandardScalerWrapper object at 0x7f3143c9d278\", \"primary_metric\": 0.81932203, \"best_metric\": 0.84627119}, {\"run_id\": \"AutoML_b2f5bbc0-522b-448b-9be5-21fd243dd259_13\", \"run_number\": 18, \"metric\": null, \"status\": \"Completed\", \"run_type\": \"azureml.scriptrun\", \"training_percent\": \"100\", \"start_time\": \"2021-03-27T19:28:01.338801Z\", \"end_time\": \"2021-03-27T19:28:54.465762Z\", \"created_time\": \"2021-03-27T19:27:17.718193Z\", \"created_time_dt\": \"2021-03-27T19:27:17.718193Z\", \"duration\": \"0:01:36\", \"iteration\": \"13\", \"goal\": \"accuracy_max\", \"run_name\": \"MaxAbsScaler, ExtremeRandomTrees\", \"run_properties\": \"copy=True\", \"primary_metric\": 0.83276836, \"best_metric\": 0.84627119}, {\"run_id\": \"AutoML_b2f5bbc0-522b-448b-9be5-21fd243dd259_14\", \"run_number\": 19, \"metric\": null, \"status\": \"Completed\", \"run_type\": \"azureml.scriptrun\", \"training_percent\": \"100\", \"start_time\": \"2021-03-27T19:28:08.519203Z\", \"end_time\": \"2021-03-27T19:28:47.200979Z\", \"created_time\": \"2021-03-27T19:27:37.565593Z\", \"created_time_dt\": \"2021-03-27T19:27:37.565593Z\", \"duration\": \"0:01:09\", \"iteration\": \"14\", \"goal\": \"accuracy_max\", \"run_name\": \"RobustScaler, ExtremeRandomTrees\", \"run_properties\": \"copy=True, quantile_range=[10, 90], with_centering=True,\\n             with_scaling=False\", \"primary_metric\": 0.85293785, \"best_metric\": 0.85293785}, {\"run_id\": \"AutoML_b2f5bbc0-522b-448b-9be5-21fd243dd259_15\", \"run_number\": 20, \"metric\": null, \"status\": \"Completed\", \"run_type\": \"azureml.scriptrun\", \"training_percent\": \"100\", \"start_time\": \"2021-03-27T19:28:32.224917Z\", \"end_time\": \"2021-03-27T19:29:20.94042Z\", \"created_time\": \"2021-03-27T19:27:48.694503Z\", \"created_time_dt\": \"2021-03-27T19:27:48.694503Z\", \"duration\": \"0:01:32\", \"iteration\": \"15\", \"goal\": \"accuracy_max\", \"run_name\": \"MaxAbsScaler, LightGBM\", \"run_properties\": \"copy=True\", \"primary_metric\": 0.8360452, \"best_metric\": 0.85293785}, {\"run_id\": \"AutoML_b2f5bbc0-522b-448b-9be5-21fd243dd259_16\", \"run_number\": 21, \"metric\": null, \"status\": \"Completed\", \"run_type\": \"azureml.scriptrun\", \"training_percent\": \"100\", \"start_time\": \"2021-03-27T19:28:35.528016Z\", \"end_time\": \"2021-03-27T19:29:27.436554Z\", \"created_time\": \"2021-03-27T19:27:52.545916Z\", \"created_time_dt\": \"2021-03-27T19:27:52.545916Z\", \"duration\": \"0:01:34\", \"iteration\": \"16\", \"goal\": \"accuracy_max\", \"run_name\": \"MaxAbsScaler, LightGBM\", \"run_properties\": \"copy=True\", \"primary_metric\": 0.82271186, \"best_metric\": 0.85293785}, {\"run_id\": \"AutoML_b2f5bbc0-522b-448b-9be5-21fd243dd259_17\", \"run_number\": 22, \"metric\": null, \"status\": \"Completed\", \"run_type\": \"azureml.scriptrun\", \"training_percent\": \"100\", \"start_time\": \"2021-03-27T19:29:02.223334Z\", \"end_time\": \"2021-03-27T19:29:47.053213Z\", \"created_time\": \"2021-03-27T19:28:19.069169Z\", \"created_time_dt\": \"2021-03-27T19:28:19.069169Z\", \"duration\": \"0:01:27\", \"iteration\": \"17\", \"goal\": \"accuracy_max\", \"run_name\": \"SparseNormalizer, XGBoostClassifier\", \"run_properties\": \"<azureml.automl.runtime.shared.model_wrappers.SparseNormalizer object at 0x7fd5786c5a58\", \"primary_metric\": 0.84960452, \"best_metric\": 0.85293785}, {\"run_id\": \"AutoML_b2f5bbc0-522b-448b-9be5-21fd243dd259_18\", \"run_number\": 23, \"metric\": null, \"status\": \"Completed\", \"run_type\": \"azureml.scriptrun\", \"training_percent\": \"100\", \"start_time\": \"2021-03-27T19:29:08.631356Z\", \"end_time\": \"2021-03-27T19:29:50.248256Z\", \"created_time\": \"2021-03-27T19:28:49.705604Z\", \"created_time_dt\": \"2021-03-27T19:28:49.705604Z\", \"duration\": \"0:01:00\", \"iteration\": \"18\", \"goal\": \"accuracy_max\", \"run_name\": \"MaxAbsScaler, LightGBM\", \"run_properties\": \"copy=True\", \"primary_metric\": 0.80271186, \"best_metric\": 0.85293785}, {\"run_id\": \"AutoML_b2f5bbc0-522b-448b-9be5-21fd243dd259_19\", \"run_number\": 24, \"metric\": null, \"status\": \"Completed\", \"run_type\": \"azureml.scriptrun\", \"training_percent\": \"100\", \"start_time\": \"2021-03-27T19:29:26.558987Z\", \"end_time\": \"2021-03-27T19:30:08.778946Z\", \"created_time\": \"2021-03-27T19:28:57.451186Z\", \"created_time_dt\": \"2021-03-27T19:28:57.451186Z\", \"duration\": \"0:01:11\", \"iteration\": \"19\", \"goal\": \"accuracy_max\", \"run_name\": \"StandardScalerWrapper, LightGBM\", \"run_properties\": \"<azureml.automl.runtime.shared.model_wrappers.StandardScalerWrapper object at 0x7f96f70923c8\", \"primary_metric\": 0.8060452, \"best_metric\": 0.85293785}, {\"run_id\": \"AutoML_b2f5bbc0-522b-448b-9be5-21fd243dd259_20\", \"run_number\": 25, \"metric\": null, \"status\": \"Completed\", \"run_type\": \"azureml.scriptrun\", \"training_percent\": \"100\", \"start_time\": \"2021-03-27T19:29:32.292156Z\", \"end_time\": \"2021-03-27T19:30:19.441172Z\", \"created_time\": \"2021-03-27T19:29:22.75777Z\", \"created_time_dt\": \"2021-03-27T19:29:22.75777Z\", \"duration\": \"0:00:56\", \"iteration\": \"20\", \"goal\": \"accuracy_max\", \"run_name\": \"MinMaxScaler, LightGBM\", \"run_properties\": \"copy=True, feature_range=(0, 1\", \"primary_metric\": 0.83937853, \"best_metric\": 0.85293785}, {\"run_id\": \"AutoML_b2f5bbc0-522b-448b-9be5-21fd243dd259_21\", \"run_number\": 26, \"metric\": null, \"status\": \"Completed\", \"run_type\": \"azureml.scriptrun\", \"training_percent\": \"100\", \"start_time\": \"2021-03-27T19:29:42.922586Z\", \"end_time\": \"2021-03-27T19:30:30.879553Z\", \"created_time\": \"2021-03-27T19:29:29.780644Z\", \"created_time_dt\": \"2021-03-27T19:29:29.780644Z\", \"duration\": \"0:01:01\", \"iteration\": \"21\", \"goal\": \"accuracy_max\", \"run_name\": \"SparseNormalizer, XGBoostClassifier\", \"run_properties\": \"<azureml.automl.runtime.shared.model_wrappers.SparseNormalizer object at 0x7f0dba8562b0\", \"primary_metric\": 0.80937853, \"best_metric\": 0.85293785}, {\"run_id\": \"AutoML_b2f5bbc0-522b-448b-9be5-21fd243dd259_22\", \"run_number\": 27, \"metric\": null, \"status\": \"Completed\", \"run_type\": \"azureml.scriptrun\", \"training_percent\": \"100\", \"start_time\": \"2021-03-27T19:29:57.01736Z\", \"end_time\": \"2021-03-27T19:30:34.936792Z\", \"created_time\": \"2021-03-27T19:29:48.580777Z\", \"created_time_dt\": \"2021-03-27T19:29:48.580777Z\", \"duration\": \"0:00:46\", \"iteration\": \"22\", \"goal\": \"accuracy_max\", \"run_name\": \"StandardScalerWrapper, LightGBM\", \"run_properties\": \"<azureml.automl.runtime.shared.model_wrappers.StandardScalerWrapper object at 0x7fb8fc222e80\", \"primary_metric\": 0.72587571, \"best_metric\": 0.85293785}, {\"run_id\": \"AutoML_b2f5bbc0-522b-448b-9be5-21fd243dd259_23\", \"run_number\": 28, \"metric\": null, \"status\": \"Completed\", \"run_type\": \"azureml.scriptrun\", \"training_percent\": \"100\", \"start_time\": \"2021-03-27T19:30:03.931874Z\", \"end_time\": \"2021-03-27T19:30:44.504248Z\", \"created_time\": \"2021-03-27T19:29:51.882576Z\", \"created_time_dt\": \"2021-03-27T19:29:51.882576Z\", \"duration\": \"0:00:52\", \"iteration\": \"23\", \"goal\": \"accuracy_max\", \"run_name\": \"SparseNormalizer, RandomForest\", \"run_properties\": \"<azureml.automl.runtime.shared.model_wrappers.SparseNormalizer object at 0x7f13f0698390\", \"primary_metric\": 0.83615819, \"best_metric\": 0.85293785}, {\"run_id\": \"AutoML_b2f5bbc0-522b-448b-9be5-21fd243dd259_24\", \"run_number\": 29, \"metric\": null, \"status\": \"Completed\", \"run_type\": \"azureml.scriptrun\", \"training_percent\": \"100\", \"start_time\": \"2021-03-27T19:30:22.304962Z\", \"end_time\": \"2021-03-27T19:30:56.815927Z\", \"created_time\": \"2021-03-27T19:30:10.441166Z\", \"created_time_dt\": \"2021-03-27T19:30:10.441166Z\", \"duration\": \"0:00:46\", \"iteration\": \"24\", \"goal\": \"accuracy_max\", \"run_name\": \"MaxAbsScaler, LightGBM\", \"run_properties\": \"copy=True\", \"primary_metric\": 0.72254237, \"best_metric\": 0.85293785}, {\"run_id\": \"AutoML_b2f5bbc0-522b-448b-9be5-21fd243dd259_25\", \"run_number\": 30, \"metric\": null, \"status\": \"Completed\", \"run_type\": \"azureml.scriptrun\", \"training_percent\": \"100\", \"start_time\": \"2021-03-27T19:30:32.922275Z\", \"end_time\": \"2021-03-27T19:31:11.752489Z\", \"created_time\": \"2021-03-27T19:30:22.034873Z\", \"created_time_dt\": \"2021-03-27T19:30:22.034873Z\", \"duration\": \"0:00:49\", \"iteration\": \"25\", \"goal\": \"accuracy_max\", \"run_name\": \"TruncatedSVDWrapper, ExtremeRandomTrees\", \"run_properties\": \"n_components=0.20789473684210527, random_state=None\", \"primary_metric\": 0.67909605, \"best_metric\": 0.85293785}, {\"run_id\": \"AutoML_b2f5bbc0-522b-448b-9be5-21fd243dd259_26\", \"run_number\": 31, \"metric\": null, \"status\": \"Completed\", \"run_type\": \"azureml.scriptrun\", \"training_percent\": \"100\", \"start_time\": \"2021-03-27T19:30:40.560181Z\", \"end_time\": \"2021-03-27T19:31:24.114824Z\", \"created_time\": \"2021-03-27T19:30:32.592656Z\", \"created_time_dt\": \"2021-03-27T19:30:32.592656Z\", \"duration\": \"0:00:51\", \"iteration\": \"26\", \"goal\": \"accuracy_max\", \"run_name\": \"MaxAbsScaler, LightGBM\", \"run_properties\": \"copy=True\", \"primary_metric\": 0.8460452, \"best_metric\": 0.85293785}, {\"run_id\": \"AutoML_b2f5bbc0-522b-448b-9be5-21fd243dd259_27\", \"run_number\": 32, \"metric\": null, \"status\": \"Completed\", \"run_type\": \"azureml.scriptrun\", \"training_percent\": \"100\", \"start_time\": \"2021-03-27T19:30:48.334764Z\", \"end_time\": \"2021-03-27T19:31:28.236844Z\", \"created_time\": \"2021-03-27T19:30:36.568589Z\", \"created_time_dt\": \"2021-03-27T19:30:36.568589Z\", \"duration\": \"0:00:51\", \"iteration\": \"27\", \"goal\": \"accuracy_max\", \"run_name\": \"SparseNormalizer, XGBoostClassifier\", \"run_properties\": \"<azureml.automl.runtime.shared.model_wrappers.SparseNormalizer object at 0x7f9dff2da358\", \"primary_metric\": 0.83276836, \"best_metric\": 0.85293785}, {\"run_id\": \"AutoML_b2f5bbc0-522b-448b-9be5-21fd243dd259_28\", \"run_number\": 33, \"metric\": null, \"status\": \"Completed\", \"run_type\": \"azureml.scriptrun\", \"training_percent\": \"100\", \"start_time\": \"2021-03-27T19:30:53.455557Z\", \"end_time\": \"2021-03-27T19:31:31.513269Z\", \"created_time\": \"2021-03-27T19:30:46.143133Z\", \"created_time_dt\": \"2021-03-27T19:30:46.143133Z\", \"duration\": \"0:00:45\", \"iteration\": \"28\", \"goal\": \"accuracy_max\", \"run_name\": \"SparseNormalizer, RandomForest\", \"run_properties\": \"<azureml.automl.runtime.shared.model_wrappers.SparseNormalizer object at 0x7f88727f6e80\", \"primary_metric\": 0.80259887, \"best_metric\": 0.85293785}, {\"run_id\": \"AutoML_b2f5bbc0-522b-448b-9be5-21fd243dd259_29\", \"run_number\": 34, \"metric\": null, \"status\": \"Completed\", \"run_type\": \"azureml.scriptrun\", \"training_percent\": \"100\", \"start_time\": \"2021-03-27T19:31:08.660291Z\", \"end_time\": \"2021-03-27T19:32:02.623062Z\", \"created_time\": \"2021-03-27T19:30:58.628738Z\", \"created_time_dt\": \"2021-03-27T19:30:58.628738Z\", \"duration\": \"0:01:03\", \"iteration\": \"29\", \"goal\": \"accuracy_max\", \"run_name\": \"StandardScalerWrapper, ExtremeRandomTrees\", \"run_properties\": \"<azureml.automl.runtime.shared.model_wrappers.StandardScalerWrapper object at 0x7f0366783438\", \"primary_metric\": 0.81932203, \"best_metric\": 0.85293785}, {\"run_id\": \"AutoML_b2f5bbc0-522b-448b-9be5-21fd243dd259_30\", \"run_number\": 35, \"metric\": null, \"status\": \"Completed\", \"run_type\": \"azureml.scriptrun\", \"training_percent\": \"100\", \"start_time\": \"2021-03-27T19:31:30.398007Z\", \"end_time\": \"2021-03-27T19:32:09.807036Z\", \"created_time\": \"2021-03-27T19:31:14.820576Z\", \"created_time_dt\": \"2021-03-27T19:31:14.820576Z\", \"duration\": \"0:00:54\", \"iteration\": \"30\", \"goal\": \"accuracy_max\", \"run_name\": \"StandardScalerWrapper, ExtremeRandomTrees\", \"run_properties\": \"<azureml.automl.runtime.shared.model_wrappers.StandardScalerWrapper object at 0x7f441bbff320\", \"primary_metric\": 0.82937853, \"best_metric\": 0.85293785}, {\"run_id\": \"AutoML_b2f5bbc0-522b-448b-9be5-21fd243dd259_31\", \"run_number\": 36, \"metric\": null, \"status\": \"Completed\", \"run_type\": \"azureml.scriptrun\", \"training_percent\": \"100\", \"start_time\": \"2021-03-27T19:31:36.952501Z\", \"end_time\": \"2021-03-27T19:32:13.099275Z\", \"created_time\": \"2021-03-27T19:31:25.921098Z\", \"created_time_dt\": \"2021-03-27T19:31:25.921098Z\", \"duration\": \"0:00:47\", \"iteration\": \"31\", \"goal\": \"accuracy_max\", \"run_name\": \"StandardScalerWrapper, XGBoostClassifier\", \"run_properties\": \"<azureml.automl.runtime.shared.model_wrappers.StandardScalerWrapper object at 0x7f66ca2300f0\", \"primary_metric\": 0.84271186, \"best_metric\": 0.85293785}, {\"run_id\": \"AutoML_b2f5bbc0-522b-448b-9be5-21fd243dd259_32\", \"run_number\": 37, \"metric\": null, \"status\": \"Completed\", \"run_type\": \"azureml.scriptrun\", \"training_percent\": \"100\", \"start_time\": \"2021-03-27T19:31:41.729129Z\", \"end_time\": \"2021-03-27T19:32:18.730808Z\", \"created_time\": \"2021-03-27T19:31:31.143414Z\", \"created_time_dt\": \"2021-03-27T19:31:31.143414Z\", \"duration\": \"0:00:47\", \"iteration\": \"32\", \"goal\": \"accuracy_max\", \"run_name\": \"StandardScalerWrapper, XGBoostClassifier\", \"run_properties\": \"<azureml.automl.runtime.shared.model_wrappers.StandardScalerWrapper object at 0x7f004b880b70\", \"primary_metric\": 0.84265537, \"best_metric\": 0.85293785}, {\"run_id\": \"AutoML_b2f5bbc0-522b-448b-9be5-21fd243dd259_33\", \"run_number\": 38, \"metric\": null, \"status\": \"Completed\", \"run_type\": \"azureml.scriptrun\", \"training_percent\": \"100\", \"start_time\": \"2021-03-27T19:31:44.359988Z\", \"end_time\": \"2021-03-27T19:32:26.305036Z\", \"created_time\": \"2021-03-27T19:31:35.146185Z\", \"created_time_dt\": \"2021-03-27T19:31:35.146185Z\", \"duration\": \"0:00:51\", \"iteration\": \"33\", \"goal\": \"accuracy_max\", \"run_name\": \"StandardScalerWrapper, LightGBM\", \"run_properties\": \"<azureml.automl.runtime.shared.model_wrappers.StandardScalerWrapper object at 0x7fc320912630\", \"primary_metric\": 0.80259887, \"best_metric\": 0.85293785}, {\"run_id\": \"AutoML_b2f5bbc0-522b-448b-9be5-21fd243dd259_34\", \"run_number\": 39, \"metric\": null, \"status\": \"Canceled\", \"run_type\": \"azureml.scriptrun\", \"training_percent\": \"100\", \"start_time\": \"2021-03-27T19:32:16.09444Z\", \"end_time\": \"2021-03-27T19:32:34.838073Z\", \"created_time\": \"2021-03-27T19:32:04.445535Z\", \"created_time_dt\": \"2021-03-27T19:32:04.445535Z\", \"duration\": \"0:00:30\", \"iteration\": \"34\", \"goal\": null, \"run_name\": \"Canceled\", \"run_properties\": null}, {\"run_id\": \"AutoML_b2f5bbc0-522b-448b-9be5-21fd243dd259_35\", \"run_number\": 40, \"metric\": null, \"status\": \"Canceled\", \"run_type\": \"azureml.scriptrun\", \"training_percent\": \"100\", \"start_time\": \"2021-03-27T19:32:21.773679Z\", \"end_time\": \"2021-03-27T19:32:33.870241Z\", \"created_time\": \"2021-03-27T19:32:12.55103Z\", \"created_time_dt\": \"2021-03-27T19:32:12.55103Z\", \"duration\": \"0:00:21\", \"iteration\": \"35\", \"goal\": null, \"run_name\": \"Canceled\", \"run_properties\": null}, {\"run_id\": \"AutoML_b2f5bbc0-522b-448b-9be5-21fd243dd259_36\", \"run_number\": 41, \"metric\": null, \"status\": \"Canceled\", \"run_type\": \"azureml.scriptrun\", \"training_percent\": \"100\", \"start_time\": \"2021-03-27T19:32:25.710739Z\", \"end_time\": \"2021-03-27T19:32:35.205848Z\", \"created_time\": \"2021-03-27T19:32:15.863698Z\", \"created_time_dt\": \"2021-03-27T19:32:15.863698Z\", \"duration\": \"0:00:19\", \"iteration\": \"36\", \"goal\": null, \"run_name\": \"Canceled\", \"run_properties\": null}, {\"run_id\": \"AutoML_b2f5bbc0-522b-448b-9be5-21fd243dd259_37\", \"run_number\": 42, \"metric\": null, \"status\": \"Canceled\", \"run_type\": \"azureml.scriptrun\", \"training_percent\": \"100\", \"start_time\": \"2021-03-27T19:32:32.509008Z\", \"end_time\": \"2021-03-27T19:32:40.08877Z\", \"created_time\": \"2021-03-27T19:32:22.615426Z\", \"created_time_dt\": \"2021-03-27T19:32:22.615426Z\", \"duration\": \"0:00:17\", \"iteration\": \"37\", \"goal\": null, \"run_name\": \"Canceled\", \"run_properties\": null}, {\"run_id\": \"AutoML_b2f5bbc0-522b-448b-9be5-21fd243dd259_39\", \"run_number\": 43, \"metric\": null, \"status\": \"Completed\", \"run_type\": \"azureml.scriptrun\", \"training_percent\": \"100\", \"start_time\": \"2021-03-27T19:32:52.908783Z\", \"end_time\": \"2021-03-27T19:33:49.624539Z\", \"created_time\": \"2021-03-27T19:32:41.085854Z\", \"created_time_dt\": \"2021-03-27T19:32:41.085854Z\", \"duration\": \"0:01:08\", \"iteration\": \"39\", \"goal\": \"accuracy_max\", \"run_name\": \"StackEnsemble\", \"run_properties\": \"base_learners=[('14',\\n                                        Pipeline(memory=None,\\n                                                 steps=[('robustscaler',\\n                                                         RobustScaler(copy=True,\\n                                                                      quantile_range=[10,\\n                                                                                      90],\\n                                                                      with_centering=True,\\n                                                                      with_scaling=False\", \"primary_metric\": 0.85615819, \"best_metric\": 0.87627119}, {\"run_id\": \"AutoML_b2f5bbc0-522b-448b-9be5-21fd243dd259_38\", \"run_number\": 44, \"metric\": null, \"status\": \"Completed\", \"run_type\": \"azureml.scriptrun\", \"training_percent\": \"100\", \"start_time\": \"2021-03-27T19:32:52.711044Z\", \"end_time\": \"2021-03-27T19:33:49.624572Z\", \"created_time\": \"2021-03-27T19:32:41.091128Z\", \"created_time_dt\": \"2021-03-27T19:32:41.091128Z\", \"duration\": \"0:01:08\", \"iteration\": \"38\", \"goal\": \"accuracy_max\", \"run_name\": \"VotingEnsemble\", \"run_properties\": \"classification_labels=None,\\n                              estimators=[('14',\\n                                           Pipeline(memory=None,\\n                                                    steps=[('robustscaler',\\n                                                            RobustScaler(copy=True,\\n                                                                         quantile_range=[10,\\n                                                                                         90],\\n                                                                         with_centering=True,\\n                                                                         with_scaling=False\", \"primary_metric\": 0.87627119, \"best_metric\": 0.87627119}], \"children_metrics\": {\"categories\": [0], \"series\": {\"weighted_accuracy\": [{\"categories\": [\"0\", \"1\", \"2\", \"3\", \"4\", \"5\", \"6\", \"7\", \"8\", \"9\", \"10\", \"11\", \"12\", \"13\", \"14\", \"15\", \"16\", \"17\", \"18\", \"19\", \"20\", \"21\", \"22\", \"23\", \"24\", \"25\", \"26\", \"27\", \"28\", \"29\", \"30\", \"31\", \"32\", \"33\", \"38\", \"39\"], \"mode\": \"markers\", \"name\": \"weighted_accuracy\", \"stepped\": false, \"type\": \"scatter\", \"data\": [0.8252063202764133, 0.8406325321291572, 0.862760777554248, 0.8483273342969712, 0.8568397760634536, 0.8482958920099266, 0.8508826789623214, 0.7634458596757183, 0.8614527378563306, 0.853412521437642, 0.7702315615670943, 0.8443820967817055, 0.8458767846154289, 0.8713315123960163, 0.8787305247703943, 0.8593695682548554, 0.8513702623377982, 0.876880803619453, 0.8359612739636877, 0.8414354962425137, 0.8548042475897724, 0.8396048623725025, 0.818343923044172, 0.8596131311919801, 0.8212850995147603, 0.7971865900207855, 0.8714073957752442, 0.8519027822257064, 0.8036039209915989, 0.8268565222570226, 0.8689728800691446, 0.860909391263705, 0.858913427166423, 0.8311482159719036, 0.8976265957416116, 0.8745150919762941]}, {\"categories\": [\"0\", \"1\", \"2\", \"3\", \"4\", \"5\", \"6\", \"7\", \"8\", \"9\", \"10\", \"11\", \"12\", \"13\", \"14\", \"15\", \"16\", \"17\", \"18\", \"19\", \"20\", \"21\", \"22\", \"23\", \"24\", \"25\", \"26\", \"27\", \"28\", \"29\", \"30\", \"31\", \"32\", \"33\", \"38\", \"39\"], \"mode\": \"lines\", \"name\": \"weighted_accuracy_max\", \"stepped\": true, \"type\": \"scatter\", \"data\": [0.8252063202764133, 0.8406325321291572, 0.862760777554248, 0.862760777554248, 0.862760777554248, 0.862760777554248, 0.862760777554248, 0.862760777554248, 0.862760777554248, 0.862760777554248, 0.862760777554248, 0.862760777554248, 0.862760777554248, 0.8713315123960163, 0.8787305247703943, 0.8787305247703943, 0.8787305247703943, 0.8787305247703943, 0.8787305247703943, 0.8787305247703943, 0.8787305247703943, 0.8787305247703943, 0.8787305247703943, 0.8787305247703943, 0.8787305247703943, 0.8787305247703943, 0.8787305247703943, 0.8787305247703943, 0.8787305247703943, 0.8787305247703943, 0.8787305247703943, 0.8787305247703943, 0.8787305247703943, 0.8787305247703943, 0.8976265957416116, 0.8976265957416116]}], \"norm_macro_recall\": [{\"categories\": [\"0\", \"1\", \"2\", \"3\", \"4\", \"5\", \"6\", \"7\", \"8\", \"9\", \"10\", \"11\", \"12\", \"13\", \"14\", \"15\", \"16\", \"17\", \"18\", \"19\", \"20\", \"21\", \"22\", \"23\", \"24\", \"25\", \"26\", \"27\", \"28\", \"29\", \"30\", \"31\", \"32\", \"33\", \"38\", \"39\"], \"mode\": \"markers\", \"name\": \"norm_macro_recall\", \"stepped\": false, \"type\": \"scatter\", \"data\": [0.5520418050941306, 0.6120251937984496, 0.6099916943521594, 0.5841680509413067, 0.6462430786267996, 0.6033430232558139, 0.6291846622369878, 0.24068936877076408, 0.6536738648947951, 0.5792774086378738, 0.21057032115171648, 0.5950179955703213, 0.557594130675526, 0.5556464562569213, 0.6304166666666667, 0.6055024916943521, 0.5625263012181616, 0.6224916943521595, 0.5156215393133998, 0.5047369878183832, 0.6333513289036544, 0.5205024916943521, 0.17297619047619048, 0.6030703211517165, 0.14547619047619048, 0.0, 0.6181215393133997, 0.6067441860465117, 0.6025442967884829, 0.6184537652270211, 0.5458762458471761, 0.6317524916943521, 0.6379858803986711, 0.5169822812846068, 0.6886821705426357, 0.6589036544850498]}, {\"categories\": [\"0\", \"1\", \"2\", \"3\", \"4\", \"5\", \"6\", \"7\", \"8\", \"9\", \"10\", \"11\", \"12\", \"13\", \"14\", \"15\", \"16\", \"17\", \"18\", \"19\", \"20\", \"21\", \"22\", \"23\", \"24\", \"25\", \"26\", \"27\", \"28\", \"29\", \"30\", \"31\", \"32\", \"33\", \"38\", \"39\"], \"mode\": \"lines\", \"name\": \"norm_macro_recall_max\", \"stepped\": true, \"type\": \"scatter\", \"data\": [0.5520418050941306, 0.6120251937984496, 0.6120251937984496, 0.6120251937984496, 0.6462430786267996, 0.6462430786267996, 0.6462430786267996, 0.6462430786267996, 0.6536738648947951, 0.6536738648947951, 0.6536738648947951, 0.6536738648947951, 0.6536738648947951, 0.6536738648947951, 0.6536738648947951, 0.6536738648947951, 0.6536738648947951, 0.6536738648947951, 0.6536738648947951, 0.6536738648947951, 0.6536738648947951, 0.6536738648947951, 0.6536738648947951, 0.6536738648947951, 0.6536738648947951, 0.6536738648947951, 0.6536738648947951, 0.6536738648947951, 0.6536738648947951, 0.6536738648947951, 0.6536738648947951, 0.6536738648947951, 0.6536738648947951, 0.6536738648947951, 0.6886821705426357, 0.6886821705426357]}], \"recall_score_micro\": [{\"categories\": [\"0\", \"1\", \"2\", \"3\", \"4\", \"5\", \"6\", \"7\", \"8\", \"9\", \"10\", \"11\", \"12\", \"13\", \"14\", \"15\", \"16\", \"17\", \"18\", \"19\", \"20\", \"21\", \"22\", \"23\", \"24\", \"25\", \"26\", \"27\", \"28\", \"29\", \"30\", \"31\", \"32\", \"33\", \"38\", \"39\"], \"mode\": \"markers\", \"name\": \"recall_score_micro\", \"stepped\": false, \"type\": \"scatter\", \"data\": [0.8059887005649717, 0.8259322033898304, 0.8394915254237288, 0.8258757062146893, 0.8424858757062147, 0.8292655367231638, 0.836045197740113, 0.7057627118644068, 0.846271186440678, 0.8261581920903955, 0.7057627118644068, 0.8259887005649718, 0.8193220338983052, 0.8327683615819209, 0.8529378531073446, 0.836045197740113, 0.8227118644067797, 0.8496045197740113, 0.8027118644067797, 0.806045197740113, 0.8393785310734463, 0.8093785310734465, 0.7258757062146893, 0.8361581920903955, 0.722542372881356, 0.67909604519774, 0.8460451977401131, 0.8327683615819208, 0.8025988700564971, 0.8193220338983049, 0.8293785310734464, 0.8427118644067797, 0.8426553672316384, 0.8025988700564971, 0.876271186440678, 0.8561581920903955]}, {\"categories\": [\"0\", \"1\", \"2\", \"3\", \"4\", \"5\", \"6\", \"7\", \"8\", \"9\", \"10\", \"11\", \"12\", \"13\", \"14\", \"15\", \"16\", \"17\", \"18\", \"19\", \"20\", \"21\", \"22\", \"23\", \"24\", \"25\", \"26\", \"27\", \"28\", \"29\", \"30\", \"31\", \"32\", \"33\", \"38\", \"39\"], \"mode\": \"lines\", \"name\": \"recall_score_micro_max\", \"stepped\": true, \"type\": \"scatter\", \"data\": [0.8059887005649717, 0.8259322033898304, 0.8394915254237288, 0.8394915254237288, 0.8424858757062147, 0.8424858757062147, 0.8424858757062147, 0.8424858757062147, 0.846271186440678, 0.846271186440678, 0.846271186440678, 0.846271186440678, 0.846271186440678, 0.846271186440678, 0.8529378531073446, 0.8529378531073446, 0.8529378531073446, 0.8529378531073446, 0.8529378531073446, 0.8529378531073446, 0.8529378531073446, 0.8529378531073446, 0.8529378531073446, 0.8529378531073446, 0.8529378531073446, 0.8529378531073446, 0.8529378531073446, 0.8529378531073446, 0.8529378531073446, 0.8529378531073446, 0.8529378531073446, 0.8529378531073446, 0.8529378531073446, 0.8529378531073446, 0.876271186440678, 0.876271186440678]}], \"recall_score_weighted\": [{\"categories\": [\"0\", \"1\", \"2\", \"3\", \"4\", \"5\", \"6\", \"7\", \"8\", \"9\", \"10\", \"11\", \"12\", \"13\", \"14\", \"15\", \"16\", \"17\", \"18\", \"19\", \"20\", \"21\", \"22\", \"23\", \"24\", \"25\", \"26\", \"27\", \"28\", \"29\", \"30\", \"31\", \"32\", \"33\", \"38\", \"39\"], \"mode\": \"markers\", \"name\": \"recall_score_weighted\", \"stepped\": false, \"type\": \"scatter\", \"data\": [0.8059887005649717, 0.8259322033898304, 0.8394915254237288, 0.8258757062146893, 0.8424858757062147, 0.8292655367231638, 0.836045197740113, 0.7057627118644068, 0.846271186440678, 0.8261581920903955, 0.7057627118644068, 0.8259887005649718, 0.8193220338983052, 0.8327683615819209, 0.8529378531073446, 0.836045197740113, 0.8227118644067797, 0.8496045197740113, 0.8027118644067797, 0.806045197740113, 0.8393785310734463, 0.8093785310734465, 0.7258757062146893, 0.8361581920903955, 0.722542372881356, 0.67909604519774, 0.8460451977401131, 0.8327683615819208, 0.8025988700564971, 0.8193220338983049, 0.8293785310734464, 0.8427118644067797, 0.8426553672316384, 0.8025988700564971, 0.876271186440678, 0.8561581920903955]}, {\"categories\": [\"0\", \"1\", \"2\", \"3\", \"4\", \"5\", \"6\", \"7\", \"8\", \"9\", \"10\", \"11\", \"12\", \"13\", \"14\", \"15\", \"16\", \"17\", \"18\", \"19\", \"20\", \"21\", \"22\", \"23\", \"24\", \"25\", \"26\", \"27\", \"28\", \"29\", \"30\", \"31\", \"32\", \"33\", \"38\", \"39\"], \"mode\": \"lines\", \"name\": \"recall_score_weighted_max\", \"stepped\": true, \"type\": \"scatter\", \"data\": [0.8059887005649717, 0.8259322033898304, 0.8394915254237288, 0.8394915254237288, 0.8424858757062147, 0.8424858757062147, 0.8424858757062147, 0.8424858757062147, 0.846271186440678, 0.846271186440678, 0.846271186440678, 0.846271186440678, 0.846271186440678, 0.846271186440678, 0.8529378531073446, 0.8529378531073446, 0.8529378531073446, 0.8529378531073446, 0.8529378531073446, 0.8529378531073446, 0.8529378531073446, 0.8529378531073446, 0.8529378531073446, 0.8529378531073446, 0.8529378531073446, 0.8529378531073446, 0.8529378531073446, 0.8529378531073446, 0.8529378531073446, 0.8529378531073446, 0.8529378531073446, 0.8529378531073446, 0.8529378531073446, 0.8529378531073446, 0.876271186440678, 0.876271186440678]}], \"f1_score_micro\": [{\"categories\": [\"0\", \"1\", \"2\", \"3\", \"4\", \"5\", \"6\", \"7\", \"8\", \"9\", \"10\", \"11\", \"12\", \"13\", \"14\", \"15\", \"16\", \"17\", \"18\", \"19\", \"20\", \"21\", \"22\", \"23\", \"24\", \"25\", \"26\", \"27\", \"28\", \"29\", \"30\", \"31\", \"32\", \"33\", \"38\", \"39\"], \"mode\": \"markers\", \"name\": \"f1_score_micro\", \"stepped\": false, \"type\": \"scatter\", \"data\": [0.8059887005649718, 0.8259322033898304, 0.8394915254237288, 0.8258757062146893, 0.8424858757062147, 0.8292655367231638, 0.836045197740113, 0.7057627118644068, 0.846271186440678, 0.8261581920903955, 0.7057627118644068, 0.8259887005649718, 0.8193220338983052, 0.8327683615819209, 0.8529378531073446, 0.836045197740113, 0.8227118644067797, 0.8496045197740113, 0.8027118644067798, 0.8060451977401131, 0.8393785310734463, 0.8093785310734465, 0.7258757062146893, 0.8361581920903955, 0.722542372881356, 0.67909604519774, 0.8460451977401131, 0.8327683615819208, 0.8025988700564973, 0.8193220338983052, 0.8293785310734464, 0.8427118644067797, 0.8426553672316384, 0.8025988700564971, 0.876271186440678, 0.8561581920903955]}, {\"categories\": [\"0\", \"1\", \"2\", \"3\", \"4\", \"5\", \"6\", \"7\", \"8\", \"9\", \"10\", \"11\", \"12\", \"13\", \"14\", \"15\", \"16\", \"17\", \"18\", \"19\", \"20\", \"21\", \"22\", \"23\", \"24\", \"25\", \"26\", \"27\", \"28\", \"29\", \"30\", \"31\", \"32\", \"33\", \"38\", \"39\"], \"mode\": \"lines\", \"name\": \"f1_score_micro_max\", \"stepped\": true, \"type\": \"scatter\", \"data\": [0.8059887005649718, 0.8259322033898304, 0.8394915254237288, 0.8394915254237288, 0.8424858757062147, 0.8424858757062147, 0.8424858757062147, 0.8424858757062147, 0.846271186440678, 0.846271186440678, 0.846271186440678, 0.846271186440678, 0.846271186440678, 0.846271186440678, 0.8529378531073446, 0.8529378531073446, 0.8529378531073446, 0.8529378531073446, 0.8529378531073446, 0.8529378531073446, 0.8529378531073446, 0.8529378531073446, 0.8529378531073446, 0.8529378531073446, 0.8529378531073446, 0.8529378531073446, 0.8529378531073446, 0.8529378531073446, 0.8529378531073446, 0.8529378531073446, 0.8529378531073446, 0.8529378531073446, 0.8529378531073446, 0.8529378531073446, 0.876271186440678, 0.876271186440678]}], \"f1_score_weighted\": [{\"categories\": [\"0\", \"1\", \"2\", \"3\", \"4\", \"5\", \"6\", \"7\", \"8\", \"9\", \"10\", \"11\", \"12\", \"13\", \"14\", \"15\", \"16\", \"17\", \"18\", \"19\", \"20\", \"21\", \"22\", \"23\", \"24\", \"25\", \"26\", \"27\", \"28\", \"29\", \"30\", \"31\", \"32\", \"33\", \"38\", \"39\"], \"mode\": \"markers\", \"name\": \"f1_score_weighted\", \"stepped\": false, \"type\": \"scatter\", \"data\": [0.8014398448329555, 0.8237396450256732, 0.8347431935924833, 0.823382181193834, 0.8414545205634993, 0.8262031137475002, 0.8329053777495179, 0.6775397848409532, 0.8440887176790568, 0.8157297548639766, 0.6720795891078015, 0.8223204875422689, 0.811530188210338, 0.8211225849977077, 0.8472165219020411, 0.8308443109274345, 0.8161214746749401, 0.8445786473037667, 0.7888122775759685, 0.7978568902123416, 0.8359074059141776, 0.8039757220257486, 0.6537058360775021, 0.8312373721796762, 0.641502299841339, 0.5526564268547016, 0.8414895456242963, 0.8295439718459032, 0.8072359886476956, 0.8216698725350347, 0.8157173274369273, 0.8380306742965449, 0.8407083864469168, 0.7948733786077031, 0.8711622999321242, 0.8514335598463129]}, {\"categories\": [\"0\", \"1\", \"2\", \"3\", \"4\", \"5\", \"6\", \"7\", \"8\", \"9\", \"10\", \"11\", \"12\", \"13\", \"14\", \"15\", \"16\", \"17\", \"18\", \"19\", \"20\", \"21\", \"22\", \"23\", \"24\", \"25\", \"26\", \"27\", \"28\", \"29\", \"30\", \"31\", \"32\", \"33\", \"38\", \"39\"], \"mode\": \"lines\", \"name\": \"f1_score_weighted_max\", \"stepped\": true, \"type\": \"scatter\", \"data\": [0.8014398448329555, 0.8237396450256732, 0.8347431935924833, 0.8347431935924833, 0.8414545205634993, 0.8414545205634993, 0.8414545205634993, 0.8414545205634993, 0.8440887176790568, 0.8440887176790568, 0.8440887176790568, 0.8440887176790568, 0.8440887176790568, 0.8440887176790568, 0.8472165219020411, 0.8472165219020411, 0.8472165219020411, 0.8472165219020411, 0.8472165219020411, 0.8472165219020411, 0.8472165219020411, 0.8472165219020411, 0.8472165219020411, 0.8472165219020411, 0.8472165219020411, 0.8472165219020411, 0.8472165219020411, 0.8472165219020411, 0.8472165219020411, 0.8472165219020411, 0.8472165219020411, 0.8472165219020411, 0.8472165219020411, 0.8472165219020411, 0.8711622999321242, 0.8711622999321242]}], \"average_precision_score_macro\": [{\"categories\": [\"0\", \"1\", \"2\", \"3\", \"4\", \"5\", \"6\", \"7\", \"8\", \"9\", \"10\", \"11\", \"12\", \"13\", \"14\", \"15\", \"16\", \"17\", \"18\", \"19\", \"20\", \"21\", \"22\", \"23\", \"24\", \"25\", \"26\", \"27\", \"28\", \"29\", \"30\", \"31\", \"32\", \"33\", \"38\", \"39\"], \"mode\": \"markers\", \"name\": \"average_precision_score_macro\", \"stepped\": false, \"type\": \"scatter\", \"data\": [0.8655792376041671, 0.8826936933050062, 0.8835668620087951, 0.8585996827569911, 0.8811764682695277, 0.8891543314741647, 0.8885059412230589, 0.7186906989939471, 0.8817569707809666, 0.873840304380457, 0.6994815281499879, 0.8987604117910106, 0.8798593422479083, 0.8776387925365589, 0.888235209056894, 0.8927065503562506, 0.851284927554245, 0.8802531433544377, 0.8349810331652406, 0.8809774694545638, 0.8746083907972663, 0.8329476717741734, 0.8481688096654706, 0.8485905850444991, 0.8507255422645763, 0.5110069182655423, 0.8949398558279773, 0.8531136407218067, 0.8636334059304496, 0.8783973279356948, 0.8552100903868081, 0.9000923651591328, 0.8825989994178831, 0.8900166333239057, 0.8955512286675239, 0.8947300035560819]}, {\"categories\": [\"0\", \"1\", \"2\", \"3\", \"4\", \"5\", \"6\", \"7\", \"8\", \"9\", \"10\", \"11\", \"12\", \"13\", \"14\", \"15\", \"16\", \"17\", \"18\", \"19\", \"20\", \"21\", \"22\", \"23\", \"24\", \"25\", \"26\", \"27\", \"28\", \"29\", \"30\", \"31\", \"32\", \"33\", \"38\", \"39\"], \"mode\": \"lines\", \"name\": \"average_precision_score_macro_max\", \"stepped\": true, \"type\": \"scatter\", \"data\": [0.8655792376041671, 0.8826936933050062, 0.8835668620087951, 0.8835668620087951, 0.8835668620087951, 0.8891543314741647, 0.8891543314741647, 0.8891543314741647, 0.8891543314741647, 0.8891543314741647, 0.8891543314741647, 0.8987604117910106, 0.8987604117910106, 0.8987604117910106, 0.8987604117910106, 0.8987604117910106, 0.8987604117910106, 0.8987604117910106, 0.8987604117910106, 0.8987604117910106, 0.8987604117910106, 0.8987604117910106, 0.8987604117910106, 0.8987604117910106, 0.8987604117910106, 0.8987604117910106, 0.8987604117910106, 0.8987604117910106, 0.8987604117910106, 0.8987604117910106, 0.8987604117910106, 0.9000923651591328, 0.9000923651591328, 0.9000923651591328, 0.9000923651591328, 0.9000923651591328]}], \"AUC_micro\": [{\"categories\": [\"0\", \"1\", \"2\", \"3\", \"4\", \"5\", \"6\", \"7\", \"8\", \"9\", \"10\", \"11\", \"12\", \"13\", \"14\", \"15\", \"16\", \"17\", \"18\", \"19\", \"20\", \"21\", \"22\", \"23\", \"24\", \"25\", \"26\", \"27\", \"28\", \"29\", \"30\", \"31\", \"32\", \"33\", \"38\", \"39\"], \"mode\": \"markers\", \"name\": \"AUC_micro\", \"stepped\": false, \"type\": \"scatter\", \"data\": [0.8880105014523284, 0.8999905678444892, 0.9099492483002969, 0.8952840180024897, 0.9084649366401736, 0.9060793513996614, 0.9045741325928054, 0.7801916993839575, 0.9035812346388331, 0.8961263525806761, 0.7703821140157683, 0.9136619745283922, 0.9013220019789971, 0.8894549458967729, 0.9081690925340737, 0.9043063295987743, 0.8854616010724887, 0.9057792460659453, 0.8780171566280442, 0.8958025312011235, 0.898762169236171, 0.8762564716396948, 0.8453732963069361, 0.8806223227680423, 0.8373709183184909, 0.6797033579112005, 0.9068671039611861, 0.8904582655048039, 0.8858087075872195, 0.8968538095694084, 0.8756130741485524, 0.9144696606977561, 0.9028561875578538, 0.9021990168853138, 0.9174269207443582, 0.9084231223467075]}, {\"categories\": [\"0\", \"1\", \"2\", \"3\", \"4\", \"5\", \"6\", \"7\", \"8\", \"9\", \"10\", \"11\", \"12\", \"13\", \"14\", \"15\", \"16\", \"17\", \"18\", \"19\", \"20\", \"21\", \"22\", \"23\", \"24\", \"25\", \"26\", \"27\", \"28\", \"29\", \"30\", \"31\", \"32\", \"33\", \"38\", \"39\"], \"mode\": \"lines\", \"name\": \"AUC_micro_max\", \"stepped\": true, \"type\": \"scatter\", \"data\": [0.8880105014523284, 0.8999905678444892, 0.9099492483002969, 0.9099492483002969, 0.9099492483002969, 0.9099492483002969, 0.9099492483002969, 0.9099492483002969, 0.9099492483002969, 0.9099492483002969, 0.9099492483002969, 0.9136619745283922, 0.9136619745283922, 0.9136619745283922, 0.9136619745283922, 0.9136619745283922, 0.9136619745283922, 0.9136619745283922, 0.9136619745283922, 0.9136619745283922, 0.9136619745283922, 0.9136619745283922, 0.9136619745283922, 0.9136619745283922, 0.9136619745283922, 0.9136619745283922, 0.9136619745283922, 0.9136619745283922, 0.9136619745283922, 0.9136619745283922, 0.9136619745283922, 0.9144696606977561, 0.9144696606977561, 0.9144696606977561, 0.9174269207443582, 0.9174269207443582]}], \"matthews_correlation\": [{\"categories\": [\"0\", \"1\", \"2\", \"3\", \"4\", \"5\", \"6\", \"7\", \"8\", \"9\", \"10\", \"11\", \"12\", \"13\", \"14\", \"15\", \"16\", \"17\", \"18\", \"19\", \"20\", \"21\", \"22\", \"23\", \"24\", \"25\", \"26\", \"27\", \"28\", \"29\", \"30\", \"31\", \"32\", \"33\", \"38\", \"39\"], \"mode\": \"markers\", \"name\": \"matthews_correlation\", \"stepped\": false, \"type\": \"scatter\", \"data\": [0.5628617041183437, 0.6132552509330647, 0.6320189083474231, 0.5968510727457773, 0.6450487558473079, 0.6096658776282797, 0.6308447541461086, 0.284976691598912, 0.6604081807336983, 0.6162686798389891, 0.27610678986390924, 0.6012624165487074, 0.5847073483553046, 0.6155145651986302, 0.6691004922723868, 0.6234116153494524, 0.5894205461764175, 0.6568903004948619, 0.551473312050151, 0.5449639559630205, 0.6386361909509449, 0.5428697166604373, 0.318739405034189, 0.6254550136913284, 0.31369858911274334, 0.0, 0.6434829400534046, 0.6226348862652756, 0.5702920584248984, 0.6004116880939281, 0.6099896745728801, 0.6457607219460622, 0.6412002670464352, 0.5438869354935804, 0.7240576532006674, 0.6774030858965047]}, {\"categories\": [\"0\", \"1\", \"2\", \"3\", \"4\", \"5\", \"6\", \"7\", \"8\", \"9\", \"10\", \"11\", \"12\", \"13\", \"14\", \"15\", \"16\", \"17\", \"18\", \"19\", \"20\", \"21\", \"22\", \"23\", \"24\", \"25\", \"26\", \"27\", \"28\", \"29\", \"30\", \"31\", \"32\", \"33\", \"38\", \"39\"], \"mode\": \"lines\", \"name\": \"matthews_correlation_max\", \"stepped\": true, \"type\": \"scatter\", \"data\": [0.5628617041183437, 0.6132552509330647, 0.6320189083474231, 0.6320189083474231, 0.6450487558473079, 0.6450487558473079, 0.6450487558473079, 0.6450487558473079, 0.6604081807336983, 0.6604081807336983, 0.6604081807336983, 0.6604081807336983, 0.6604081807336983, 0.6604081807336983, 0.6691004922723868, 0.6691004922723868, 0.6691004922723868, 0.6691004922723868, 0.6691004922723868, 0.6691004922723868, 0.6691004922723868, 0.6691004922723868, 0.6691004922723868, 0.6691004922723868, 0.6691004922723868, 0.6691004922723868, 0.6691004922723868, 0.6691004922723868, 0.6691004922723868, 0.6691004922723868, 0.6691004922723868, 0.6691004922723868, 0.6691004922723868, 0.6691004922723868, 0.7240576532006674, 0.7240576532006674]}], \"balanced_accuracy\": [{\"categories\": [\"0\", \"1\", \"2\", \"3\", \"4\", \"5\", \"6\", \"7\", \"8\", \"9\", \"10\", \"11\", \"12\", \"13\", \"14\", \"15\", \"16\", \"17\", \"18\", \"19\", \"20\", \"21\", \"22\", \"23\", \"24\", \"25\", \"26\", \"27\", \"28\", \"29\", \"30\", \"31\", \"32\", \"33\", \"38\", \"39\"], \"mode\": \"markers\", \"name\": \"balanced_accuracy\", \"stepped\": false, \"type\": \"scatter\", \"data\": [0.7760209025470652, 0.8060125968992248, 0.8049958471760796, 0.7920840254706534, 0.8231215393133997, 0.801671511627907, 0.8145923311184939, 0.620344684385382, 0.8268369324473974, 0.7896387043189369, 0.6052851605758582, 0.7975089977851606, 0.7787970653377629, 0.7778232281284607, 0.8152083333333333, 0.8027512458471762, 0.7812631506090808, 0.8112458471760797, 0.7578107696566999, 0.7523684939091916, 0.8166756644518273, 0.7602512458471761, 0.5864880952380952, 0.8015351605758582, 0.5727380952380953, 0.5, 0.8090607696566998, 0.8033720930232559, 0.8012721483942414, 0.8092268826135104, 0.772938122923588, 0.815876245847176, 0.8189929401993356, 0.7584911406423034, 0.8443410852713178, 0.8294518272425249]}, {\"categories\": [\"0\", \"1\", \"2\", \"3\", \"4\", \"5\", \"6\", \"7\", \"8\", \"9\", \"10\", \"11\", \"12\", \"13\", \"14\", \"15\", \"16\", \"17\", \"18\", \"19\", \"20\", \"21\", \"22\", \"23\", \"24\", \"25\", \"26\", \"27\", \"28\", \"29\", \"30\", \"31\", \"32\", \"33\", \"38\", \"39\"], \"mode\": \"lines\", \"name\": \"balanced_accuracy_max\", \"stepped\": true, \"type\": \"scatter\", \"data\": [0.7760209025470652, 0.8060125968992248, 0.8060125968992248, 0.8060125968992248, 0.8231215393133997, 0.8231215393133997, 0.8231215393133997, 0.8231215393133997, 0.8268369324473974, 0.8268369324473974, 0.8268369324473974, 0.8268369324473974, 0.8268369324473974, 0.8268369324473974, 0.8268369324473974, 0.8268369324473974, 0.8268369324473974, 0.8268369324473974, 0.8268369324473974, 0.8268369324473974, 0.8268369324473974, 0.8268369324473974, 0.8268369324473974, 0.8268369324473974, 0.8268369324473974, 0.8268369324473974, 0.8268369324473974, 0.8268369324473974, 0.8268369324473974, 0.8268369324473974, 0.8268369324473974, 0.8268369324473974, 0.8268369324473974, 0.8268369324473974, 0.8443410852713178, 0.8443410852713178]}], \"precision_score_macro\": [{\"categories\": [\"0\", \"1\", \"2\", \"3\", \"4\", \"5\", \"6\", \"7\", \"8\", \"9\", \"10\", \"11\", \"12\", \"13\", \"14\", \"15\", \"16\", \"17\", \"18\", \"19\", \"20\", \"21\", \"22\", \"23\", \"24\", \"25\", \"26\", \"27\", \"28\", \"29\", \"30\", \"31\", \"32\", \"33\", \"38\", \"39\"], \"mode\": \"markers\", \"name\": \"precision_score_macro\", \"stepped\": false, \"type\": \"scatter\", \"data\": [0.7889041743265773, 0.8086642059265495, 0.8305295520486018, 0.8058316102731705, 0.8233729669023786, 0.8093279425888122, 0.8181390361481895, 0.6743476704135495, 0.836190434874329, 0.8342656144205393, 0.6868284945005254, 0.8054985619516511, 0.8099015168157496, 0.8440071811301774, 0.8582526173590003, 0.8225492456976522, 0.8106583750313735, 0.848492463658258, 0.7998373741915941, 0.795693303996062, 0.8236644309470396, 0.7842618251313904, 0.8168872843382211, 0.8264809266702988, 0.8553372166402404, 0.33954802259887, 0.8355654079460381, 0.8209439634648869, 0.7705714907727291, 0.7928971541936882, 0.8430018552875695, 0.8324841650211677, 0.8232658683581333, 0.788894671581007, 0.8825576592669299, 0.8505800518572176]}, {\"categories\": [\"0\", \"1\", \"2\", \"3\", \"4\", \"5\", \"6\", \"7\", \"8\", \"9\", \"10\", \"11\", \"12\", \"13\", \"14\", \"15\", \"16\", \"17\", \"18\", \"19\", \"20\", \"21\", \"22\", \"23\", \"24\", \"25\", \"26\", \"27\", \"28\", \"29\", \"30\", \"31\", \"32\", \"33\", \"38\", \"39\"], \"mode\": \"lines\", \"name\": \"precision_score_macro_max\", \"stepped\": true, \"type\": \"scatter\", \"data\": [0.7889041743265773, 0.8086642059265495, 0.8305295520486018, 0.8305295520486018, 0.8305295520486018, 0.8305295520486018, 0.8305295520486018, 0.8305295520486018, 0.836190434874329, 0.836190434874329, 0.836190434874329, 0.836190434874329, 0.836190434874329, 0.8440071811301774, 0.8582526173590003, 0.8582526173590003, 0.8582526173590003, 0.8582526173590003, 0.8582526173590003, 0.8582526173590003, 0.8582526173590003, 0.8582526173590003, 0.8582526173590003, 0.8582526173590003, 0.8582526173590003, 0.8582526173590003, 0.8582526173590003, 0.8582526173590003, 0.8582526173590003, 0.8582526173590003, 0.8582526173590003, 0.8582526173590003, 0.8582526173590003, 0.8582526173590003, 0.8825576592669299, 0.8825576592669299]}], \"average_precision_score_weighted\": [{\"categories\": [\"0\", \"1\", \"2\", \"3\", \"4\", \"5\", \"6\", \"7\", \"8\", \"9\", \"10\", \"11\", \"12\", \"13\", \"14\", \"15\", \"16\", \"17\", \"18\", \"19\", \"20\", \"21\", \"22\", \"23\", \"24\", \"25\", \"26\", \"27\", \"28\", \"29\", \"30\", \"31\", \"32\", \"33\", \"38\", \"39\"], \"mode\": \"markers\", \"name\": \"average_precision_score_weighted\", \"stepped\": false, \"type\": \"scatter\", \"data\": [0.8955370396295249, 0.9103506263314479, 0.91024040723729, 0.8939264726315749, 0.9131215134783848, 0.9145641371619069, 0.9133498326263536, 0.7677271890102324, 0.907549263035289, 0.9046303292122181, 0.7525165858357158, 0.9213952375025876, 0.9116669627645686, 0.9023526127702899, 0.9128274569515998, 0.9150735346975256, 0.8899023871517153, 0.9044364305652293, 0.8753573638077337, 0.9095936110827662, 0.9020812761068374, 0.8720059756545379, 0.8838192572117978, 0.8738960431370266, 0.8831386264012501, 0.5909699322339451, 0.9182639428948713, 0.8807046536139994, 0.8925750980380119, 0.9031955884223374, 0.8846025670732656, 0.9256955344049468, 0.91099750597411, 0.9168639349534307, 0.9215099043290393, 0.9209489700660873]}, {\"categories\": [\"0\", \"1\", \"2\", \"3\", \"4\", \"5\", \"6\", \"7\", \"8\", \"9\", \"10\", \"11\", \"12\", \"13\", \"14\", \"15\", \"16\", \"17\", \"18\", \"19\", \"20\", \"21\", \"22\", \"23\", \"24\", \"25\", \"26\", \"27\", \"28\", \"29\", \"30\", \"31\", \"32\", \"33\", \"38\", \"39\"], \"mode\": \"lines\", \"name\": \"average_precision_score_weighted_max\", \"stepped\": true, \"type\": \"scatter\", \"data\": [0.8955370396295249, 0.9103506263314479, 0.9103506263314479, 0.9103506263314479, 0.9131215134783848, 0.9145641371619069, 0.9145641371619069, 0.9145641371619069, 0.9145641371619069, 0.9145641371619069, 0.9145641371619069, 0.9213952375025876, 0.9213952375025876, 0.9213952375025876, 0.9213952375025876, 0.9213952375025876, 0.9213952375025876, 0.9213952375025876, 0.9213952375025876, 0.9213952375025876, 0.9213952375025876, 0.9213952375025876, 0.9213952375025876, 0.9213952375025876, 0.9213952375025876, 0.9213952375025876, 0.9213952375025876, 0.9213952375025876, 0.9213952375025876, 0.9213952375025876, 0.9213952375025876, 0.9256955344049468, 0.9256955344049468, 0.9256955344049468, 0.9256955344049468, 0.9256955344049468]}], \"accuracy\": [{\"categories\": [\"0\", \"1\", \"2\", \"3\", \"4\", \"5\", \"6\", \"7\", \"8\", \"9\", \"10\", \"11\", \"12\", \"13\", \"14\", \"15\", \"16\", \"17\", \"18\", \"19\", \"20\", \"21\", \"22\", \"23\", \"24\", \"25\", \"26\", \"27\", \"28\", \"29\", \"30\", \"31\", \"32\", \"33\", \"38\", \"39\"], \"mode\": \"markers\", \"name\": \"accuracy\", \"stepped\": false, \"type\": \"scatter\", \"data\": [0.8059887005649717, 0.8259322033898304, 0.8394915254237288, 0.8258757062146893, 0.8424858757062147, 0.8292655367231638, 0.836045197740113, 0.7057627118644068, 0.846271186440678, 0.8261581920903955, 0.7057627118644068, 0.8259887005649718, 0.8193220338983052, 0.8327683615819209, 0.8529378531073446, 0.836045197740113, 0.8227118644067797, 0.8496045197740113, 0.8027118644067797, 0.806045197740113, 0.8393785310734463, 0.8093785310734465, 0.7258757062146893, 0.8361581920903955, 0.722542372881356, 0.67909604519774, 0.8460451977401131, 0.8327683615819208, 0.8025988700564971, 0.8193220338983049, 0.8293785310734464, 0.8427118644067797, 0.8426553672316384, 0.8025988700564971, 0.876271186440678, 0.8561581920903955]}, {\"categories\": [\"0\", \"1\", \"2\", \"3\", \"4\", \"5\", \"6\", \"7\", \"8\", \"9\", \"10\", \"11\", \"12\", \"13\", \"14\", \"15\", \"16\", \"17\", \"18\", \"19\", \"20\", \"21\", \"22\", \"23\", \"24\", \"25\", \"26\", \"27\", \"28\", \"29\", \"30\", \"31\", \"32\", \"33\", \"38\", \"39\"], \"mode\": \"lines\", \"name\": \"accuracy_max\", \"stepped\": true, \"type\": \"scatter\", \"data\": [0.8059887005649717, 0.8259322033898304, 0.8394915254237288, 0.8394915254237288, 0.8424858757062147, 0.8424858757062147, 0.8424858757062147, 0.8424858757062147, 0.846271186440678, 0.846271186440678, 0.846271186440678, 0.846271186440678, 0.846271186440678, 0.846271186440678, 0.8529378531073446, 0.8529378531073446, 0.8529378531073446, 0.8529378531073446, 0.8529378531073446, 0.8529378531073446, 0.8529378531073446, 0.8529378531073446, 0.8529378531073446, 0.8529378531073446, 0.8529378531073446, 0.8529378531073446, 0.8529378531073446, 0.8529378531073446, 0.8529378531073446, 0.8529378531073446, 0.8529378531073446, 0.8529378531073446, 0.8529378531073446, 0.8529378531073446, 0.876271186440678, 0.876271186440678]}], \"AUC_weighted\": [{\"categories\": [\"0\", \"1\", \"2\", \"3\", \"4\", \"5\", \"6\", \"7\", \"8\", \"9\", \"10\", \"11\", \"12\", \"13\", \"14\", \"15\", \"16\", \"17\", \"18\", \"19\", \"20\", \"21\", \"22\", \"23\", \"24\", \"25\", \"26\", \"27\", \"28\", \"29\", \"30\", \"31\", \"32\", \"33\", \"38\", \"39\"], \"mode\": \"markers\", \"name\": \"AUC_weighted\", \"stepped\": false, \"type\": \"scatter\", \"data\": [0.8811331210778885, 0.8929591177556293, 0.8970151462716869, 0.8872476467331118, 0.9042426172019195, 0.9005360372831304, 0.8986506782945737, 0.7394446982281285, 0.894921534699151, 0.8907245985603544, 0.7084471207087486, 0.9064236803248431, 0.9000194259874492, 0.8869861341823551, 0.9036807170542633, 0.9007161314138058, 0.8940475959763751, 0.8940481035437431, 0.8853673288113695, 0.8952864525655224, 0.8899027085640456, 0.8592381875230715, 0.8704584717607974, 0.8664663159837579, 0.8609509274640089, 0.49590473883351793, 0.9042281976744185, 0.8742910322074569, 0.8765574012550758, 0.8895765042451089, 0.8674083148763382, 0.9145072905131044, 0.8981953903654485, 0.9024492201919528, 0.9157634736064969, 0.9155967838685865]}, {\"categories\": [\"0\", \"1\", \"2\", \"3\", \"4\", \"5\", \"6\", \"7\", \"8\", \"9\", \"10\", \"11\", \"12\", \"13\", \"14\", \"15\", \"16\", \"17\", \"18\", \"19\", \"20\", \"21\", \"22\", \"23\", \"24\", \"25\", \"26\", \"27\", \"28\", \"29\", \"30\", \"31\", \"32\", \"33\", \"38\", \"39\"], \"mode\": \"lines\", \"name\": \"AUC_weighted_max\", \"stepped\": true, \"type\": \"scatter\", \"data\": [0.8811331210778885, 0.8929591177556293, 0.8970151462716869, 0.8970151462716869, 0.9042426172019195, 0.9042426172019195, 0.9042426172019195, 0.9042426172019195, 0.9042426172019195, 0.9042426172019195, 0.9042426172019195, 0.9064236803248431, 0.9064236803248431, 0.9064236803248431, 0.9064236803248431, 0.9064236803248431, 0.9064236803248431, 0.9064236803248431, 0.9064236803248431, 0.9064236803248431, 0.9064236803248431, 0.9064236803248431, 0.9064236803248431, 0.9064236803248431, 0.9064236803248431, 0.9064236803248431, 0.9064236803248431, 0.9064236803248431, 0.9064236803248431, 0.9064236803248431, 0.9064236803248431, 0.9145072905131044, 0.9145072905131044, 0.9145072905131044, 0.9157634736064969, 0.9157634736064969]}], \"precision_score_weighted\": [{\"categories\": [\"0\", \"1\", \"2\", \"3\", \"4\", \"5\", \"6\", \"7\", \"8\", \"9\", \"10\", \"11\", \"12\", \"13\", \"14\", \"15\", \"16\", \"17\", \"18\", \"19\", \"20\", \"21\", \"22\", \"23\", \"24\", \"25\", \"26\", \"27\", \"28\", \"29\", \"30\", \"31\", \"32\", \"33\", \"38\", \"39\"], \"mode\": \"markers\", \"name\": \"precision_score_weighted\", \"stepped\": false, \"type\": \"scatter\", \"data\": [0.8237683758533973, 0.8403871377947292, 0.8505406879336659, 0.8371095106427212, 0.8572481640437772, 0.8411081656136925, 0.8515177968161716, 0.7169190649034272, 0.8646464804683163, 0.852412546738455, 0.7241096734089767, 0.8404299061895152, 0.8375091205895793, 0.8475910578611036, 0.8676141765301522, 0.8474662566886314, 0.8361078787627895, 0.8634172995690739, 0.8226124253630431, 0.8184873137379034, 0.8540076868300893, 0.8196810460480322, 0.7951590026255504, 0.8527462080299621, 0.8116691477200876, 0.4689005075169971, 0.8531691259234815, 0.8486384069915097, 0.8225327563276874, 0.8398983943127891, 0.8446152240728513, 0.8605005598925228, 0.8540402263338889, 0.820641028854525, 0.8913234326344449, 0.8735920563826474]}, {\"categories\": [\"0\", \"1\", \"2\", \"3\", \"4\", \"5\", \"6\", \"7\", \"8\", \"9\", \"10\", \"11\", \"12\", \"13\", \"14\", \"15\", \"16\", \"17\", \"18\", \"19\", \"20\", \"21\", \"22\", \"23\", \"24\", \"25\", \"26\", \"27\", \"28\", \"29\", \"30\", \"31\", \"32\", \"33\", \"38\", \"39\"], \"mode\": \"lines\", \"name\": \"precision_score_weighted_max\", \"stepped\": true, \"type\": \"scatter\", \"data\": [0.8237683758533973, 0.8403871377947292, 0.8505406879336659, 0.8505406879336659, 0.8572481640437772, 0.8572481640437772, 0.8572481640437772, 0.8572481640437772, 0.8646464804683163, 0.8646464804683163, 0.8646464804683163, 0.8646464804683163, 0.8646464804683163, 0.8646464804683163, 0.8676141765301522, 0.8676141765301522, 0.8676141765301522, 0.8676141765301522, 0.8676141765301522, 0.8676141765301522, 0.8676141765301522, 0.8676141765301522, 0.8676141765301522, 0.8676141765301522, 0.8676141765301522, 0.8676141765301522, 0.8676141765301522, 0.8676141765301522, 0.8676141765301522, 0.8676141765301522, 0.8676141765301522, 0.8676141765301522, 0.8676141765301522, 0.8676141765301522, 0.8913234326344449, 0.8913234326344449]}], \"average_precision_score_micro\": [{\"categories\": [\"0\", \"1\", \"2\", \"3\", \"4\", \"5\", \"6\", \"7\", \"8\", \"9\", \"10\", \"11\", \"12\", \"13\", \"14\", \"15\", \"16\", \"17\", \"18\", \"19\", \"20\", \"21\", \"22\", \"23\", \"24\", \"25\", \"26\", \"27\", \"28\", \"29\", \"30\", \"31\", \"32\", \"33\", \"38\", \"39\"], \"mode\": \"markers\", \"name\": \"average_precision_score_micro\", \"stepped\": false, \"type\": \"scatter\", \"data\": [0.887958292631032, 0.9018582931163117, 0.9084470056909859, 0.8911014189692921, 0.9101388032813869, 0.9087763176124563, 0.9057068411621885, 0.7604936418529022, 0.9020916181204706, 0.8993760782921816, 0.7523105486275167, 0.9144160074555735, 0.9057942011135921, 0.8910738490352342, 0.9092368652412828, 0.9050682649126307, 0.8859490806858659, 0.9026020432426062, 0.8717751211308231, 0.9002858258509431, 0.8981550547627764, 0.8723071880091318, 0.8517523958972651, 0.8675032753140947, 0.8489332505100213, 0.6420705588978788, 0.909216697909528, 0.8803170896692747, 0.8857711364166565, 0.8900632586569998, 0.8763152890221179, 0.9192457693070555, 0.9058644949914424, 0.9064026951728902, 0.9190606176275715, 0.9085495722639074]}, {\"categories\": [\"0\", \"1\", \"2\", \"3\", \"4\", \"5\", \"6\", \"7\", \"8\", \"9\", \"10\", \"11\", \"12\", \"13\", \"14\", \"15\", \"16\", \"17\", \"18\", \"19\", \"20\", \"21\", \"22\", \"23\", \"24\", \"25\", \"26\", \"27\", \"28\", \"29\", \"30\", \"31\", \"32\", \"33\", \"38\", \"39\"], \"mode\": \"lines\", \"name\": \"average_precision_score_micro_max\", \"stepped\": true, \"type\": \"scatter\", \"data\": [0.887958292631032, 0.9018582931163117, 0.9084470056909859, 0.9084470056909859, 0.9101388032813869, 0.9101388032813869, 0.9101388032813869, 0.9101388032813869, 0.9101388032813869, 0.9101388032813869, 0.9101388032813869, 0.9144160074555735, 0.9144160074555735, 0.9144160074555735, 0.9144160074555735, 0.9144160074555735, 0.9144160074555735, 0.9144160074555735, 0.9144160074555735, 0.9144160074555735, 0.9144160074555735, 0.9144160074555735, 0.9144160074555735, 0.9144160074555735, 0.9144160074555735, 0.9144160074555735, 0.9144160074555735, 0.9144160074555735, 0.9144160074555735, 0.9144160074555735, 0.9144160074555735, 0.9192457693070555, 0.9192457693070555, 0.9192457693070555, 0.9192457693070555, 0.9192457693070555]}], \"recall_score_macro\": [{\"categories\": [\"0\", \"1\", \"2\", \"3\", \"4\", \"5\", \"6\", \"7\", \"8\", \"9\", \"10\", \"11\", \"12\", \"13\", \"14\", \"15\", \"16\", \"17\", \"18\", \"19\", \"20\", \"21\", \"22\", \"23\", \"24\", \"25\", \"26\", \"27\", \"28\", \"29\", \"30\", \"31\", \"32\", \"33\", \"38\", \"39\"], \"mode\": \"markers\", \"name\": \"recall_score_macro\", \"stepped\": false, \"type\": \"scatter\", \"data\": [0.7760209025470652, 0.8060125968992248, 0.8049958471760796, 0.7920840254706534, 0.8231215393133997, 0.801671511627907, 0.8145923311184939, 0.620344684385382, 0.8268369324473974, 0.7896387043189369, 0.6052851605758582, 0.7975089977851606, 0.7787970653377629, 0.7778232281284607, 0.8152083333333333, 0.8027512458471762, 0.7812631506090808, 0.8112458471760797, 0.7578107696566999, 0.7523684939091916, 0.8166756644518273, 0.7602512458471761, 0.5864880952380952, 0.8015351605758582, 0.5727380952380953, 0.5, 0.8090607696566998, 0.8033720930232559, 0.8012721483942414, 0.8092268826135104, 0.772938122923588, 0.815876245847176, 0.8189929401993356, 0.7584911406423034, 0.8443410852713178, 0.8294518272425249]}, {\"categories\": [\"0\", \"1\", \"2\", \"3\", \"4\", \"5\", \"6\", \"7\", \"8\", \"9\", \"10\", \"11\", \"12\", \"13\", \"14\", \"15\", \"16\", \"17\", \"18\", \"19\", \"20\", \"21\", \"22\", \"23\", \"24\", \"25\", \"26\", \"27\", \"28\", \"29\", \"30\", \"31\", \"32\", \"33\", \"38\", \"39\"], \"mode\": \"lines\", \"name\": \"recall_score_macro_max\", \"stepped\": true, \"type\": \"scatter\", \"data\": [0.7760209025470652, 0.8060125968992248, 0.8060125968992248, 0.8060125968992248, 0.8231215393133997, 0.8231215393133997, 0.8231215393133997, 0.8231215393133997, 0.8268369324473974, 0.8268369324473974, 0.8268369324473974, 0.8268369324473974, 0.8268369324473974, 0.8268369324473974, 0.8268369324473974, 0.8268369324473974, 0.8268369324473974, 0.8268369324473974, 0.8268369324473974, 0.8268369324473974, 0.8268369324473974, 0.8268369324473974, 0.8268369324473974, 0.8268369324473974, 0.8268369324473974, 0.8268369324473974, 0.8268369324473974, 0.8268369324473974, 0.8268369324473974, 0.8268369324473974, 0.8268369324473974, 0.8268369324473974, 0.8268369324473974, 0.8268369324473974, 0.8443410852713178, 0.8443410852713178]}], \"precision_score_micro\": [{\"categories\": [\"0\", \"1\", \"2\", \"3\", \"4\", \"5\", \"6\", \"7\", \"8\", \"9\", \"10\", \"11\", \"12\", \"13\", \"14\", \"15\", \"16\", \"17\", \"18\", \"19\", \"20\", \"21\", \"22\", \"23\", \"24\", \"25\", \"26\", \"27\", \"28\", \"29\", \"30\", \"31\", \"32\", \"33\", \"38\", \"39\"], \"mode\": \"markers\", \"name\": \"precision_score_micro\", \"stepped\": false, \"type\": \"scatter\", \"data\": [0.8059887005649717, 0.8259322033898304, 0.8394915254237288, 0.8258757062146893, 0.8424858757062147, 0.8292655367231638, 0.836045197740113, 0.7057627118644068, 0.846271186440678, 0.8261581920903955, 0.7057627118644068, 0.8259887005649718, 0.8193220338983052, 0.8327683615819209, 0.8529378531073446, 0.836045197740113, 0.8227118644067797, 0.8496045197740113, 0.8027118644067797, 0.806045197740113, 0.8393785310734463, 0.8093785310734465, 0.7258757062146893, 0.8361581920903955, 0.722542372881356, 0.67909604519774, 0.8460451977401131, 0.8327683615819208, 0.8025988700564971, 0.8193220338983049, 0.8293785310734464, 0.8427118644067797, 0.8426553672316384, 0.8025988700564971, 0.876271186440678, 0.8561581920903955]}, {\"categories\": [\"0\", \"1\", \"2\", \"3\", \"4\", \"5\", \"6\", \"7\", \"8\", \"9\", \"10\", \"11\", \"12\", \"13\", \"14\", \"15\", \"16\", \"17\", \"18\", \"19\", \"20\", \"21\", \"22\", \"23\", \"24\", \"25\", \"26\", \"27\", \"28\", \"29\", \"30\", \"31\", \"32\", \"33\", \"38\", \"39\"], \"mode\": \"lines\", \"name\": \"precision_score_micro_max\", \"stepped\": true, \"type\": \"scatter\", \"data\": [0.8059887005649717, 0.8259322033898304, 0.8394915254237288, 0.8394915254237288, 0.8424858757062147, 0.8424858757062147, 0.8424858757062147, 0.8424858757062147, 0.846271186440678, 0.846271186440678, 0.846271186440678, 0.846271186440678, 0.846271186440678, 0.846271186440678, 0.8529378531073446, 0.8529378531073446, 0.8529378531073446, 0.8529378531073446, 0.8529378531073446, 0.8529378531073446, 0.8529378531073446, 0.8529378531073446, 0.8529378531073446, 0.8529378531073446, 0.8529378531073446, 0.8529378531073446, 0.8529378531073446, 0.8529378531073446, 0.8529378531073446, 0.8529378531073446, 0.8529378531073446, 0.8529378531073446, 0.8529378531073446, 0.8529378531073446, 0.876271186440678, 0.876271186440678]}], \"f1_score_macro\": [{\"categories\": [\"0\", \"1\", \"2\", \"3\", \"4\", \"5\", \"6\", \"7\", \"8\", \"9\", \"10\", \"11\", \"12\", \"13\", \"14\", \"15\", \"16\", \"17\", \"18\", \"19\", \"20\", \"21\", \"22\", \"23\", \"24\", \"25\", \"26\", \"27\", \"28\", \"29\", \"30\", \"31\", \"32\", \"33\", \"38\", \"39\"], \"mode\": \"markers\", \"name\": \"f1_score_macro\", \"stepped\": false, \"type\": \"scatter\", \"data\": [0.7682096405971308, 0.7972526241921125, 0.8047227670770152, 0.7903805842414512, 0.8140074019350692, 0.7959542206068344, 0.8045736250875164, 0.6083941113414847, 0.8182329158586782, 0.784384931703028, 0.5952835801957225, 0.789867650080416, 0.7755671448981013, 0.7876719306508143, 0.8206933662586717, 0.8008627271016635, 0.7815130779783559, 0.8161275803155832, 0.7522535529567671, 0.7581495763539354, 0.8086859462165015, 0.7611013563473851, 0.5589838478422292, 0.7998125468098698, 0.5373576202249606, 0.40276783177038933, 0.8136400838443922, 0.8005348979186188, 0.7784651931284498, 0.7913063206238601, 0.7832560003865161, 0.8095582612828547, 0.8130037508023327, 0.7560682887170775, 0.8493390992143179, 0.8255231666339646]}, {\"categories\": [\"0\", \"1\", \"2\", \"3\", \"4\", \"5\", \"6\", \"7\", \"8\", \"9\", \"10\", \"11\", \"12\", \"13\", \"14\", \"15\", \"16\", \"17\", \"18\", \"19\", \"20\", \"21\", \"22\", \"23\", \"24\", \"25\", \"26\", \"27\", \"28\", \"29\", \"30\", \"31\", \"32\", \"33\", \"38\", \"39\"], \"mode\": \"lines\", \"name\": \"f1_score_macro_max\", \"stepped\": true, \"type\": \"scatter\", \"data\": [0.7682096405971308, 0.7972526241921125, 0.8047227670770152, 0.8047227670770152, 0.8140074019350692, 0.8140074019350692, 0.8140074019350692, 0.8140074019350692, 0.8182329158586782, 0.8182329158586782, 0.8182329158586782, 0.8182329158586782, 0.8182329158586782, 0.8182329158586782, 0.8206933662586717, 0.8206933662586717, 0.8206933662586717, 0.8206933662586717, 0.8206933662586717, 0.8206933662586717, 0.8206933662586717, 0.8206933662586717, 0.8206933662586717, 0.8206933662586717, 0.8206933662586717, 0.8206933662586717, 0.8206933662586717, 0.8206933662586717, 0.8206933662586717, 0.8206933662586717, 0.8206933662586717, 0.8206933662586717, 0.8206933662586717, 0.8206933662586717, 0.8493390992143179, 0.8493390992143179]}], \"log_loss\": [{\"categories\": [\"0\", \"1\", \"2\", \"3\", \"4\", \"5\", \"6\", \"7\", \"8\", \"9\", \"10\", \"11\", \"12\", \"13\", \"14\", \"15\", \"16\", \"17\", \"18\", \"19\", \"20\", \"21\", \"22\", \"23\", \"24\", \"25\", \"26\", \"27\", \"28\", \"29\", \"30\", \"31\", \"32\", \"33\", \"38\", \"39\"], \"mode\": \"markers\", \"name\": \"log_loss\", \"stepped\": false, \"type\": \"scatter\", \"data\": [0.5282491261622873, 0.43217688137359717, 0.3930272773390286, 0.414589646713296, 0.3943974686942963, 0.386517141966245, 0.3910116780506413, 0.5917579664917402, 0.39668155380939407, 0.41609772050327454, 0.5926063371826197, 0.37579567099633243, 0.4186543752402951, 0.4417698074931744, 0.3945719984131062, 0.4270372037872674, 0.4583476083735859, 0.38995629857272407, 0.48738617928676964, 0.4128038689493926, 0.39549165874372555, 0.4899611430866921, 0.5269787159285023, 0.6618107301291278, 0.5398440676288282, 0.639174230608868, 0.4249549102616344, 0.4600718451244279, 0.42589718342121746, 0.47017709024421217, 0.4689006039523765, 0.37548935261788724, 0.3977261425278143, 0.3962197833816116, 0.3807835240971848, 0.3890565739441992]}, {\"categories\": [\"0\", \"1\", \"2\", \"3\", \"4\", \"5\", \"6\", \"7\", \"8\", \"9\", \"10\", \"11\", \"12\", \"13\", \"14\", \"15\", \"16\", \"17\", \"18\", \"19\", \"20\", \"21\", \"22\", \"23\", \"24\", \"25\", \"26\", \"27\", \"28\", \"29\", \"30\", \"31\", \"32\", \"33\", \"38\", \"39\"], \"mode\": \"lines\", \"name\": \"log_loss_min\", \"stepped\": true, \"type\": \"scatter\", \"data\": [0.5282491261622873, 0.43217688137359717, 0.3930272773390286, 0.3930272773390286, 0.3930272773390286, 0.386517141966245, 0.386517141966245, 0.386517141966245, 0.386517141966245, 0.386517141966245, 0.386517141966245, 0.37579567099633243, 0.37579567099633243, 0.37579567099633243, 0.37579567099633243, 0.37579567099633243, 0.37579567099633243, 0.37579567099633243, 0.37579567099633243, 0.37579567099633243, 0.37579567099633243, 0.37579567099633243, 0.37579567099633243, 0.37579567099633243, 0.37579567099633243, 0.37579567099633243, 0.37579567099633243, 0.37579567099633243, 0.37579567099633243, 0.37579567099633243, 0.37579567099633243, 0.37548935261788724, 0.37548935261788724, 0.37548935261788724, 0.37548935261788724, 0.37548935261788724]}], \"AUC_macro\": [{\"categories\": [\"0\", \"1\", \"2\", \"3\", \"4\", \"5\", \"6\", \"7\", \"8\", \"9\", \"10\", \"11\", \"12\", \"13\", \"14\", \"15\", \"16\", \"17\", \"18\", \"19\", \"20\", \"21\", \"22\", \"23\", \"24\", \"25\", \"26\", \"27\", \"28\", \"29\", \"30\", \"31\", \"32\", \"33\", \"38\", \"39\"], \"mode\": \"markers\", \"name\": \"AUC_macro\", \"stepped\": false, \"type\": \"scatter\", \"data\": [0.8811331210778885, 0.8929591177556295, 0.8970151462716869, 0.8872476467331118, 0.9042426172019195, 0.9005360372831304, 0.8986506782945737, 0.7394446982281285, 0.894921534699151, 0.8907245985603544, 0.7084471207087486, 0.9064236803248432, 0.9000194259874492, 0.8869861341823551, 0.9036807170542633, 0.9007161314138058, 0.8940475959763751, 0.8940481035437431, 0.8853673288113694, 0.8952864525655222, 0.8899027085640456, 0.8592381875230715, 0.8704584717607974, 0.866470036221853, 0.8609509274640089, 0.49590473883351793, 0.9042281976744185, 0.8742910322074566, 0.8765574012550758, 0.8895765042451089, 0.8674083148763382, 0.9145072905131044, 0.8981953903654485, 0.9024492201919527, 0.9157634736064969, 0.9155967838685862]}, {\"categories\": [\"0\", \"1\", \"2\", \"3\", \"4\", \"5\", \"6\", \"7\", \"8\", \"9\", \"10\", \"11\", \"12\", \"13\", \"14\", \"15\", \"16\", \"17\", \"18\", \"19\", \"20\", \"21\", \"22\", \"23\", \"24\", \"25\", \"26\", \"27\", \"28\", \"29\", \"30\", \"31\", \"32\", \"33\", \"38\", \"39\"], \"mode\": \"lines\", \"name\": \"AUC_macro_max\", \"stepped\": true, \"type\": \"scatter\", \"data\": [0.8811331210778885, 0.8929591177556295, 0.8970151462716869, 0.8970151462716869, 0.9042426172019195, 0.9042426172019195, 0.9042426172019195, 0.9042426172019195, 0.9042426172019195, 0.9042426172019195, 0.9042426172019195, 0.9064236803248432, 0.9064236803248432, 0.9064236803248432, 0.9064236803248432, 0.9064236803248432, 0.9064236803248432, 0.9064236803248432, 0.9064236803248432, 0.9064236803248432, 0.9064236803248432, 0.9064236803248432, 0.9064236803248432, 0.9064236803248432, 0.9064236803248432, 0.9064236803248432, 0.9064236803248432, 0.9064236803248432, 0.9064236803248432, 0.9064236803248432, 0.9064236803248432, 0.9145072905131044, 0.9145072905131044, 0.9145072905131044, 0.9157634736064969, 0.9157634736064969]}]}, \"metricName\": null, \"primaryMetricName\": \"accuracy\", \"showLegend\": false}, \"run_metrics\": [{\"name\": \"experiment_status\", \"run_id\": \"AutoML_b2f5bbc0-522b-448b-9be5-21fd243dd259\", \"categories\": [0, 1, 2, 3, 4, 5, 6, 7, 8, 9, 10, 11, 12, 13], \"series\": [{\"data\": [\"DatasetEvaluation\", \"FeaturesGeneration\", \"DatasetFeaturization\", \"DatasetFeaturizationCompleted\", \"DatasetCrossValidationSplit\", \"ModelSelection\", \"BestRunExplainModel\", \"ModelExplanationDataSetSetup\", \"PickSurrogateModel\", \"EngineeredFeatureExplanations\", \"EngineeredFeatureExplanations\", \"RawFeaturesExplanations\", \"RawFeaturesExplanations\", \"BestRunExplainModel\"]}]}, {\"name\": \"experiment_status_description\", \"run_id\": \"AutoML_b2f5bbc0-522b-448b-9be5-21fd243dd259\", \"categories\": [0, 1, 2, 3, 4, 5, 6, 7, 8, 9, 10, 11, 12, 13], \"series\": [{\"data\": [\"Gathering dataset statistics.\", \"Generating features for the dataset.\", \"Beginning to fit featurizers and featurize the dataset.\", \"Completed fit featurizers and featurizing the dataset.\", \"Generating individually featurized CV splits.\", \"Beginning model selection.\", \"Best run model explanations started\", \"Model explanations data setup completed\", \"Choosing LightGBM as the surrogate model for explanations\", \"Computation of engineered features started\", \"Computation of engineered features completed\", \"Computation of raw features started\", \"Computation of raw features completed\", \"Best run model explanations completed\"]}]}, {\"name\": \"average_precision_score_micro\", \"run_id\": \"AutoML_b2f5bbc0-522b-448b-9be5-21fd243dd259\", \"categories\": [0], \"series\": [{\"data\": [0.9190606176275715]}]}, {\"name\": \"precision_score_weighted\", \"run_id\": \"AutoML_b2f5bbc0-522b-448b-9be5-21fd243dd259\", \"categories\": [0], \"series\": [{\"data\": [0.8913234326344449]}]}, {\"name\": \"AUC_micro\", \"run_id\": \"AutoML_b2f5bbc0-522b-448b-9be5-21fd243dd259\", \"categories\": [0], \"series\": [{\"data\": [0.9174269207443582]}]}, {\"name\": \"average_precision_score_weighted\", \"run_id\": \"AutoML_b2f5bbc0-522b-448b-9be5-21fd243dd259\", \"categories\": [0], \"series\": [{\"data\": [0.9215099043290393]}]}, {\"name\": \"recall_score_macro\", \"run_id\": \"AutoML_b2f5bbc0-522b-448b-9be5-21fd243dd259\", \"categories\": [0], \"series\": [{\"data\": [0.8443410852713178]}]}, {\"name\": \"average_precision_score_macro\", \"run_id\": \"AutoML_b2f5bbc0-522b-448b-9be5-21fd243dd259\", \"categories\": [0], \"series\": [{\"data\": [0.8955512286675239]}]}, {\"name\": \"f1_score_micro\", \"run_id\": \"AutoML_b2f5bbc0-522b-448b-9be5-21fd243dd259\", \"categories\": [0], \"series\": [{\"data\": [0.876271186440678]}]}, {\"name\": \"f1_score_macro\", \"run_id\": \"AutoML_b2f5bbc0-522b-448b-9be5-21fd243dd259\", \"categories\": [0], \"series\": [{\"data\": [0.8493390992143179]}]}, {\"name\": \"AUC_weighted\", \"run_id\": \"AutoML_b2f5bbc0-522b-448b-9be5-21fd243dd259\", \"categories\": [0], \"series\": [{\"data\": [0.9157634736064969]}]}, {\"name\": \"log_loss\", \"run_id\": \"AutoML_b2f5bbc0-522b-448b-9be5-21fd243dd259\", \"categories\": [0], \"series\": [{\"data\": [0.3807835240971848]}]}, {\"name\": \"recall_score_micro\", \"run_id\": \"AutoML_b2f5bbc0-522b-448b-9be5-21fd243dd259\", \"categories\": [0], \"series\": [{\"data\": [0.876271186440678]}]}, {\"name\": \"weighted_accuracy\", \"run_id\": \"AutoML_b2f5bbc0-522b-448b-9be5-21fd243dd259\", \"categories\": [0], \"series\": [{\"data\": [0.8976265957416116]}]}, {\"name\": \"balanced_accuracy\", \"run_id\": \"AutoML_b2f5bbc0-522b-448b-9be5-21fd243dd259\", \"categories\": [0], \"series\": [{\"data\": [0.8443410852713178]}]}, {\"name\": \"AUC_macro\", \"run_id\": \"AutoML_b2f5bbc0-522b-448b-9be5-21fd243dd259\", \"categories\": [0], \"series\": [{\"data\": [0.9157634736064969]}]}, {\"name\": \"recall_score_weighted\", \"run_id\": \"AutoML_b2f5bbc0-522b-448b-9be5-21fd243dd259\", \"categories\": [0], \"series\": [{\"data\": [0.876271186440678]}]}, {\"name\": \"norm_macro_recall\", \"run_id\": \"AutoML_b2f5bbc0-522b-448b-9be5-21fd243dd259\", \"categories\": [0], \"series\": [{\"data\": [0.6886821705426357]}]}, {\"name\": \"precision_score_micro\", \"run_id\": \"AutoML_b2f5bbc0-522b-448b-9be5-21fd243dd259\", \"categories\": [0], \"series\": [{\"data\": [0.876271186440678]}]}, {\"name\": \"f1_score_weighted\", \"run_id\": \"AutoML_b2f5bbc0-522b-448b-9be5-21fd243dd259\", \"categories\": [0], \"series\": [{\"data\": [0.8711622999321242]}]}, {\"name\": \"precision_score_macro\", \"run_id\": \"AutoML_b2f5bbc0-522b-448b-9be5-21fd243dd259\", \"categories\": [0], \"series\": [{\"data\": [0.8825576592669299]}]}, {\"name\": \"matthews_correlation\", \"run_id\": \"AutoML_b2f5bbc0-522b-448b-9be5-21fd243dd259\", \"categories\": [0], \"series\": [{\"data\": [0.7240576532006674]}]}, {\"name\": \"accuracy\", \"run_id\": \"AutoML_b2f5bbc0-522b-448b-9be5-21fd243dd259\", \"categories\": [0], \"series\": [{\"data\": [0.876271186440678]}]}], \"run_logs\": \"\\nRun is completed.\", \"graph\": {}, \"widget_settings\": {\"childWidgetDisplay\": \"popup\", \"send_telemetry\": false, \"log_level\": \"INFO\", \"sdk_version\": \"1.24.0\"}, \"loading\": false}"
     },
     "metadata": {},
     "output_type": "display_data"
    }
   ],
   "source": [
    "RunDetails(remote_run).show()"
   ]
  },
  {
   "cell_type": "code",
   "execution_count": 13,
   "metadata": {
    "gather": {
     "logged": 1616873647230
    }
   },
   "outputs": [
    {
     "data": {
      "text/plain": [
       "{'runId': 'AutoML_b2f5bbc0-522b-448b-9be5-21fd243dd259',\n",
       " 'target': 'capstone-cluster',\n",
       " 'status': 'Completed',\n",
       " 'startTimeUtc': '2021-03-27T19:18:47.923378Z',\n",
       " 'endTimeUtc': '2021-03-27T19:34:02.810357Z',\n",
       " 'properties': {'num_iterations': '1000',\n",
       "  'training_type': 'TrainFull',\n",
       "  'acquisition_function': 'EI',\n",
       "  'primary_metric': 'accuracy',\n",
       "  'train_split': '0',\n",
       "  'acquisition_parameter': '0',\n",
       "  'num_cross_validation': '5',\n",
       "  'target': 'capstone-cluster',\n",
       "  'AMLSettingsJsonString': '{\"path\":null,\"name\":\"automl-experiment\",\"subscription_id\":\"1b944a9b-fdae-4f97-aeb1-b7eea0beac53\",\"resource_group\":\"aml-quickstarts-141469\",\"workspace_name\":\"quick-starts-ws-141469\",\"region\":\"southcentralus\",\"compute_target\":\"capstone-cluster\",\"spark_service\":null,\"azure_service\":\"remote\",\"many_models\":false,\"pipeline_fetch_max_batch_size\":1,\"enable_batch_run\":false,\"iterations\":1000,\"primary_metric\":\"accuracy\",\"task_type\":\"classification\",\"data_script\":null,\"validation_size\":0.0,\"n_cross_validations\":5,\"y_min\":null,\"y_max\":null,\"num_classes\":null,\"featurization\":\"auto\",\"_ignore_package_version_incompatibilities\":false,\"is_timeseries\":false,\"max_cores_per_iteration\":1,\"max_concurrent_iterations\":5,\"iteration_timeout_minutes\":null,\"mem_in_mb\":null,\"enforce_time_on_windows\":false,\"experiment_timeout_minutes\":60,\"experiment_exit_score\":null,\"whitelist_models\":null,\"blacklist_algos\":[\"TensorFlowLinearClassifier\",\"TensorFlowDNN\"],\"supported_models\":[\"LogisticRegression\",\"MultinomialNaiveBayes\",\"TensorFlowDNN\",\"KNN\",\"LinearSVM\",\"ExtremeRandomTrees\",\"AveragedPerceptronClassifier\",\"XGBoostClassifier\",\"GradientBoosting\",\"RandomForest\",\"BernoulliNaiveBayes\",\"TensorFlowLinearClassifier\",\"DecisionTree\",\"SVM\",\"SGD\",\"LightGBM\"],\"private_models\":[],\"auto_blacklist\":true,\"blacklist_samples_reached\":false,\"exclude_nan_labels\":true,\"verbosity\":20,\"_debug_log\":\"azureml_automl.log\",\"show_warnings\":false,\"model_explainability\":true,\"service_url\":null,\"sdk_url\":null,\"sdk_packages\":null,\"enable_onnx_compatible_models\":false,\"enable_split_onnx_featurizer_estimator_models\":false,\"vm_type\":\"STANDARD_DS3_V2\",\"telemetry_verbosity\":20,\"send_telemetry\":true,\"enable_dnn\":false,\"scenario\":\"SDK-1.13.0\",\"environment_label\":null,\"save_mlflow\":false,\"force_text_dnn\":false,\"enable_feature_sweeping\":true,\"enable_early_stopping\":true,\"early_stopping_n_iters\":10,\"metrics\":null,\"enable_metric_confidence\":false,\"enable_ensembling\":true,\"enable_stack_ensembling\":true,\"ensemble_iterations\":15,\"enable_tf\":false,\"enable_subsampling\":null,\"subsample_seed\":null,\"enable_nimbusml\":false,\"enable_streaming\":false,\"force_streaming\":false,\"track_child_runs\":true,\"allowed_private_models\":[],\"label_column_name\":\"DEATH_EVENT\",\"weight_column_name\":null,\"cv_split_column_names\":null,\"enable_local_managed\":false,\"_local_managed_run_id\":null,\"cost_mode\":1,\"lag_length\":0,\"metric_operation\":\"maximize\",\"preprocess\":true}',\n",
       "  'DataPrepJsonString': '{\\\\\"training_data\\\\\": \\\\\"{\\\\\\\\\\\\\"blocks\\\\\\\\\\\\\": [{\\\\\\\\\\\\\"id\\\\\\\\\\\\\": \\\\\\\\\\\\\"c38481bd-8302-496b-a68b-4ad1442c712a\\\\\\\\\\\\\", \\\\\\\\\\\\\"type\\\\\\\\\\\\\": \\\\\\\\\\\\\"Microsoft.DPrep.GetDatastoreFilesBlock\\\\\\\\\\\\\", \\\\\\\\\\\\\"arguments\\\\\\\\\\\\\": {\\\\\\\\\\\\\"datastores\\\\\\\\\\\\\": [{\\\\\\\\\\\\\"datastoreName\\\\\\\\\\\\\": \\\\\\\\\\\\\"workspaceblobstore\\\\\\\\\\\\\", \\\\\\\\\\\\\"path\\\\\\\\\\\\\": \\\\\\\\\\\\\"UI/03-27-2021_070315_UTC/heart_failure_clinical_records_dataset.csv\\\\\\\\\\\\\", \\\\\\\\\\\\\"resourceGroup\\\\\\\\\\\\\": \\\\\\\\\\\\\"aml-quickstarts-141469\\\\\\\\\\\\\", \\\\\\\\\\\\\"subscription\\\\\\\\\\\\\": \\\\\\\\\\\\\"1b944a9b-fdae-4f97-aeb1-b7eea0beac53\\\\\\\\\\\\\", \\\\\\\\\\\\\"workspaceName\\\\\\\\\\\\\": \\\\\\\\\\\\\"quick-starts-ws-141469\\\\\\\\\\\\\"}]}, \\\\\\\\\\\\\"localData\\\\\\\\\\\\\": {}, \\\\\\\\\\\\\"isEnabled\\\\\\\\\\\\\": true, \\\\\\\\\\\\\"name\\\\\\\\\\\\\": null, \\\\\\\\\\\\\"annotation\\\\\\\\\\\\\": null}, {\\\\\\\\\\\\\"id\\\\\\\\\\\\\": \\\\\\\\\\\\\"6708ba55-3a1a-4128-8498-b942929e05fe\\\\\\\\\\\\\", \\\\\\\\\\\\\"type\\\\\\\\\\\\\": \\\\\\\\\\\\\"Microsoft.DPrep.ParseDelimitedBlock\\\\\\\\\\\\\", \\\\\\\\\\\\\"arguments\\\\\\\\\\\\\": {\\\\\\\\\\\\\"columnHeadersMode\\\\\\\\\\\\\": 1, \\\\\\\\\\\\\"fileEncoding\\\\\\\\\\\\\": 0, \\\\\\\\\\\\\"handleQuotedLineBreaks\\\\\\\\\\\\\": false, \\\\\\\\\\\\\"preview\\\\\\\\\\\\\": false, \\\\\\\\\\\\\"separator\\\\\\\\\\\\\": \\\\\\\\\\\\\",\\\\\\\\\\\\\", \\\\\\\\\\\\\"skipRows\\\\\\\\\\\\\": 0, \\\\\\\\\\\\\"skipRowsMode\\\\\\\\\\\\\": 0}, \\\\\\\\\\\\\"localData\\\\\\\\\\\\\": {}, \\\\\\\\\\\\\"isEnabled\\\\\\\\\\\\\": true, \\\\\\\\\\\\\"name\\\\\\\\\\\\\": null, \\\\\\\\\\\\\"annotation\\\\\\\\\\\\\": null}, {\\\\\\\\\\\\\"id\\\\\\\\\\\\\": \\\\\\\\\\\\\"90c60f3c-e513-47bf-ad9e-491140d20a44\\\\\\\\\\\\\", \\\\\\\\\\\\\"type\\\\\\\\\\\\\": \\\\\\\\\\\\\"Microsoft.DPrep.DropColumnsBlock\\\\\\\\\\\\\", \\\\\\\\\\\\\"arguments\\\\\\\\\\\\\": {\\\\\\\\\\\\\"columns\\\\\\\\\\\\\": {\\\\\\\\\\\\\"type\\\\\\\\\\\\\": 0, \\\\\\\\\\\\\"details\\\\\\\\\\\\\": {\\\\\\\\\\\\\"selectedColumns\\\\\\\\\\\\\": [\\\\\\\\\\\\\"Path\\\\\\\\\\\\\"]}}}, \\\\\\\\\\\\\"localData\\\\\\\\\\\\\": {}, \\\\\\\\\\\\\"isEnabled\\\\\\\\\\\\\": true, \\\\\\\\\\\\\"name\\\\\\\\\\\\\": null, \\\\\\\\\\\\\"annotation\\\\\\\\\\\\\": null}, {\\\\\\\\\\\\\"id\\\\\\\\\\\\\": \\\\\\\\\\\\\"40097426-611d-4454-a497-a262b0c237c5\\\\\\\\\\\\\", \\\\\\\\\\\\\"type\\\\\\\\\\\\\": \\\\\\\\\\\\\"Microsoft.DPrep.SetColumnTypesBlock\\\\\\\\\\\\\", \\\\\\\\\\\\\"arguments\\\\\\\\\\\\\": {\\\\\\\\\\\\\"columnConversion\\\\\\\\\\\\\": [{\\\\\\\\\\\\\"column\\\\\\\\\\\\\": {\\\\\\\\\\\\\"type\\\\\\\\\\\\\": 2, \\\\\\\\\\\\\"details\\\\\\\\\\\\\": {\\\\\\\\\\\\\"selectedColumn\\\\\\\\\\\\\": \\\\\\\\\\\\\"Path\\\\\\\\\\\\\"}}, \\\\\\\\\\\\\"typeProperty\\\\\\\\\\\\\": 0}, {\\\\\\\\\\\\\"column\\\\\\\\\\\\\": {\\\\\\\\\\\\\"type\\\\\\\\\\\\\": 2, \\\\\\\\\\\\\"details\\\\\\\\\\\\\": {\\\\\\\\\\\\\"selectedColumn\\\\\\\\\\\\\": \\\\\\\\\\\\\"age\\\\\\\\\\\\\"}}, \\\\\\\\\\\\\"typeProperty\\\\\\\\\\\\\": 3}, {\\\\\\\\\\\\\"column\\\\\\\\\\\\\": {\\\\\\\\\\\\\"type\\\\\\\\\\\\\": 2, \\\\\\\\\\\\\"details\\\\\\\\\\\\\": {\\\\\\\\\\\\\"selectedColumn\\\\\\\\\\\\\": \\\\\\\\\\\\\"anaemia\\\\\\\\\\\\\"}}, \\\\\\\\\\\\\"typeProperty\\\\\\\\\\\\\": 2}, {\\\\\\\\\\\\\"column\\\\\\\\\\\\\": {\\\\\\\\\\\\\"type\\\\\\\\\\\\\": 2, \\\\\\\\\\\\\"details\\\\\\\\\\\\\": {\\\\\\\\\\\\\"selectedColumn\\\\\\\\\\\\\": \\\\\\\\\\\\\"creatinine_phosphokinase\\\\\\\\\\\\\"}}, \\\\\\\\\\\\\"typeProperty\\\\\\\\\\\\\": 2}, {\\\\\\\\\\\\\"column\\\\\\\\\\\\\": {\\\\\\\\\\\\\"type\\\\\\\\\\\\\": 2, \\\\\\\\\\\\\"details\\\\\\\\\\\\\": {\\\\\\\\\\\\\"selectedColumn\\\\\\\\\\\\\": \\\\\\\\\\\\\"diabetes\\\\\\\\\\\\\"}}, \\\\\\\\\\\\\"typeProperty\\\\\\\\\\\\\": 2}, {\\\\\\\\\\\\\"column\\\\\\\\\\\\\": {\\\\\\\\\\\\\"type\\\\\\\\\\\\\": 2, \\\\\\\\\\\\\"details\\\\\\\\\\\\\": {\\\\\\\\\\\\\"selectedColumn\\\\\\\\\\\\\": \\\\\\\\\\\\\"ejection_fraction\\\\\\\\\\\\\"}}, \\\\\\\\\\\\\"typeProperty\\\\\\\\\\\\\": 2}, {\\\\\\\\\\\\\"column\\\\\\\\\\\\\": {\\\\\\\\\\\\\"type\\\\\\\\\\\\\": 2, \\\\\\\\\\\\\"details\\\\\\\\\\\\\": {\\\\\\\\\\\\\"selectedColumn\\\\\\\\\\\\\": \\\\\\\\\\\\\"high_blood_pressure\\\\\\\\\\\\\"}}, \\\\\\\\\\\\\"typeProperty\\\\\\\\\\\\\": 2}, {\\\\\\\\\\\\\"column\\\\\\\\\\\\\": {\\\\\\\\\\\\\"type\\\\\\\\\\\\\": 2, \\\\\\\\\\\\\"details\\\\\\\\\\\\\": {\\\\\\\\\\\\\"selectedColumn\\\\\\\\\\\\\": \\\\\\\\\\\\\"platelets\\\\\\\\\\\\\"}}, \\\\\\\\\\\\\"typeProperty\\\\\\\\\\\\\": 3}, {\\\\\\\\\\\\\"column\\\\\\\\\\\\\": {\\\\\\\\\\\\\"type\\\\\\\\\\\\\": 2, \\\\\\\\\\\\\"details\\\\\\\\\\\\\": {\\\\\\\\\\\\\"selectedColumn\\\\\\\\\\\\\": \\\\\\\\\\\\\"serum_creatinine\\\\\\\\\\\\\"}}, \\\\\\\\\\\\\"typeProperty\\\\\\\\\\\\\": 3}, {\\\\\\\\\\\\\"column\\\\\\\\\\\\\": {\\\\\\\\\\\\\"type\\\\\\\\\\\\\": 2, \\\\\\\\\\\\\"details\\\\\\\\\\\\\": {\\\\\\\\\\\\\"selectedColumn\\\\\\\\\\\\\": \\\\\\\\\\\\\"serum_sodium\\\\\\\\\\\\\"}}, \\\\\\\\\\\\\"typeProperty\\\\\\\\\\\\\": 2}, {\\\\\\\\\\\\\"column\\\\\\\\\\\\\": {\\\\\\\\\\\\\"type\\\\\\\\\\\\\": 2, \\\\\\\\\\\\\"details\\\\\\\\\\\\\": {\\\\\\\\\\\\\"selectedColumn\\\\\\\\\\\\\": \\\\\\\\\\\\\"sex\\\\\\\\\\\\\"}}, \\\\\\\\\\\\\"typeProperty\\\\\\\\\\\\\": 2}, {\\\\\\\\\\\\\"column\\\\\\\\\\\\\": {\\\\\\\\\\\\\"type\\\\\\\\\\\\\": 2, \\\\\\\\\\\\\"details\\\\\\\\\\\\\": {\\\\\\\\\\\\\"selectedColumn\\\\\\\\\\\\\": \\\\\\\\\\\\\"smoking\\\\\\\\\\\\\"}}, \\\\\\\\\\\\\"typeProperty\\\\\\\\\\\\\": 2}, {\\\\\\\\\\\\\"column\\\\\\\\\\\\\": {\\\\\\\\\\\\\"type\\\\\\\\\\\\\": 2, \\\\\\\\\\\\\"details\\\\\\\\\\\\\": {\\\\\\\\\\\\\"selectedColumn\\\\\\\\\\\\\": \\\\\\\\\\\\\"time\\\\\\\\\\\\\"}}, \\\\\\\\\\\\\"typeProperty\\\\\\\\\\\\\": 2}, {\\\\\\\\\\\\\"column\\\\\\\\\\\\\": {\\\\\\\\\\\\\"type\\\\\\\\\\\\\": 2, \\\\\\\\\\\\\"details\\\\\\\\\\\\\": {\\\\\\\\\\\\\"selectedColumn\\\\\\\\\\\\\": \\\\\\\\\\\\\"DEATH_EVENT\\\\\\\\\\\\\"}}, \\\\\\\\\\\\\"typeProperty\\\\\\\\\\\\\": 2}]}, \\\\\\\\\\\\\"localData\\\\\\\\\\\\\": {}, \\\\\\\\\\\\\"isEnabled\\\\\\\\\\\\\": true, \\\\\\\\\\\\\"name\\\\\\\\\\\\\": null, \\\\\\\\\\\\\"annotation\\\\\\\\\\\\\": null}], \\\\\\\\\\\\\"inspectors\\\\\\\\\\\\\": [], \\\\\\\\\\\\\"meta\\\\\\\\\\\\\": {\\\\\\\\\\\\\"savedDatasetId\\\\\\\\\\\\\": \\\\\\\\\\\\\"f22965dc-41ce-46de-93e1-175c53fb606c\\\\\\\\\\\\\", \\\\\\\\\\\\\"datasetType\\\\\\\\\\\\\": \\\\\\\\\\\\\"tabular\\\\\\\\\\\\\", \\\\\\\\\\\\\"subscriptionId\\\\\\\\\\\\\": \\\\\\\\\\\\\"1b944a9b-fdae-4f97-aeb1-b7eea0beac53\\\\\\\\\\\\\", \\\\\\\\\\\\\"workspaceId\\\\\\\\\\\\\": \\\\\\\\\\\\\"ff0d47e8-1401-499a-bcc3-69189ba9356f\\\\\\\\\\\\\", \\\\\\\\\\\\\"workspaceLocation\\\\\\\\\\\\\": \\\\\\\\\\\\\"southcentralus\\\\\\\\\\\\\"}}\\\\\", \\\\\"activities\\\\\": 0}',\n",
       "  'EnableSubsampling': None,\n",
       "  'runTemplate': 'AutoML',\n",
       "  'azureml.runsource': 'automl',\n",
       "  'display_task_type': 'classification',\n",
       "  'dependencies_versions': '{\"azureml-widgets\": \"1.24.0\", \"azureml-train\": \"1.24.0\", \"azureml-train-restclients-hyperdrive\": \"1.24.0\", \"azureml-train-core\": \"1.24.0\", \"azureml-train-automl\": \"1.24.0\", \"azureml-train-automl-runtime\": \"1.24.0\", \"azureml-train-automl-client\": \"1.24.0\", \"azureml-tensorboard\": \"1.24.0\", \"azureml-telemetry\": \"1.24.0\", \"azureml-sdk\": \"1.24.0\", \"azureml-samples\": \"0+unknown\", \"azureml-pipeline\": \"1.24.0\", \"azureml-pipeline-steps\": \"1.24.0\", \"azureml-pipeline-core\": \"1.24.0\", \"azureml-opendatasets\": \"1.24.0\", \"azureml-model-management-sdk\": \"1.0.1b6.post1\", \"azureml-mlflow\": \"1.24.0\", \"azureml-interpret\": \"1.24.0\", \"azureml-explain-model\": \"1.24.0\", \"azureml-defaults\": \"1.24.0\", \"azureml-dataset-runtime\": \"1.24.0\", \"azureml-dataprep\": \"2.11.1\", \"azureml-dataprep-rslex\": \"1.9.0\", \"azureml-dataprep-native\": \"30.0.0\", \"azureml-datadrift\": \"1.24.0\", \"azureml-core\": \"1.24.0\", \"azureml-contrib-services\": \"1.24.0\", \"azureml-contrib-server\": \"1.24.0\", \"azureml-contrib-reinforcementlearning\": \"1.24.0\", \"azureml-contrib-pipeline-steps\": \"1.24.0\", \"azureml-contrib-notebook\": \"1.24.0\", \"azureml-contrib-gbdt\": \"1.24.0\", \"azureml-contrib-fairness\": \"1.24.0\", \"azureml-contrib-dataset\": \"1.24.0\", \"azureml-cli-common\": \"1.24.0\", \"azureml-automl-runtime\": \"1.24.0\", \"azureml-automl-dnn-nlp\": \"1.24.0\", \"azureml-automl-core\": \"1.24.0\", \"azureml-accel-models\": \"1.24.0\"}',\n",
       "  '_aml_system_scenario_identification': 'Remote.Parent',\n",
       "  'ClientType': 'SDK',\n",
       "  'environment_cpu_name': 'AzureML-AutoML',\n",
       "  'environment_cpu_label': 'prod',\n",
       "  'environment_gpu_name': 'AzureML-AutoML-GPU',\n",
       "  'environment_gpu_label': 'prod',\n",
       "  'root_attribution': 'automl',\n",
       "  'attribution': 'AutoML',\n",
       "  'Orchestrator': 'AutoML',\n",
       "  'CancelUri': 'https://southcentralus.experiments.azureml.net/jasmine/v1.0/subscriptions/1b944a9b-fdae-4f97-aeb1-b7eea0beac53/resourceGroups/aml-quickstarts-141469/providers/Microsoft.MachineLearningServices/workspaces/quick-starts-ws-141469/experimentids/e3d5cfa2-b71f-4d5c-b271-9ec841153529/cancel/AutoML_b2f5bbc0-522b-448b-9be5-21fd243dd259',\n",
       "  'ClientSdkVersion': '1.24.0',\n",
       "  'snapshotId': '00000000-0000-0000-0000-000000000000',\n",
       "  'SetupRunId': 'AutoML_b2f5bbc0-522b-448b-9be5-21fd243dd259_setup',\n",
       "  'SetupRunContainerId': 'dcid.AutoML_b2f5bbc0-522b-448b-9be5-21fd243dd259_setup',\n",
       "  'FeaturizationRunJsonPath': 'featurizer_container.json',\n",
       "  'FeaturizationRunId': 'AutoML_b2f5bbc0-522b-448b-9be5-21fd243dd259_featurize',\n",
       "  'ProblemInfoJsonString': '{\"dataset_num_categorical\": 0, \"is_sparse\": false, \"subsampling\": false, \"dataset_classes\": 2, \"dataset_features\": 12, \"dataset_samples\": 299, \"single_frequency_class_detected\": false}',\n",
       "  'ModelExplainRunId': 'AutoML_b2f5bbc0-522b-448b-9be5-21fd243dd259_ModelExplain'},\n",
       " 'inputDatasets': [{'dataset': {'id': 'f22965dc-41ce-46de-93e1-175c53fb606c'}, 'consumptionDetails': {'type': 'RunInput', 'inputName': 'training_data', 'mechanism': 'Direct'}}],\n",
       " 'outputDatasets': [],\n",
       " 'logFiles': {},\n",
       " 'submittedBy': 'ODL_User 141469'}"
      ]
     },
     "execution_count": 13,
     "metadata": {},
     "output_type": "execute_result"
    }
   ],
   "source": [
    "remote_run.wait_for_completion()"
   ]
  },
  {
   "cell_type": "markdown",
   "metadata": {},
   "source": [
    "## Best Model\n",
    "\n",
    "TODO: In the cell below, get the best model from the automl experiments and display all the properties of the model.\n",
    "\n"
   ]
  },
  {
   "cell_type": "code",
   "execution_count": 14,
   "metadata": {
    "gather": {
     "logged": 1616873666471
    },
    "jupyter": {
     "outputs_hidden": false,
     "source_hidden": false
    },
    "nteract": {
     "transient": {
      "deleting": false
     }
    }
   },
   "outputs": [],
   "source": [
    "automl_run, automl_model = remote_run.get_output()"
   ]
  },
  {
   "cell_type": "code",
   "execution_count": 15,
   "metadata": {
    "gather": {
     "logged": 1616873666592
    }
   },
   "outputs": [],
   "source": [
    "best_model = \"Best AutoML Run Model : {}\".format(automl_model)\n",
    "best_algorithm = \"Best AutoML Run Algorithm : {} \".format(automl_run.properties[\"run_algorithm\"])\n",
    "accuracy = \"Best AutoML Run Accuracy : {} \".format(automl_run.properties[\"score\"])"
   ]
  },
  {
   "cell_type": "code",
   "execution_count": 16,
   "metadata": {
    "gather": {
     "logged": 1616873666783
    }
   },
   "outputs": [
    {
     "name": "stdout",
     "output_type": "stream",
     "text": [
      "Best AutoML Run Algorithm : VotingEnsemble \n",
      "\n",
      "Best AutoML Run Model : Pipeline(memory=None,\n",
      "         steps=[('datatransformer',\n",
      "                 DataTransformer(enable_dnn=None, enable_feature_sweeping=None,\n",
      "                                 feature_sweeping_config=None,\n",
      "                                 feature_sweeping_timeout=None,\n",
      "                                 featurization_config=None, force_text_dnn=None,\n",
      "                                 is_cross_validation=None,\n",
      "                                 is_onnx_compatible=None, logger=None,\n",
      "                                 observer=None, task=None, working_dir=None)),\n",
      "                ('prefittedsoftvotingclassifier',...\n",
      "                                                                                                    min_samples_leaf=0.01,\n",
      "                                                                                                    min_samples_split=0.01,\n",
      "                                                                                                    min_weight_fraction_leaf=0.0,\n",
      "                                                                                                    n_estimators=10,\n",
      "                                                                                                    n_jobs=1,\n",
      "                                                                                                    oob_score=False,\n",
      "                                                                                                    random_state=None,\n",
      "                                                                                                    verbose=0,\n",
      "                                                                                                    warm_start=False))],\n",
      "                                                                     verbose=False))],\n",
      "                                               flatten_transform=None,\n",
      "                                               weights=[0.14285714285714285,\n",
      "                                                        0.14285714285714285,\n",
      "                                                        0.14285714285714285,\n",
      "                                                        0.14285714285714285,\n",
      "                                                        0.14285714285714285,\n",
      "                                                        0.14285714285714285,\n",
      "                                                        0.14285714285714285]))],\n",
      "         verbose=False)\n",
      "\n",
      "Best AutoML Run Accuracy : 0.876271186440678 \n"
     ]
    }
   ],
   "source": [
    "print( best_algorithm, best_model, accuracy, sep='\\n\\n')"
   ]
  },
  {
   "cell_type": "code",
   "execution_count": 17,
   "metadata": {
    "gather": {
     "logged": 1616873666856
    },
    "jupyter": {
     "outputs_hidden": false,
     "source_hidden": false
    },
    "nteract": {
     "transient": {
      "deleting": false
     }
    }
   },
   "outputs": [
    {
     "data": {
      "text/plain": [
       "['automl_model.joblib']"
      ]
     },
     "execution_count": 17,
     "metadata": {},
     "output_type": "execute_result"
    }
   ],
   "source": [
    "#TODO: Save the best model\n",
    "\n",
    "joblib.dump(value=automl_model, filename='automl_model.joblib')"
   ]
  },
  {
   "cell_type": "markdown",
   "metadata": {},
   "source": [
    "## Model Deployment\n",
    "\n",
    "Remember you have to deploy only one of the two models you trained.. Perform the steps in the rest of this notebook only if you wish to deploy this model.\n",
    "\n",
    "TODO: In the cell below, register the model, create an inference config and deploy the model as a web service."
   ]
  },
  {
   "cell_type": "code",
   "execution_count": 18,
   "metadata": {
    "gather": {
     "logged": 1616873667916
    },
    "jupyter": {
     "outputs_hidden": false,
     "source_hidden": false
    },
    "nteract": {
     "transient": {
      "deleting": false
     }
    }
   },
   "outputs": [],
   "source": [
    "registered_model = remote_run.register_model(model_name='automl_model')"
   ]
  },
  {
   "cell_type": "code",
   "execution_count": 19,
   "metadata": {
    "gather": {
     "logged": 1616873668039
    }
   },
   "outputs": [],
   "source": [
    "env = Environment.from_conda_specification(name='env', file_path=\"environment.yml\")\n",
    "\n",
    "inference_config = InferenceConfig(entry_script='automl_score.py',\n",
    "                                   environment=env)"
   ]
  },
  {
   "cell_type": "code",
   "execution_count": 20,
   "metadata": {
    "gather": {
     "logged": 1616873668106
    }
   },
   "outputs": [],
   "source": [
    "deployment_config = AciWebservice.deploy_configuration(cpu_cores = 1, \n",
    "                                                       memory_gb = 1,\n",
    "                                                       enable_app_insights=True,\n",
    "                                                       description=\"Heart Failure Prediction Webservice\")"
   ]
  },
  {
   "cell_type": "code",
   "execution_count": 21,
   "metadata": {
    "gather": {
     "logged": 1616873670560
    }
   },
   "outputs": [],
   "source": [
    "service = Model.deploy(workspace = ws,\n",
    "                       name = \"aciservice\", \n",
    "                       models = [registered_model], \n",
    "                       inference_config = inference_config, \n",
    "                       deployment_config = deployment_config)"
   ]
  },
  {
   "cell_type": "code",
   "execution_count": 22,
   "metadata": {
    "gather": {
     "logged": 1616874700993
    }
   },
   "outputs": [
    {
     "name": "stdout",
     "output_type": "stream",
     "text": [
      "Tips: You can try get_logs(): https://aka.ms/debugimage#dockerlog or local deployment: https://aka.ms/debugimage#debug-locally to debug if deployment takes longer than 10 minutes.\n",
      "Running\n",
      "2021-03-27 19:34:30+00:00 Creating Container Registry if not exists.\n",
      "2021-03-27 19:34:30+00:00 Registering the environment.\n",
      "2021-03-27 19:34:32+00:00 Building image..\n",
      "2021-03-27 19:48:13+00:00 Generating deployment configuration..\n",
      "2021-03-27 19:48:15+00:00 Submitting deployment to compute..\n",
      "2021-03-27 19:48:20+00:00 Checking the status of deployment aciservice..\n",
      "2021-03-27 19:51:08+00:00 Checking the status of inference endpoint aciservice.\n",
      "Succeeded\n",
      "ACI service creation operation finished, operation \"Succeeded\"\n"
     ]
    }
   ],
   "source": [
    "service.wait_for_deployment(show_output = True)"
   ]
  },
  {
   "cell_type": "code",
   "execution_count": 23,
   "metadata": {
    "gather": {
     "logged": 1616874701070
    }
   },
   "outputs": [
    {
     "data": {
      "text/plain": [
       "'Healthy'"
      ]
     },
     "execution_count": 23,
     "metadata": {},
     "output_type": "execute_result"
    }
   ],
   "source": [
    "service.state"
   ]
  },
  {
   "cell_type": "code",
   "execution_count": 24,
   "metadata": {
    "gather": {
     "logged": 1616874701309
    }
   },
   "outputs": [
    {
     "data": {
      "text/plain": [
       "'http://e657f009-0626-4f5b-a8a0-b59c18ed9ab2.southcentralus.azurecontainer.io/score'"
      ]
     },
     "execution_count": 24,
     "metadata": {},
     "output_type": "execute_result"
    }
   ],
   "source": [
    "scoring_uri = service.scoring_uri\n",
    "scoring_uri"
   ]
  },
  {
   "cell_type": "markdown",
   "metadata": {
    "collapsed": true,
    "gather": {
     "logged": 1598431657736
    },
    "jupyter": {
     "outputs_hidden": false,
     "source_hidden": false
    },
    "nteract": {
     "transient": {
      "deleting": false
     }
    }
   },
   "source": [
    "TODO: In the cell below, send a request to the web service you deployed to test it."
   ]
  },
  {
   "cell_type": "code",
   "execution_count": 25,
   "metadata": {
    "gather": {
     "logged": 1616874701369
    },
    "jupyter": {
     "outputs_hidden": false,
     "source_hidden": false
    },
    "nteract": {
     "transient": {
      "deleting": false
     }
    }
   },
   "outputs": [],
   "source": [
    "data = {\n",
    "    \"data\": [\n",
    "        {\n",
    "            'age': 50,\n",
    "            'anaemia': 0,\n",
    "            'creatinine_phosphokinase': 90 ,\n",
    "            'diabetes': 1,\n",
    "            'ejection_fraction': 20,\n",
    "            'high_blood_pressure': 1,\n",
    "            'platelets': 230000,\n",
    "            'serum_creatinine': 1.6,\n",
    "            'serum_sodium': 120,\n",
    "            'sex': 0,\n",
    "            'smoking': 1,\n",
    "            'time': 7\n",
    "        },\n",
    "        {\n",
    "            'age': 70,\n",
    "            'anaemia': 1,\n",
    "            'creatinine_phosphokinase': 110,\n",
    "            'diabetes': 0,\n",
    "            'ejection_fraction': 25,\n",
    "            'high_blood_pressure': 0,\n",
    "            'platelets': 210000,\n",
    "            'serum_creatinine': 1.8,\n",
    "            'serum_sodium': 142,\n",
    "            'sex': 1,\n",
    "            'smoking': 0,\n",
    "            'time': 8\n",
    "        }\n",
    "    ]\n",
    "}\n",
    "# Convert to JSON string\n",
    "request_data = json.dumps(data)\n",
    "\n",
    "# Set the content type\n",
    "headers = {'Content-Type': 'application/json'}\n",
    "\n",
    "# Make the request and display the response\n",
    "response = requests.post(scoring_uri, request_data, headers=headers)"
   ]
  },
  {
   "cell_type": "code",
   "execution_count": 26,
   "metadata": {
    "gather": {
     "logged": 1616874701447
    }
   },
   "outputs": [
    {
     "data": {
      "text/plain": [
       "[1, 1]"
      ]
     },
     "execution_count": 26,
     "metadata": {},
     "output_type": "execute_result"
    }
   ],
   "source": [
    "response.json()"
   ]
  },
  {
   "cell_type": "markdown",
   "metadata": {
    "collapsed": true,
    "gather": {
     "logged": 1598432765711
    },
    "jupyter": {
     "outputs_hidden": false,
     "source_hidden": false
    },
    "nteract": {
     "transient": {
      "deleting": false
     }
    }
   },
   "source": [
    "TODO: In the cell below, print the logs of the web service and delete the service"
   ]
  },
  {
   "cell_type": "code",
   "execution_count": 27,
   "metadata": {
    "gather": {
     "logged": 1616874703223
    },
    "jupyter": {
     "outputs_hidden": false,
     "source_hidden": false
    },
    "nteract": {
     "transient": {
      "deleting": false
     }
    }
   },
   "outputs": [],
   "source": [
    "service.update(enable_app_insights=True)"
   ]
  },
  {
   "cell_type": "code",
   "execution_count": 28,
   "metadata": {
    "gather": {
     "logged": 1616874703676
    }
   },
   "outputs": [
    {
     "data": {
      "text/plain": [
       "'2021-03-27T19:51:03,260270200+00:00 - iot-server/run \\n2021-03-27T19:51:03,269146200+00:00 - rsyslog/run \\n2021-03-27T19:51:03,268099200+00:00 - gunicorn/run \\n2021-03-27T19:51:03,391741700+00:00 - nginx/run \\n/usr/sbin/nginx: /azureml-envs/azureml_8e5a5a51349877e7d47c6a2872e0ebfd/lib/libcrypto.so.1.0.0: no version information available (required by /usr/sbin/nginx)\\n/usr/sbin/nginx: /azureml-envs/azureml_8e5a5a51349877e7d47c6a2872e0ebfd/lib/libcrypto.so.1.0.0: no version information available (required by /usr/sbin/nginx)\\n/usr/sbin/nginx: /azureml-envs/azureml_8e5a5a51349877e7d47c6a2872e0ebfd/lib/libssl.so.1.0.0: no version information available (required by /usr/sbin/nginx)\\n/usr/sbin/nginx: /azureml-envs/azureml_8e5a5a51349877e7d47c6a2872e0ebfd/lib/libssl.so.1.0.0: no version information available (required by /usr/sbin/nginx)\\n/usr/sbin/nginx: /azureml-envs/azureml_8e5a5a51349877e7d47c6a2872e0ebfd/lib/libssl.so.1.0.0: no version information available (required by /usr/sbin/nginx)\\nrsyslogd: /azureml-envs/azureml_8e5a5a51349877e7d47c6a2872e0ebfd/lib/libuuid.so.1: no version information available (required by rsyslogd)\\nEdgeHubConnectionString and IOTEDGE_IOTHUBHOSTNAME are not set. Exiting...\\n2021-03-27T19:51:05,643846300+00:00 - iot-server/finish 1 0\\n2021-03-27T19:51:05,657032600+00:00 - Exit code 1 is normal. Not restarting iot-server.\\nStarting gunicorn 19.9.0\\nListening at: http://127.0.0.1:31311 (63)\\nUsing worker: sync\\nworker timeout is set to 300\\nBooting worker with pid: 95\\nSPARK_HOME not set. Skipping PySpark Initialization.\\nGenerating new fontManager, this may take some time...\\nInitializing logger\\n2021-03-27 19:51:19,816 | root | INFO | Starting up app insights client\\n2021-03-27 19:51:19,817 | root | INFO | Starting up request id generator\\n2021-03-27 19:51:19,817 | root | INFO | Starting up app insight hooks\\n2021-03-27 19:51:19,817 | root | INFO | Invoking user\\'s init function\\n2021-03-27 19:51:28,883 | root | INFO | Users\\'s init has completed successfully\\n/azureml-envs/azureml_8e5a5a51349877e7d47c6a2872e0ebfd/lib/python3.6/site-packages/sklearn/externals/joblib/__init__.py:15: FutureWarning: sklearn.externals.joblib is deprecated in 0.21 and will be removed in 0.23. Please import this functionality directly from joblib, which can be installed with: pip install joblib. If this warning is raised when loading pickled models, you may need to re-serialize those models with scikit-learn 0.21+.\\n  warnings.warn(msg, category=FutureWarning)\\n2021-03-27 19:51:28,893 | root | INFO | Skipping middleware: dbg_model_info as it\\'s not enabled.\\n2021-03-27 19:51:28,893 | root | INFO | Skipping middleware: dbg_resource_usage as it\\'s not enabled.\\n2021-03-27 19:51:28,896 | root | INFO | Scoring timeout is found from os.environ: 60000 ms\\n2021-03-27 19:51:37,016 | root | INFO | Swagger file not present\\n2021-03-27 19:51:37,025 | root | INFO | 404\\n127.0.0.1 - - [27/Mar/2021:19:51:37 +0000] \"GET /swagger.json HTTP/1.0\" 404 19 \"-\" \"Go-http-client/1.1\"\\n2021-03-27 19:51:40,094 | root | INFO | Swagger file not present\\n2021-03-27 19:51:40,095 | root | INFO | 404\\n127.0.0.1 - - [27/Mar/2021:19:51:40 +0000] \"GET /swagger.json HTTP/1.0\" 404 19 \"-\" \"Go-http-client/1.1\"\\n2021-03-27 19:51:40,835 | root | INFO | Validation Request Content-Type\\n2021-03-27 19:51:40,836 | root | INFO | Scoring Timer is set to 60.0 seconds\\n2021-03-27 19:51:40,945 | root | INFO | 200\\n127.0.0.1 - - [27/Mar/2021:19:51:40 +0000] \"POST /score HTTP/1.0\" 200 6 \"-\" \"python-requests/2.25.1\"\\n2021-03-27 19:51:41,776 | root | INFO | Swagger file not present\\n2021-03-27 19:51:41,776 | root | INFO | 404\\n127.0.0.1 - - [27/Mar/2021:19:51:41 +0000] \"GET /swagger.json HTTP/1.0\" 404 19 \"-\" \"Go-http-client/1.1\"\\n'"
      ]
     },
     "execution_count": 28,
     "metadata": {},
     "output_type": "execute_result"
    }
   ],
   "source": [
    "service.get_logs()"
   ]
  },
  {
   "cell_type": "code",
   "execution_count": 29,
   "metadata": {
    "collapsed": true,
    "gather": {
     "logged": 1616879557034
    },
    "jupyter": {
     "outputs_hidden": false,
     "source_hidden": false
    },
    "nteract": {
     "transient": {
      "deleting": false
     }
    }
   },
   "outputs": [],
   "source": [
    "service.delete()"
   ]
  },
  {
   "cell_type": "code",
   "execution_count": 30,
   "metadata": {
    "gather": {
     "logged": 1616879561450
    },
    "jupyter": {
     "outputs_hidden": false,
     "source_hidden": false
    },
    "nteract": {
     "transient": {
      "deleting": false
     }
    }
   },
   "outputs": [
    {
     "name": "stdout",
     "output_type": "stream",
     "text": [
      "Current provisioning state of AmlCompute is \"Deleting\"\n",
      "\n",
      "Current provisioning state of AmlCompute is \"Deleting\"\n",
      "\n"
     ]
    }
   ],
   "source": [
    "compute_cluster.delete()"
   ]
  },
  {
   "cell_type": "raw",
   "metadata": {},
   "source": []
  }
 ],
 "metadata": {
  "kernel_info": {
   "name": "python3"
  },
  "kernelspec": {
   "display_name": "Python 3",
   "language": "python",
   "name": "python3"
  },
  "language_info": {
   "codemirror_mode": {
    "name": "ipython",
    "version": 3
   },
   "file_extension": ".py",
   "mimetype": "text/x-python",
   "name": "python",
   "nbconvert_exporter": "python",
   "pygments_lexer": "ipython3",
   "version": "3.7.10"
  },
  "microsoft": {
   "host": {
    "AzureML": {
     "notebookHasBeenCompleted": true
    }
   }
  },
  "nteract": {
   "version": "nteract-front-end@1.0.0"
  }
 },
 "nbformat": 4,
 "nbformat_minor": 2
}
