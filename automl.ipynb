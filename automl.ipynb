{
 "cells": [
  {
   "cell_type": "markdown",
   "metadata": {},
   "source": [
    "# Automated ML\n",
    "\n",
    "TODO: Import Dependencies. In the cell below, import all the dependencies that you will need to complete the project."
   ]
  },
  {
   "cell_type": "code",
   "execution_count": 1,
   "metadata": {
    "gather": {
     "logged": 1616327102357
    },
    "jupyter": {
     "outputs_hidden": false,
     "source_hidden": false
    },
    "nteract": {
     "transient": {
      "deleting": false
     }
    }
   },
   "outputs": [],
   "source": [
    "import os\n",
    "import joblib\n",
    "import logging\n",
    "import json\n",
    "import requests\n",
    "\n",
    "import azureml.core\n",
    "from azureml.core.experiment import Experiment\n",
    "from azureml.core.workspace import Workspace\n",
    "from azureml.train.automl import AutoMLConfig\n",
    "from azureml.core.dataset import Dataset\n",
    "from azureml.core.compute import AmlCompute\n",
    "from azureml.core.compute import ComputeTarget\n",
    "from azureml.core.compute_target import ComputeTargetException\n",
    "from azureml.widgets import RunDetails\n",
    "\n",
    "from azureml.core.model import Model\n",
    "from azureml.core.environment import Environment\n",
    "from azureml.core.model import InferenceConfig\n",
    "from azureml.core.webservice import AciWebservice"
   ]
  },
  {
   "cell_type": "code",
   "execution_count": 2,
   "metadata": {
    "gather": {
     "logged": 1616327222217
    }
   },
   "outputs": [
    {
     "name": "stdout",
     "output_type": "stream",
     "text": [
      "Collecting package metadata (repodata.json): - \b\b\\ \b\b| \b\b/ \b\b- \b\b\\ \b\b| \b\b/ \b\b- \b\b\\ \b\b| \b\b/ \b\b- \b\b\\ \b\b| \b\b/ \b\b- \b\b\\ \b\b| \b\b/ \b\b- \b\b\\ \b\b| \b\b/ \b\b- \b\b\\ \b\b| \b\b/ \b\b- \b\b\\ \b\b| \b\b/ \b\b- \b\b\\ \b\b| \b\b/ \b\b- \b\b\\ \b\b| \b\b/ \b\bdone\n",
      "Solving environment: \\ \b\b| \b\bfailed\n",
      "\n",
      "PackagesNotFoundError: The following packages are missing from the target environment:\n",
      "  - xgboost\n",
      "\n",
      "\n",
      "\n",
      "Note: you may need to restart the kernel to use updated packages.\n",
      "Collecting xgboost==0.90\n",
      "  Downloading xgboost-0.90-py2.py3-none-manylinux1_x86_64.whl (142.8 MB)\n",
      "\u001b[K     |████████████████████████████████| 142.8 MB 26 kB/s /s eta 0:00:01\n",
      "\u001b[?25hRequirement already satisfied: numpy in /anaconda/envs/azureml_py36/lib/python3.6/site-packages (from xgboost==0.90) (1.18.5)\n",
      "Requirement already satisfied: scipy in /anaconda/envs/azureml_py36/lib/python3.6/site-packages (from xgboost==0.90) (1.4.1)\n",
      "Installing collected packages: xgboost\n",
      "  Attempting uninstall: xgboost\n",
      "    Found existing installation: xgboost 1.3.3\n",
      "    Uninstalling xgboost-1.3.3:\n",
      "      Successfully uninstalled xgboost-1.3.3\n",
      "Successfully installed xgboost-0.90\n",
      "Note: you may need to restart the kernel to use updated packages.\n",
      "0.90\n"
     ]
    }
   ],
   "source": [
    "%conda remove xgboost\n",
    "%pip install xgboost==0.90\n",
    "import xgboost\n",
    "print(xgboost.__version__)"
   ]
  },
  {
   "cell_type": "code",
   "execution_count": 3,
   "metadata": {
    "gather": {
     "logged": 1616327265512
    }
   },
   "outputs": [
    {
     "name": "stdout",
     "output_type": "stream",
     "text": [
      "Performing interactive authentication. Please follow the instructions on the terminal.\n",
      "To sign in, use a web browser to open the page https://microsoft.com/devicelogin and enter the code RE3SZH4F8 to authenticate.\n",
      "You have logged in. Now let us find all the subscriptions to which you have access...\n",
      "Interactive authentication successfully completed.\n",
      "Workspace name: quick-starts-ws-141035\n",
      "Azure region: southcentralus\n",
      "Subscription id: 9a7511b8-150f-4a58-8528-3e7d50216c31\n",
      "Resource group: aml-quickstarts-141035\n"
     ]
    }
   ],
   "source": [
    "ws = Workspace.from_config()\n",
    "\n",
    "print('Workspace name: ' + ws.name, \n",
    "      'Azure region: ' + ws.location, \n",
    "      'Subscription id: ' + ws.subscription_id, \n",
    "      'Resource group: ' + ws.resource_group, sep = '\\n')"
   ]
  },
  {
   "cell_type": "code",
   "execution_count": 4,
   "metadata": {
    "gather": {
     "logged": 1616327266544
    }
   },
   "outputs": [],
   "source": [
    "# choose a name for experiment\n",
    "experiment_name = 'automl-experiment'\n",
    "experiment=Experiment(ws, experiment_name)"
   ]
  },
  {
   "cell_type": "code",
   "execution_count": 5,
   "metadata": {
    "gather": {
     "logged": 1616327266828
    }
   },
   "outputs": [
    {
     "data": {
      "text/html": [
       "<table style=\"width:100%\"><tr><th>Name</th><th>Workspace</th><th>Report Page</th><th>Docs Page</th></tr><tr><td>automl-experiment</td><td>quick-starts-ws-141035</td><td><a href=\"https://ml.azure.com/experiments/automl-experiment?wsid=/subscriptions/9a7511b8-150f-4a58-8528-3e7d50216c31/resourcegroups/aml-quickstarts-141035/workspaces/quick-starts-ws-141035\" target=\"_blank\" rel=\"noopener\">Link to Azure Machine Learning studio</a></td><td><a href=\"https://docs.microsoft.com/en-us/python/api/azureml-core/azureml.core.experiment.Experiment?view=azure-ml-py\" target=\"_blank\" rel=\"noopener\">Link to Documentation</a></td></tr></table>"
      ],
      "text/plain": [
       "Experiment(Name: automl-experiment,\n",
       "Workspace: quick-starts-ws-141035)"
      ]
     },
     "execution_count": 5,
     "metadata": {},
     "output_type": "execute_result"
    }
   ],
   "source": [
    "experiment"
   ]
  },
  {
   "cell_type": "markdown",
   "metadata": {},
   "source": [
    "## Create Compute Cluster"
   ]
  },
  {
   "cell_type": "code",
   "execution_count": 6,
   "metadata": {
    "gather": {
     "logged": 1616327267241
    },
    "jupyter": {
     "outputs_hidden": false,
     "source_hidden": false
    },
    "nteract": {
     "transient": {
      "deleting": false
     }
    }
   },
   "outputs": [
    {
     "name": "stdout",
     "output_type": "stream",
     "text": [
      "Found existing cluster, use it.\n",
      "Succeeded\n",
      "AmlCompute wait for completion finished\n",
      "\n",
      "Minimum number of nodes requested have been provisioned\n"
     ]
    }
   ],
   "source": [
    "# Create compute cluster\n",
    "cluster_name = \"capstone-cluster\"\n",
    "\n",
    "# Verify that cluster does not exist already\n",
    "try:\n",
    "    compute_cluster = ComputeTarget(workspace=ws, name=cluster_name)\n",
    "    print('Found existing cluster, use it.')\n",
    "except ComputeTargetException:\n",
    "    compute_config = AmlCompute.provisioning_configuration( vm_size='STANDARD_DS3_V2', max_nodes=6 )\n",
    "    compute_cluster = ComputeTarget.create(ws, cluster_name, compute_config)\n",
    "\n",
    "compute_cluster.wait_for_completion(show_output=True, min_node_count=1, timeout_in_minutes=10)"
   ]
  },
  {
   "cell_type": "markdown",
   "metadata": {},
   "source": [
    "## Dataset\n",
    "\n",
    "### Overview\n",
    "The dataset used for the capstone project is Heart Failure Prediction dataset, and it is obtained from kaggle. This dataset has 299 records and is comprised of 12 features. This is a classification task, in which we will be predicting the heart failure.  \n",
    "Dataset can be found at this link: https://www.kaggle.com/andrewmvd/heart-failure-clinical-data "
   ]
  },
  {
   "cell_type": "code",
   "execution_count": 7,
   "metadata": {
    "gather": {
     "logged": 1616327273754
    }
   },
   "outputs": [
    {
     "name": "stdout",
     "output_type": "stream",
     "text": [
      "Dataset is already registered in the workspace\n"
     ]
    }
   ],
   "source": [
    "# Try to load the dataset from the Workspace. Otherwise, create it from the file\n",
    "# NOTE: update the key to match the dataset name\n",
    "found = False\n",
    "key = \"Heart-Failure-Dataset\"\n",
    "description_text = \"Dataset for heart failure prediction.\"\n",
    "\n",
    "if key in ws.datasets.keys(): \n",
    "        found = True\n",
    "        dataset = ws.datasets[key] \n",
    "        print(\"Dataset is already registered in the workspace\")\n",
    "\n",
    "if not found:\n",
    "        # Create AML Dataset and register it into Workspace\n",
    "        data = 'https://raw.githubusercontent.com/TahreemArif/ML-Azure-Capstone-Project/master/heart_failure_clinical_records_dataset.csv'\n",
    "        dataset = Dataset.Tabular.from_delimited_files(data)        \n",
    "        #Register Dataset in Workspace\n",
    "        dataset = dataset.register(workspace=ws,\n",
    "                                   name=key,\n",
    "                                   description=description_text)\n",
    "\n",
    "\n",
    "df = dataset.to_pandas_dataframe()"
   ]
  },
  {
   "cell_type": "code",
   "execution_count": 8,
   "metadata": {
    "gather": {
     "logged": 1616327273942
    }
   },
   "outputs": [
    {
     "data": {
      "text/html": [
       "<div>\n",
       "<style scoped>\n",
       "    .dataframe tbody tr th:only-of-type {\n",
       "        vertical-align: middle;\n",
       "    }\n",
       "\n",
       "    .dataframe tbody tr th {\n",
       "        vertical-align: top;\n",
       "    }\n",
       "\n",
       "    .dataframe thead th {\n",
       "        text-align: right;\n",
       "    }\n",
       "</style>\n",
       "<table border=\"1\" class=\"dataframe\">\n",
       "  <thead>\n",
       "    <tr style=\"text-align: right;\">\n",
       "      <th></th>\n",
       "      <th>age</th>\n",
       "      <th>anaemia</th>\n",
       "      <th>creatinine_phosphokinase</th>\n",
       "      <th>diabetes</th>\n",
       "      <th>ejection_fraction</th>\n",
       "      <th>high_blood_pressure</th>\n",
       "      <th>platelets</th>\n",
       "      <th>serum_creatinine</th>\n",
       "      <th>serum_sodium</th>\n",
       "      <th>sex</th>\n",
       "      <th>smoking</th>\n",
       "      <th>time</th>\n",
       "      <th>DEATH_EVENT</th>\n",
       "    </tr>\n",
       "  </thead>\n",
       "  <tbody>\n",
       "    <tr>\n",
       "      <th>count</th>\n",
       "      <td>299.000000</td>\n",
       "      <td>299.000000</td>\n",
       "      <td>299.000000</td>\n",
       "      <td>299.000000</td>\n",
       "      <td>299.000000</td>\n",
       "      <td>299.000000</td>\n",
       "      <td>299.000000</td>\n",
       "      <td>299.00000</td>\n",
       "      <td>299.000000</td>\n",
       "      <td>299.000000</td>\n",
       "      <td>299.00000</td>\n",
       "      <td>299.000000</td>\n",
       "      <td>299.00000</td>\n",
       "    </tr>\n",
       "    <tr>\n",
       "      <th>mean</th>\n",
       "      <td>60.833893</td>\n",
       "      <td>0.431438</td>\n",
       "      <td>581.839465</td>\n",
       "      <td>0.418060</td>\n",
       "      <td>38.083612</td>\n",
       "      <td>0.351171</td>\n",
       "      <td>263358.029264</td>\n",
       "      <td>1.39388</td>\n",
       "      <td>136.625418</td>\n",
       "      <td>0.648829</td>\n",
       "      <td>0.32107</td>\n",
       "      <td>130.260870</td>\n",
       "      <td>0.32107</td>\n",
       "    </tr>\n",
       "    <tr>\n",
       "      <th>std</th>\n",
       "      <td>11.894809</td>\n",
       "      <td>0.496107</td>\n",
       "      <td>970.287881</td>\n",
       "      <td>0.494067</td>\n",
       "      <td>11.834841</td>\n",
       "      <td>0.478136</td>\n",
       "      <td>97804.236869</td>\n",
       "      <td>1.03451</td>\n",
       "      <td>4.412477</td>\n",
       "      <td>0.478136</td>\n",
       "      <td>0.46767</td>\n",
       "      <td>77.614208</td>\n",
       "      <td>0.46767</td>\n",
       "    </tr>\n",
       "    <tr>\n",
       "      <th>min</th>\n",
       "      <td>40.000000</td>\n",
       "      <td>0.000000</td>\n",
       "      <td>23.000000</td>\n",
       "      <td>0.000000</td>\n",
       "      <td>14.000000</td>\n",
       "      <td>0.000000</td>\n",
       "      <td>25100.000000</td>\n",
       "      <td>0.50000</td>\n",
       "      <td>113.000000</td>\n",
       "      <td>0.000000</td>\n",
       "      <td>0.00000</td>\n",
       "      <td>4.000000</td>\n",
       "      <td>0.00000</td>\n",
       "    </tr>\n",
       "    <tr>\n",
       "      <th>25%</th>\n",
       "      <td>51.000000</td>\n",
       "      <td>0.000000</td>\n",
       "      <td>116.500000</td>\n",
       "      <td>0.000000</td>\n",
       "      <td>30.000000</td>\n",
       "      <td>0.000000</td>\n",
       "      <td>212500.000000</td>\n",
       "      <td>0.90000</td>\n",
       "      <td>134.000000</td>\n",
       "      <td>0.000000</td>\n",
       "      <td>0.00000</td>\n",
       "      <td>73.000000</td>\n",
       "      <td>0.00000</td>\n",
       "    </tr>\n",
       "    <tr>\n",
       "      <th>50%</th>\n",
       "      <td>60.000000</td>\n",
       "      <td>0.000000</td>\n",
       "      <td>250.000000</td>\n",
       "      <td>0.000000</td>\n",
       "      <td>38.000000</td>\n",
       "      <td>0.000000</td>\n",
       "      <td>262000.000000</td>\n",
       "      <td>1.10000</td>\n",
       "      <td>137.000000</td>\n",
       "      <td>1.000000</td>\n",
       "      <td>0.00000</td>\n",
       "      <td>115.000000</td>\n",
       "      <td>0.00000</td>\n",
       "    </tr>\n",
       "    <tr>\n",
       "      <th>75%</th>\n",
       "      <td>70.000000</td>\n",
       "      <td>1.000000</td>\n",
       "      <td>582.000000</td>\n",
       "      <td>1.000000</td>\n",
       "      <td>45.000000</td>\n",
       "      <td>1.000000</td>\n",
       "      <td>303500.000000</td>\n",
       "      <td>1.40000</td>\n",
       "      <td>140.000000</td>\n",
       "      <td>1.000000</td>\n",
       "      <td>1.00000</td>\n",
       "      <td>203.000000</td>\n",
       "      <td>1.00000</td>\n",
       "    </tr>\n",
       "    <tr>\n",
       "      <th>max</th>\n",
       "      <td>95.000000</td>\n",
       "      <td>1.000000</td>\n",
       "      <td>7861.000000</td>\n",
       "      <td>1.000000</td>\n",
       "      <td>80.000000</td>\n",
       "      <td>1.000000</td>\n",
       "      <td>850000.000000</td>\n",
       "      <td>9.40000</td>\n",
       "      <td>148.000000</td>\n",
       "      <td>1.000000</td>\n",
       "      <td>1.00000</td>\n",
       "      <td>285.000000</td>\n",
       "      <td>1.00000</td>\n",
       "    </tr>\n",
       "  </tbody>\n",
       "</table>\n",
       "</div>"
      ],
      "text/plain": [
       "              age     anaemia  creatinine_phosphokinase    diabetes  \\\n",
       "count  299.000000  299.000000                299.000000  299.000000   \n",
       "mean    60.833893    0.431438                581.839465    0.418060   \n",
       "std     11.894809    0.496107                970.287881    0.494067   \n",
       "min     40.000000    0.000000                 23.000000    0.000000   \n",
       "25%     51.000000    0.000000                116.500000    0.000000   \n",
       "50%     60.000000    0.000000                250.000000    0.000000   \n",
       "75%     70.000000    1.000000                582.000000    1.000000   \n",
       "max     95.000000    1.000000               7861.000000    1.000000   \n",
       "\n",
       "       ejection_fraction  high_blood_pressure      platelets  \\\n",
       "count         299.000000           299.000000     299.000000   \n",
       "mean           38.083612             0.351171  263358.029264   \n",
       "std            11.834841             0.478136   97804.236869   \n",
       "min            14.000000             0.000000   25100.000000   \n",
       "25%            30.000000             0.000000  212500.000000   \n",
       "50%            38.000000             0.000000  262000.000000   \n",
       "75%            45.000000             1.000000  303500.000000   \n",
       "max            80.000000             1.000000  850000.000000   \n",
       "\n",
       "       serum_creatinine  serum_sodium         sex    smoking        time  \\\n",
       "count         299.00000    299.000000  299.000000  299.00000  299.000000   \n",
       "mean            1.39388    136.625418    0.648829    0.32107  130.260870   \n",
       "std             1.03451      4.412477    0.478136    0.46767   77.614208   \n",
       "min             0.50000    113.000000    0.000000    0.00000    4.000000   \n",
       "25%             0.90000    134.000000    0.000000    0.00000   73.000000   \n",
       "50%             1.10000    137.000000    1.000000    0.00000  115.000000   \n",
       "75%             1.40000    140.000000    1.000000    1.00000  203.000000   \n",
       "max             9.40000    148.000000    1.000000    1.00000  285.000000   \n",
       "\n",
       "       DEATH_EVENT  \n",
       "count    299.00000  \n",
       "mean       0.32107  \n",
       "std        0.46767  \n",
       "min        0.00000  \n",
       "25%        0.00000  \n",
       "50%        0.00000  \n",
       "75%        1.00000  \n",
       "max        1.00000  "
      ]
     },
     "execution_count": 8,
     "metadata": {},
     "output_type": "execute_result"
    }
   ],
   "source": [
    "df.describe()"
   ]
  },
  {
   "cell_type": "code",
   "execution_count": 9,
   "metadata": {
    "gather": {
     "logged": 1616327274215
    }
   },
   "outputs": [
    {
     "data": {
      "text/html": [
       "<div>\n",
       "<style scoped>\n",
       "    .dataframe tbody tr th:only-of-type {\n",
       "        vertical-align: middle;\n",
       "    }\n",
       "\n",
       "    .dataframe tbody tr th {\n",
       "        vertical-align: top;\n",
       "    }\n",
       "\n",
       "    .dataframe thead th {\n",
       "        text-align: right;\n",
       "    }\n",
       "</style>\n",
       "<table border=\"1\" class=\"dataframe\">\n",
       "  <thead>\n",
       "    <tr style=\"text-align: right;\">\n",
       "      <th></th>\n",
       "      <th>age</th>\n",
       "      <th>anaemia</th>\n",
       "      <th>creatinine_phosphokinase</th>\n",
       "      <th>diabetes</th>\n",
       "      <th>ejection_fraction</th>\n",
       "      <th>high_blood_pressure</th>\n",
       "      <th>platelets</th>\n",
       "      <th>serum_creatinine</th>\n",
       "      <th>serum_sodium</th>\n",
       "      <th>sex</th>\n",
       "      <th>smoking</th>\n",
       "      <th>time</th>\n",
       "      <th>DEATH_EVENT</th>\n",
       "    </tr>\n",
       "  </thead>\n",
       "  <tbody>\n",
       "    <tr>\n",
       "      <th>0</th>\n",
       "      <td>75.0</td>\n",
       "      <td>0</td>\n",
       "      <td>582</td>\n",
       "      <td>0</td>\n",
       "      <td>20</td>\n",
       "      <td>1</td>\n",
       "      <td>265000.00</td>\n",
       "      <td>1.9</td>\n",
       "      <td>130</td>\n",
       "      <td>1</td>\n",
       "      <td>0</td>\n",
       "      <td>4</td>\n",
       "      <td>1</td>\n",
       "    </tr>\n",
       "    <tr>\n",
       "      <th>1</th>\n",
       "      <td>55.0</td>\n",
       "      <td>0</td>\n",
       "      <td>7861</td>\n",
       "      <td>0</td>\n",
       "      <td>38</td>\n",
       "      <td>0</td>\n",
       "      <td>263358.03</td>\n",
       "      <td>1.1</td>\n",
       "      <td>136</td>\n",
       "      <td>1</td>\n",
       "      <td>0</td>\n",
       "      <td>6</td>\n",
       "      <td>1</td>\n",
       "    </tr>\n",
       "    <tr>\n",
       "      <th>2</th>\n",
       "      <td>65.0</td>\n",
       "      <td>0</td>\n",
       "      <td>146</td>\n",
       "      <td>0</td>\n",
       "      <td>20</td>\n",
       "      <td>0</td>\n",
       "      <td>162000.00</td>\n",
       "      <td>1.3</td>\n",
       "      <td>129</td>\n",
       "      <td>1</td>\n",
       "      <td>1</td>\n",
       "      <td>7</td>\n",
       "      <td>1</td>\n",
       "    </tr>\n",
       "    <tr>\n",
       "      <th>3</th>\n",
       "      <td>50.0</td>\n",
       "      <td>1</td>\n",
       "      <td>111</td>\n",
       "      <td>0</td>\n",
       "      <td>20</td>\n",
       "      <td>0</td>\n",
       "      <td>210000.00</td>\n",
       "      <td>1.9</td>\n",
       "      <td>137</td>\n",
       "      <td>1</td>\n",
       "      <td>0</td>\n",
       "      <td>7</td>\n",
       "      <td>1</td>\n",
       "    </tr>\n",
       "    <tr>\n",
       "      <th>4</th>\n",
       "      <td>65.0</td>\n",
       "      <td>1</td>\n",
       "      <td>160</td>\n",
       "      <td>1</td>\n",
       "      <td>20</td>\n",
       "      <td>0</td>\n",
       "      <td>327000.00</td>\n",
       "      <td>2.7</td>\n",
       "      <td>116</td>\n",
       "      <td>0</td>\n",
       "      <td>0</td>\n",
       "      <td>8</td>\n",
       "      <td>1</td>\n",
       "    </tr>\n",
       "  </tbody>\n",
       "</table>\n",
       "</div>"
      ],
      "text/plain": [
       "    age  anaemia  creatinine_phosphokinase  diabetes  ejection_fraction  \\\n",
       "0  75.0        0                       582         0                 20   \n",
       "1  55.0        0                      7861         0                 38   \n",
       "2  65.0        0                       146         0                 20   \n",
       "3  50.0        1                       111         0                 20   \n",
       "4  65.0        1                       160         1                 20   \n",
       "\n",
       "   high_blood_pressure  platelets  serum_creatinine  serum_sodium  sex  \\\n",
       "0                    1  265000.00               1.9           130    1   \n",
       "1                    0  263358.03               1.1           136    1   \n",
       "2                    0  162000.00               1.3           129    1   \n",
       "3                    0  210000.00               1.9           137    1   \n",
       "4                    0  327000.00               2.7           116    0   \n",
       "\n",
       "   smoking  time  DEATH_EVENT  \n",
       "0        0     4            1  \n",
       "1        0     6            1  \n",
       "2        1     7            1  \n",
       "3        0     7            1  \n",
       "4        0     8            1  "
      ]
     },
     "execution_count": 9,
     "metadata": {},
     "output_type": "execute_result"
    }
   ],
   "source": [
    "df.head()"
   ]
  },
  {
   "cell_type": "markdown",
   "metadata": {},
   "source": [
    "## AutoML Configuration\n",
    "\n",
    "TODO: Explain why you chose the automl settings and cofiguration you used below."
   ]
  },
  {
   "cell_type": "code",
   "execution_count": 10,
   "metadata": {
    "gather": {
     "logged": 1616327274382
    },
    "jupyter": {
     "outputs_hidden": false,
     "source_hidden": false
    },
    "nteract": {
     "transient": {
      "deleting": false
     }
    }
   },
   "outputs": [],
   "source": [
    "# TODO: Put your automl settings here\n",
    "automl_settings = {\n",
    "    \"compute_target\":compute_cluster,\n",
    "    \"task\": \"classification\",\n",
    "    \"training_data\": dataset,\n",
    "    \"label_column_name\": \"DEATH_EVENT\",   \n",
    "    \"enable_early_stopping\": True,\n",
    "    \"featurization\": \"auto\",\n",
    "    \"n_cross_validations\": 5,\n",
    "    \"debug_log\": \"automl_errors.log\",\n",
    "    \"experiment_timeout_hours\": 1.0,\n",
    "    \"max_concurrent_iterations\": 5,\n",
    "    \"primary_metric\" : 'accuracy'\n",
    "}\n",
    "\n",
    "# TODO: Put your automl config here\n",
    "automl_config = AutoMLConfig(**automl_settings)"
   ]
  },
  {
   "cell_type": "code",
   "execution_count": 11,
   "metadata": {
    "gather": {
     "logged": 1616327278678
    },
    "jupyter": {
     "outputs_hidden": false,
     "source_hidden": false
    },
    "nteract": {
     "transient": {
      "deleting": false
     }
    }
   },
   "outputs": [
    {
     "name": "stdout",
     "output_type": "stream",
     "text": [
      "Running on remote.\n"
     ]
    }
   ],
   "source": [
    "# TODO: Submit your experiment\n",
    "remote_run = experiment.submit(automl_config)"
   ]
  },
  {
   "cell_type": "markdown",
   "metadata": {},
   "source": [
    "## Run Details\n",
    "\n",
    "OPTIONAL: Write about the different models trained and their performance. Why do you think some models did better than others?\n",
    "\n",
    "TODO: In the cell below, use the `RunDetails` widget to show the different experiments."
   ]
  },
  {
   "cell_type": "code",
   "execution_count": 12,
   "metadata": {
    "gather": {
     "logged": 1616327279239
    },
    "jupyter": {
     "outputs_hidden": false,
     "source_hidden": false
    },
    "nteract": {
     "transient": {
      "deleting": false
     }
    }
   },
   "outputs": [
    {
     "data": {
      "application/vnd.jupyter.widget-view+json": {
       "model_id": "848a18b2d187411699300b7760afd0af",
       "version_major": 2,
       "version_minor": 0
      },
      "text/plain": [
       "_AutoMLWidget(widget_settings={'childWidgetDisplay': 'popup', 'send_telemetry': False, 'log_level': 'INFO', 's…"
      ]
     },
     "metadata": {},
     "output_type": "display_data"
    },
    {
     "data": {
      "application/aml.mini.widget.v1": "{\"status\": \"Completed\", \"workbench_run_details_uri\": \"https://ml.azure.com/experiments/automl-experiment/runs/AutoML_010da3bb-80a6-4657-9973-7eb391ad867f?wsid=/subscriptions/9a7511b8-150f-4a58-8528-3e7d50216c31/resourcegroups/aml-quickstarts-141035/workspaces/quick-starts-ws-141035\", \"run_id\": \"AutoML_010da3bb-80a6-4657-9973-7eb391ad867f\", \"run_properties\": {\"run_id\": \"AutoML_010da3bb-80a6-4657-9973-7eb391ad867f\", \"created_utc\": \"2021-03-21T11:47:56.214269Z\", \"properties\": {\"num_iterations\": \"1000\", \"training_type\": \"TrainFull\", \"acquisition_function\": \"EI\", \"primary_metric\": \"accuracy\", \"train_split\": \"0\", \"acquisition_parameter\": \"0\", \"num_cross_validation\": \"5\", \"target\": \"capstone-cluster\", \"AMLSettingsJsonString\": \"{\\\"path\\\":null,\\\"name\\\":\\\"automl-experiment\\\",\\\"subscription_id\\\":\\\"9a7511b8-150f-4a58-8528-3e7d50216c31\\\",\\\"resource_group\\\":\\\"aml-quickstarts-141035\\\",\\\"workspace_name\\\":\\\"quick-starts-ws-141035\\\",\\\"region\\\":\\\"southcentralus\\\",\\\"compute_target\\\":\\\"capstone-cluster\\\",\\\"spark_service\\\":null,\\\"azure_service\\\":\\\"remote\\\",\\\"many_models\\\":false,\\\"pipeline_fetch_max_batch_size\\\":1,\\\"enable_batch_run\\\":false,\\\"iterations\\\":1000,\\\"primary_metric\\\":\\\"accuracy\\\",\\\"task_type\\\":\\\"classification\\\",\\\"data_script\\\":null,\\\"validation_size\\\":0.0,\\\"n_cross_validations\\\":5,\\\"y_min\\\":null,\\\"y_max\\\":null,\\\"num_classes\\\":null,\\\"featurization\\\":\\\"auto\\\",\\\"_ignore_package_version_incompatibilities\\\":false,\\\"is_timeseries\\\":false,\\\"max_cores_per_iteration\\\":1,\\\"max_concurrent_iterations\\\":5,\\\"iteration_timeout_minutes\\\":null,\\\"mem_in_mb\\\":null,\\\"enforce_time_on_windows\\\":false,\\\"experiment_timeout_minutes\\\":60,\\\"experiment_exit_score\\\":null,\\\"whitelist_models\\\":null,\\\"blacklist_algos\\\":[\\\"TensorFlowLinearClassifier\\\",\\\"TensorFlowDNN\\\"],\\\"supported_models\\\":[\\\"LightGBM\\\",\\\"SVM\\\",\\\"MultinomialNaiveBayes\\\",\\\"ExtremeRandomTrees\\\",\\\"TensorFlowDNN\\\",\\\"KNN\\\",\\\"XGBoostClassifier\\\",\\\"SGD\\\",\\\"BernoulliNaiveBayes\\\",\\\"LogisticRegression\\\",\\\"AveragedPerceptronClassifier\\\",\\\"TensorFlowLinearClassifier\\\",\\\"RandomForest\\\",\\\"GradientBoosting\\\",\\\"LinearSVM\\\",\\\"DecisionTree\\\"],\\\"private_models\\\":[],\\\"auto_blacklist\\\":true,\\\"blacklist_samples_reached\\\":false,\\\"exclude_nan_labels\\\":true,\\\"verbosity\\\":20,\\\"_debug_log\\\":\\\"azureml_automl.log\\\",\\\"show_warnings\\\":false,\\\"model_explainability\\\":true,\\\"service_url\\\":null,\\\"sdk_url\\\":null,\\\"sdk_packages\\\":null,\\\"enable_onnx_compatible_models\\\":false,\\\"enable_split_onnx_featurizer_estimator_models\\\":false,\\\"vm_type\\\":\\\"STANDARD_DS3_V2\\\",\\\"telemetry_verbosity\\\":20,\\\"send_telemetry\\\":true,\\\"enable_dnn\\\":false,\\\"scenario\\\":\\\"SDK-1.13.0\\\",\\\"environment_label\\\":null,\\\"save_mlflow\\\":false,\\\"force_text_dnn\\\":false,\\\"enable_feature_sweeping\\\":true,\\\"enable_early_stopping\\\":true,\\\"early_stopping_n_iters\\\":10,\\\"metrics\\\":null,\\\"enable_metric_confidence\\\":false,\\\"enable_ensembling\\\":true,\\\"enable_stack_ensembling\\\":true,\\\"ensemble_iterations\\\":15,\\\"enable_tf\\\":false,\\\"enable_subsampling\\\":null,\\\"subsample_seed\\\":null,\\\"enable_nimbusml\\\":false,\\\"enable_streaming\\\":false,\\\"force_streaming\\\":false,\\\"track_child_runs\\\":true,\\\"allowed_private_models\\\":[],\\\"label_column_name\\\":\\\"DEATH_EVENT\\\",\\\"weight_column_name\\\":null,\\\"cv_split_column_names\\\":null,\\\"enable_local_managed\\\":false,\\\"_local_managed_run_id\\\":null,\\\"cost_mode\\\":1,\\\"lag_length\\\":0,\\\"metric_operation\\\":\\\"maximize\\\",\\\"preprocess\\\":true}\", \"DataPrepJsonString\": \"{\\\\\\\"training_data\\\\\\\": \\\\\\\"{\\\\\\\\\\\\\\\"blocks\\\\\\\\\\\\\\\": [{\\\\\\\\\\\\\\\"id\\\\\\\\\\\\\\\": \\\\\\\\\\\\\\\"8c0c8719-1de1-4ad9-8154-c956c3a65d67\\\\\\\\\\\\\\\", \\\\\\\\\\\\\\\"type\\\\\\\\\\\\\\\": \\\\\\\\\\\\\\\"Microsoft.DPrep.GetDatastoreFilesBlock\\\\\\\\\\\\\\\", \\\\\\\\\\\\\\\"arguments\\\\\\\\\\\\\\\": {\\\\\\\\\\\\\\\"datastores\\\\\\\\\\\\\\\": [{\\\\\\\\\\\\\\\"datastoreName\\\\\\\\\\\\\\\": \\\\\\\\\\\\\\\"workspaceblobstore\\\\\\\\\\\\\\\", \\\\\\\\\\\\\\\"path\\\\\\\\\\\\\\\": \\\\\\\\\\\\\\\"UI/03-21-2021_114056_UTC/heart_failure_clinical_records_dataset.csv\\\\\\\\\\\\\\\", \\\\\\\\\\\\\\\"resourceGroup\\\\\\\\\\\\\\\": \\\\\\\\\\\\\\\"aml-quickstarts-141035\\\\\\\\\\\\\\\", \\\\\\\\\\\\\\\"subscription\\\\\\\\\\\\\\\": \\\\\\\\\\\\\\\"9a7511b8-150f-4a58-8528-3e7d50216c31\\\\\\\\\\\\\\\", \\\\\\\\\\\\\\\"workspaceName\\\\\\\\\\\\\\\": \\\\\\\\\\\\\\\"quick-starts-ws-141035\\\\\\\\\\\\\\\"}]}, \\\\\\\\\\\\\\\"localData\\\\\\\\\\\\\\\": {}, \\\\\\\\\\\\\\\"isEnabled\\\\\\\\\\\\\\\": true, \\\\\\\\\\\\\\\"name\\\\\\\\\\\\\\\": null, \\\\\\\\\\\\\\\"annotation\\\\\\\\\\\\\\\": null}, {\\\\\\\\\\\\\\\"id\\\\\\\\\\\\\\\": \\\\\\\\\\\\\\\"8da6e756-befe-4edd-bab7-63bea24bf4f8\\\\\\\\\\\\\\\", \\\\\\\\\\\\\\\"type\\\\\\\\\\\\\\\": \\\\\\\\\\\\\\\"Microsoft.DPrep.ParseDelimitedBlock\\\\\\\\\\\\\\\", \\\\\\\\\\\\\\\"arguments\\\\\\\\\\\\\\\": {\\\\\\\\\\\\\\\"columnHeadersMode\\\\\\\\\\\\\\\": 1, \\\\\\\\\\\\\\\"fileEncoding\\\\\\\\\\\\\\\": 0, \\\\\\\\\\\\\\\"handleQuotedLineBreaks\\\\\\\\\\\\\\\": false, \\\\\\\\\\\\\\\"preview\\\\\\\\\\\\\\\": false, \\\\\\\\\\\\\\\"separator\\\\\\\\\\\\\\\": \\\\\\\\\\\\\\\",\\\\\\\\\\\\\\\", \\\\\\\\\\\\\\\"skipRows\\\\\\\\\\\\\\\": 0, \\\\\\\\\\\\\\\"skipRowsMode\\\\\\\\\\\\\\\": 0}, \\\\\\\\\\\\\\\"localData\\\\\\\\\\\\\\\": {}, \\\\\\\\\\\\\\\"isEnabled\\\\\\\\\\\\\\\": true, \\\\\\\\\\\\\\\"name\\\\\\\\\\\\\\\": null, \\\\\\\\\\\\\\\"annotation\\\\\\\\\\\\\\\": null}, {\\\\\\\\\\\\\\\"id\\\\\\\\\\\\\\\": \\\\\\\\\\\\\\\"c1a0f3ef-fc8b-446d-8209-dd77f0d3260b\\\\\\\\\\\\\\\", \\\\\\\\\\\\\\\"type\\\\\\\\\\\\\\\": \\\\\\\\\\\\\\\"Microsoft.DPrep.DropColumnsBlock\\\\\\\\\\\\\\\", \\\\\\\\\\\\\\\"arguments\\\\\\\\\\\\\\\": {\\\\\\\\\\\\\\\"columns\\\\\\\\\\\\\\\": {\\\\\\\\\\\\\\\"type\\\\\\\\\\\\\\\": 0, \\\\\\\\\\\\\\\"details\\\\\\\\\\\\\\\": {\\\\\\\\\\\\\\\"selectedColumns\\\\\\\\\\\\\\\": [\\\\\\\\\\\\\\\"Path\\\\\\\\\\\\\\\"]}}}, \\\\\\\\\\\\\\\"localData\\\\\\\\\\\\\\\": {}, \\\\\\\\\\\\\\\"isEnabled\\\\\\\\\\\\\\\": true, \\\\\\\\\\\\\\\"name\\\\\\\\\\\\\\\": null, \\\\\\\\\\\\\\\"annotation\\\\\\\\\\\\\\\": null}, {\\\\\\\\\\\\\\\"id\\\\\\\\\\\\\\\": \\\\\\\\\\\\\\\"afae8bb3-b846-44d2-b594-4027cf3df73a\\\\\\\\\\\\\\\", \\\\\\\\\\\\\\\"type\\\\\\\\\\\\\\\": \\\\\\\\\\\\\\\"Microsoft.DPrep.SetColumnTypesBlock\\\\\\\\\\\\\\\", \\\\\\\\\\\\\\\"arguments\\\\\\\\\\\\\\\": {\\\\\\\\\\\\\\\"columnConversion\\\\\\\\\\\\\\\": [{\\\\\\\\\\\\\\\"column\\\\\\\\\\\\\\\": {\\\\\\\\\\\\\\\"type\\\\\\\\\\\\\\\": 2, \\\\\\\\\\\\\\\"details\\\\\\\\\\\\\\\": {\\\\\\\\\\\\\\\"selectedColumn\\\\\\\\\\\\\\\": \\\\\\\\\\\\\\\"Path\\\\\\\\\\\\\\\"}}, \\\\\\\\\\\\\\\"typeProperty\\\\\\\\\\\\\\\": 0}, {\\\\\\\\\\\\\\\"column\\\\\\\\\\\\\\\": {\\\\\\\\\\\\\\\"type\\\\\\\\\\\\\\\": 2, \\\\\\\\\\\\\\\"details\\\\\\\\\\\\\\\": {\\\\\\\\\\\\\\\"selectedColumn\\\\\\\\\\\\\\\": \\\\\\\\\\\\\\\"age\\\\\\\\\\\\\\\"}}, \\\\\\\\\\\\\\\"typeProperty\\\\\\\\\\\\\\\": 3}, {\\\\\\\\\\\\\\\"column\\\\\\\\\\\\\\\": {\\\\\\\\\\\\\\\"type\\\\\\\\\\\\\\\": 2, \\\\\\\\\\\\\\\"details\\\\\\\\\\\\\\\": {\\\\\\\\\\\\\\\"selectedColumn\\\\\\\\\\\\\\\": \\\\\\\\\\\\\\\"anaemia\\\\\\\\\\\\\\\"}}, \\\\\\\\\\\\\\\"typeProperty\\\\\\\\\\\\\\\": 2}, {\\\\\\\\\\\\\\\"column\\\\\\\\\\\\\\\": {\\\\\\\\\\\\\\\"type\\\\\\\\\\\\\\\": 2, \\\\\\\\\\\\\\\"details\\\\\\\\\\\\\\\": {\\\\\\\\\\\\\\\"selectedColumn\\\\\\\\\\\\\\\": \\\\\\\\\\\\\\\"creatinine_phosphokinase\\\\\\\\\\\\\\\"}}, \\\\\\\\\\\\\\\"typeProperty\\\\\\\\\\\\\\\": 2}, {\\\\\\\\\\\\\\\"column\\\\\\\\\\\\\\\": {\\\\\\\\\\\\\\\"type\\\\\\\\\\\\\\\": 2, \\\\\\\\\\\\\\\"details\\\\\\\\\\\\\\\": {\\\\\\\\\\\\\\\"selectedColumn\\\\\\\\\\\\\\\": \\\\\\\\\\\\\\\"diabetes\\\\\\\\\\\\\\\"}}, \\\\\\\\\\\\\\\"typeProperty\\\\\\\\\\\\\\\": 2}, {\\\\\\\\\\\\\\\"column\\\\\\\\\\\\\\\": {\\\\\\\\\\\\\\\"type\\\\\\\\\\\\\\\": 2, \\\\\\\\\\\\\\\"details\\\\\\\\\\\\\\\": {\\\\\\\\\\\\\\\"selectedColumn\\\\\\\\\\\\\\\": \\\\\\\\\\\\\\\"ejection_fraction\\\\\\\\\\\\\\\"}}, \\\\\\\\\\\\\\\"typeProperty\\\\\\\\\\\\\\\": 2}, {\\\\\\\\\\\\\\\"column\\\\\\\\\\\\\\\": {\\\\\\\\\\\\\\\"type\\\\\\\\\\\\\\\": 2, \\\\\\\\\\\\\\\"details\\\\\\\\\\\\\\\": {\\\\\\\\\\\\\\\"selectedColumn\\\\\\\\\\\\\\\": \\\\\\\\\\\\\\\"high_blood_pressure\\\\\\\\\\\\\\\"}}, \\\\\\\\\\\\\\\"typeProperty\\\\\\\\\\\\\\\": 2}, {\\\\\\\\\\\\\\\"column\\\\\\\\\\\\\\\": {\\\\\\\\\\\\\\\"type\\\\\\\\\\\\\\\": 2, \\\\\\\\\\\\\\\"details\\\\\\\\\\\\\\\": {\\\\\\\\\\\\\\\"selectedColumn\\\\\\\\\\\\\\\": \\\\\\\\\\\\\\\"platelets\\\\\\\\\\\\\\\"}}, \\\\\\\\\\\\\\\"typeProperty\\\\\\\\\\\\\\\": 3}, {\\\\\\\\\\\\\\\"column\\\\\\\\\\\\\\\": {\\\\\\\\\\\\\\\"type\\\\\\\\\\\\\\\": 2, \\\\\\\\\\\\\\\"details\\\\\\\\\\\\\\\": {\\\\\\\\\\\\\\\"selectedColumn\\\\\\\\\\\\\\\": \\\\\\\\\\\\\\\"serum_creatinine\\\\\\\\\\\\\\\"}}, \\\\\\\\\\\\\\\"typeProperty\\\\\\\\\\\\\\\": 3}, {\\\\\\\\\\\\\\\"column\\\\\\\\\\\\\\\": {\\\\\\\\\\\\\\\"type\\\\\\\\\\\\\\\": 2, \\\\\\\\\\\\\\\"details\\\\\\\\\\\\\\\": {\\\\\\\\\\\\\\\"selectedColumn\\\\\\\\\\\\\\\": \\\\\\\\\\\\\\\"serum_sodium\\\\\\\\\\\\\\\"}}, \\\\\\\\\\\\\\\"typeProperty\\\\\\\\\\\\\\\": 2}, {\\\\\\\\\\\\\\\"column\\\\\\\\\\\\\\\": {\\\\\\\\\\\\\\\"type\\\\\\\\\\\\\\\": 2, \\\\\\\\\\\\\\\"details\\\\\\\\\\\\\\\": {\\\\\\\\\\\\\\\"selectedColumn\\\\\\\\\\\\\\\": \\\\\\\\\\\\\\\"sex\\\\\\\\\\\\\\\"}}, \\\\\\\\\\\\\\\"typeProperty\\\\\\\\\\\\\\\": 2}, {\\\\\\\\\\\\\\\"column\\\\\\\\\\\\\\\": {\\\\\\\\\\\\\\\"type\\\\\\\\\\\\\\\": 2, \\\\\\\\\\\\\\\"details\\\\\\\\\\\\\\\": {\\\\\\\\\\\\\\\"selectedColumn\\\\\\\\\\\\\\\": \\\\\\\\\\\\\\\"smoking\\\\\\\\\\\\\\\"}}, \\\\\\\\\\\\\\\"typeProperty\\\\\\\\\\\\\\\": 2}, {\\\\\\\\\\\\\\\"column\\\\\\\\\\\\\\\": {\\\\\\\\\\\\\\\"type\\\\\\\\\\\\\\\": 2, \\\\\\\\\\\\\\\"details\\\\\\\\\\\\\\\": {\\\\\\\\\\\\\\\"selectedColumn\\\\\\\\\\\\\\\": \\\\\\\\\\\\\\\"time\\\\\\\\\\\\\\\"}}, \\\\\\\\\\\\\\\"typeProperty\\\\\\\\\\\\\\\": 2}, {\\\\\\\\\\\\\\\"column\\\\\\\\\\\\\\\": {\\\\\\\\\\\\\\\"type\\\\\\\\\\\\\\\": 2, \\\\\\\\\\\\\\\"details\\\\\\\\\\\\\\\": {\\\\\\\\\\\\\\\"selectedColumn\\\\\\\\\\\\\\\": \\\\\\\\\\\\\\\"DEATH_EVENT\\\\\\\\\\\\\\\"}}, \\\\\\\\\\\\\\\"typeProperty\\\\\\\\\\\\\\\": 2}]}, \\\\\\\\\\\\\\\"localData\\\\\\\\\\\\\\\": {}, \\\\\\\\\\\\\\\"isEnabled\\\\\\\\\\\\\\\": true, \\\\\\\\\\\\\\\"name\\\\\\\\\\\\\\\": null, \\\\\\\\\\\\\\\"annotation\\\\\\\\\\\\\\\": null}], \\\\\\\\\\\\\\\"inspectors\\\\\\\\\\\\\\\": [], \\\\\\\\\\\\\\\"meta\\\\\\\\\\\\\\\": {\\\\\\\\\\\\\\\"savedDatasetId\\\\\\\\\\\\\\\": \\\\\\\\\\\\\\\"0298a6ed-6a4c-4891-b6d0-06d53939e51c\\\\\\\\\\\\\\\", \\\\\\\\\\\\\\\"datasetType\\\\\\\\\\\\\\\": \\\\\\\\\\\\\\\"tabular\\\\\\\\\\\\\\\", \\\\\\\\\\\\\\\"subscriptionId\\\\\\\\\\\\\\\": \\\\\\\\\\\\\\\"9a7511b8-150f-4a58-8528-3e7d50216c31\\\\\\\\\\\\\\\", \\\\\\\\\\\\\\\"workspaceId\\\\\\\\\\\\\\\": \\\\\\\\\\\\\\\"9bf2f89e-a906-420d-99ae-abb9d156fa9e\\\\\\\\\\\\\\\", \\\\\\\\\\\\\\\"workspaceLocation\\\\\\\\\\\\\\\": \\\\\\\\\\\\\\\"southcentralus\\\\\\\\\\\\\\\"}}\\\\\\\", \\\\\\\"activities\\\\\\\": 0}\", \"EnableSubsampling\": null, \"runTemplate\": \"AutoML\", \"azureml.runsource\": \"automl\", \"display_task_type\": \"classification\", \"dependencies_versions\": \"{\\\"azureml-widgets\\\": \\\"1.24.0\\\", \\\"azureml-train\\\": \\\"1.24.0\\\", \\\"azureml-train-restclients-hyperdrive\\\": \\\"1.24.0\\\", \\\"azureml-train-core\\\": \\\"1.24.0\\\", \\\"azureml-train-automl\\\": \\\"1.24.0\\\", \\\"azureml-train-automl-runtime\\\": \\\"1.24.0\\\", \\\"azureml-train-automl-client\\\": \\\"1.24.0\\\", \\\"azureml-tensorboard\\\": \\\"1.24.0\\\", \\\"azureml-telemetry\\\": \\\"1.24.0\\\", \\\"azureml-sdk\\\": \\\"1.24.0\\\", \\\"azureml-samples\\\": \\\"0+unknown\\\", \\\"azureml-pipeline\\\": \\\"1.24.0\\\", \\\"azureml-pipeline-steps\\\": \\\"1.24.0\\\", \\\"azureml-pipeline-core\\\": \\\"1.24.0\\\", \\\"azureml-opendatasets\\\": \\\"1.24.0\\\", \\\"azureml-model-management-sdk\\\": \\\"1.0.1b6.post1\\\", \\\"azureml-mlflow\\\": \\\"1.24.0\\\", \\\"azureml-interpret\\\": \\\"1.24.0\\\", \\\"azureml-explain-model\\\": \\\"1.24.0\\\", \\\"azureml-defaults\\\": \\\"1.24.0\\\", \\\"azureml-dataset-runtime\\\": \\\"1.24.0\\\", \\\"azureml-dataprep\\\": \\\"2.11.1\\\", \\\"azureml-dataprep-rslex\\\": \\\"1.9.0\\\", \\\"azureml-dataprep-native\\\": \\\"30.0.0\\\", \\\"azureml-datadrift\\\": \\\"1.24.0\\\", \\\"azureml-core\\\": \\\"1.24.0\\\", \\\"azureml-contrib-services\\\": \\\"1.24.0\\\", \\\"azureml-contrib-server\\\": \\\"1.24.0\\\", \\\"azureml-contrib-reinforcementlearning\\\": \\\"1.24.0\\\", \\\"azureml-contrib-pipeline-steps\\\": \\\"1.24.0\\\", \\\"azureml-contrib-notebook\\\": \\\"1.24.0\\\", \\\"azureml-contrib-gbdt\\\": \\\"1.24.0\\\", \\\"azureml-contrib-fairness\\\": \\\"1.24.0\\\", \\\"azureml-contrib-dataset\\\": \\\"1.24.0\\\", \\\"azureml-cli-common\\\": \\\"1.24.0\\\", \\\"azureml-automl-runtime\\\": \\\"1.24.0\\\", \\\"azureml-automl-dnn-nlp\\\": \\\"1.24.0\\\", \\\"azureml-automl-core\\\": \\\"1.24.0\\\", \\\"azureml-accel-models\\\": \\\"1.24.0\\\"}\", \"_aml_system_scenario_identification\": \"Remote.Parent\", \"ClientType\": \"SDK\", \"environment_cpu_name\": \"AzureML-AutoML\", \"environment_cpu_label\": \"prod\", \"environment_gpu_name\": \"AzureML-AutoML-GPU\", \"environment_gpu_label\": \"prod\", \"root_attribution\": \"automl\", \"attribution\": \"AutoML\", \"Orchestrator\": \"AutoML\", \"CancelUri\": \"https://southcentralus.experiments.azureml.net/jasmine/v1.0/subscriptions/9a7511b8-150f-4a58-8528-3e7d50216c31/resourceGroups/aml-quickstarts-141035/providers/Microsoft.MachineLearningServices/workspaces/quick-starts-ws-141035/experimentids/098cf88a-73a8-4df2-bf88-1d7e51501833/cancel/AutoML_010da3bb-80a6-4657-9973-7eb391ad867f\", \"ClientSdkVersion\": \"1.24.0\", \"snapshotId\": \"00000000-0000-0000-0000-000000000000\", \"SetupRunId\": \"AutoML_010da3bb-80a6-4657-9973-7eb391ad867f_setup\", \"SetupRunContainerId\": \"dcid.AutoML_010da3bb-80a6-4657-9973-7eb391ad867f_setup\", \"FeaturizationRunJsonPath\": \"featurizer_container.json\", \"FeaturizationRunId\": \"AutoML_010da3bb-80a6-4657-9973-7eb391ad867f_featurize\", \"ProblemInfoJsonString\": \"{\\\"dataset_num_categorical\\\": 0, \\\"is_sparse\\\": false, \\\"subsampling\\\": false, \\\"dataset_classes\\\": 2, \\\"dataset_features\\\": 12, \\\"dataset_samples\\\": 299, \\\"single_frequency_class_detected\\\": false}\", \"ModelExplainRunId\": \"AutoML_010da3bb-80a6-4657-9973-7eb391ad867f_ModelExplain\"}, \"tags\": {\"model_explain_run\": \"best_run\", \"_aml_system_azureml.automlComponent\": \"AutoML\", \"pipeline_id\": \"\", \"score\": \"\", \"predicted_cost\": \"\", \"fit_time\": \"\", \"training_percent\": \"\", \"iteration\": \"\", \"run_preprocessor\": \"\", \"run_algorithm\": \"\", \"dynamic_whitelisting_iterations\": \"<25>;<30>;<35>;\", \"automl_best_child_run_id\": \"AutoML_010da3bb-80a6-4657-9973-7eb391ad867f_38\", \"model_explain_best_run_child_id\": \"AutoML_010da3bb-80a6-4657-9973-7eb391ad867f_38\"}, \"end_time_utc\": \"2021-03-21T12:07:56.178697Z\", \"status\": \"Completed\", \"log_files\": {}, \"log_groups\": [], \"run_duration\": \"0:19:59\", \"run_number\": \"1\", \"run_queued_details\": {\"status\": \"Completed\", \"details\": null}}, \"child_runs\": [{\"run_id\": \"AutoML_010da3bb-80a6-4657-9973-7eb391ad867f_0\", \"run_number\": 5, \"metric\": null, \"status\": \"Completed\", \"run_type\": \"azureml.scriptrun\", \"training_percent\": \"100\", \"start_time\": \"2021-03-21T11:52:04.641432Z\", \"end_time\": \"2021-03-21T11:52:49.643074Z\", \"created_time\": \"2021-03-21T11:51:52.620255Z\", \"created_time_dt\": \"2021-03-21T11:51:52.620255Z\", \"duration\": \"0:00:57\", \"iteration\": \"0\", \"goal\": \"accuracy_max\", \"run_name\": \"MaxAbsScaler, LightGBM\", \"run_properties\": \"copy=True\", \"primary_metric\": 0.8059887, \"best_metric\": 0.8059887}, {\"run_id\": \"AutoML_010da3bb-80a6-4657-9973-7eb391ad867f_1\", \"run_number\": 6, \"metric\": null, \"status\": \"Completed\", \"run_type\": \"azureml.scriptrun\", \"training_percent\": \"100\", \"start_time\": \"2021-03-21T11:54:23.117269Z\", \"end_time\": \"2021-03-21T11:56:16.820613Z\", \"created_time\": \"2021-03-21T11:51:52.650619Z\", \"created_time_dt\": \"2021-03-21T11:51:52.650619Z\", \"duration\": \"0:04:24\", \"iteration\": \"1\", \"goal\": \"accuracy_max\", \"run_name\": \"MaxAbsScaler, XGBoostClassifier\", \"run_properties\": \"copy=True\", \"primary_metric\": 0.8259322, \"best_metric\": 0.8259322}, {\"run_id\": \"AutoML_010da3bb-80a6-4657-9973-7eb391ad867f_2\", \"run_number\": 7, \"metric\": null, \"status\": \"Completed\", \"run_type\": \"azureml.scriptrun\", \"training_percent\": \"100\", \"start_time\": \"2021-03-21T11:54:10.450258Z\", \"end_time\": \"2021-03-21T11:54:59.94455Z\", \"created_time\": \"2021-03-21T11:51:52.653834Z\", \"created_time_dt\": \"2021-03-21T11:51:52.653834Z\", \"duration\": \"0:03:07\", \"iteration\": \"2\", \"goal\": \"accuracy_max\", \"run_name\": \"MinMaxScaler, RandomForest\", \"run_properties\": \"copy=True, feature_range=(0, 1\", \"primary_metric\": 0.83259887, \"best_metric\": 0.83259887}, {\"run_id\": \"AutoML_010da3bb-80a6-4657-9973-7eb391ad867f_4\", \"run_number\": 8, \"metric\": null, \"status\": \"Completed\", \"run_type\": \"azureml.scriptrun\", \"training_percent\": \"100\", \"start_time\": \"2021-03-21T11:53:05.204804Z\", \"end_time\": \"2021-03-21T11:53:57.279982Z\", \"created_time\": \"2021-03-21T11:51:52.66369Z\", \"created_time_dt\": \"2021-03-21T11:51:52.66369Z\", \"duration\": \"0:02:04\", \"iteration\": \"4\", \"goal\": \"accuracy_max\", \"run_name\": \"MinMaxScaler, RandomForest\", \"run_properties\": \"copy=True, feature_range=(0, 1\", \"primary_metric\": 0.82926554, \"best_metric\": 0.83259887}, {\"run_id\": \"AutoML_010da3bb-80a6-4657-9973-7eb391ad867f_3\", \"run_number\": 9, \"metric\": null, \"status\": \"Completed\", \"run_type\": \"azureml.scriptrun\", \"training_percent\": \"100\", \"start_time\": \"2021-03-21T11:54:24.598977Z\", \"end_time\": \"2021-03-21T11:56:22.93964Z\", \"created_time\": \"2021-03-21T11:51:52.660256Z\", \"created_time_dt\": \"2021-03-21T11:51:52.660256Z\", \"duration\": \"0:04:30\", \"iteration\": \"3\", \"goal\": \"accuracy_max\", \"run_name\": \"MinMaxScaler, RandomForest\", \"run_properties\": \"copy=True, feature_range=(0, 1\", \"primary_metric\": 0.82915254, \"best_metric\": 0.83259887}, {\"run_id\": \"AutoML_010da3bb-80a6-4657-9973-7eb391ad867f_5\", \"run_number\": 10, \"metric\": null, \"status\": \"Completed\", \"run_type\": \"azureml.scriptrun\", \"training_percent\": \"100\", \"start_time\": \"2021-03-21T11:54:24.628382Z\", \"end_time\": \"2021-03-21T11:56:24.086252Z\", \"created_time\": \"2021-03-21T11:52:51.150304Z\", \"created_time_dt\": \"2021-03-21T11:52:51.150304Z\", \"duration\": \"0:03:32\", \"iteration\": \"5\", \"goal\": \"accuracy_max\", \"run_name\": \"StandardScalerWrapper, KNN\", \"run_properties\": \"<azureml.automl.runtime.shared.model_wrappers.StandardScalerWrapper object at 0x7f83cfe3d4e0\", \"primary_metric\": 0.72581921, \"best_metric\": 0.83259887}, {\"run_id\": \"AutoML_010da3bb-80a6-4657-9973-7eb391ad867f_6\", \"run_number\": 11, \"metric\": null, \"status\": \"Completed\", \"run_type\": \"azureml.scriptrun\", \"training_percent\": \"100\", \"start_time\": \"2021-03-21T11:56:36.62002Z\", \"end_time\": \"2021-03-21T11:57:24.404933Z\", \"created_time\": \"2021-03-21T11:54:00.263475Z\", \"created_time_dt\": \"2021-03-21T11:54:00.263475Z\", \"duration\": \"0:03:24\", \"iteration\": \"6\", \"goal\": \"accuracy_max\", \"run_name\": \"RobustScaler, LightGBM\", \"run_properties\": \"copy=True, quantile_range=[10, 90], with_centering=True,\\n             with_scaling=False\", \"primary_metric\": 0.82937853, \"best_metric\": 0.83259887}, {\"run_id\": \"AutoML_010da3bb-80a6-4657-9973-7eb391ad867f_7\", \"run_number\": 12, \"metric\": null, \"status\": \"Completed\", \"run_type\": \"azureml.scriptrun\", \"training_percent\": \"100\", \"start_time\": \"2021-03-21T11:56:37.101282Z\", \"end_time\": \"2021-03-21T11:57:35.236461Z\", \"created_time\": \"2021-03-21T11:55:02.144558Z\", \"created_time_dt\": \"2021-03-21T11:55:02.144558Z\", \"duration\": \"0:02:33\", \"iteration\": \"7\", \"goal\": \"accuracy_max\", \"run_name\": \"MinMaxScaler, SVM\", \"run_properties\": \"copy=True, feature_range=(0, 1\", \"primary_metric\": 0.71576271, \"best_metric\": 0.83259887}, {\"run_id\": \"AutoML_010da3bb-80a6-4657-9973-7eb391ad867f_8\", \"run_number\": 13, \"metric\": null, \"status\": \"Completed\", \"run_type\": \"azureml.scriptrun\", \"training_percent\": \"100\", \"start_time\": \"2021-03-21T11:56:43.164675Z\", \"end_time\": \"2021-03-21T11:57:39.123293Z\", \"created_time\": \"2021-03-21T11:56:19.030787Z\", \"created_time_dt\": \"2021-03-21T11:56:19.030787Z\", \"duration\": \"0:01:20\", \"iteration\": \"8\", \"goal\": \"accuracy_max\", \"run_name\": \"SparseNormalizer, XGBoostClassifier\", \"run_properties\": \"<azureml.automl.runtime.shared.model_wrappers.SparseNormalizer object at 0x7efe265510b8\", \"primary_metric\": 0.82615819, \"best_metric\": 0.83259887}, {\"run_id\": \"AutoML_010da3bb-80a6-4657-9973-7eb391ad867f_9\", \"run_number\": 14, \"metric\": null, \"status\": \"Completed\", \"run_type\": \"azureml.scriptrun\", \"training_percent\": \"100\", \"start_time\": \"2021-03-21T11:56:55.067029Z\", \"end_time\": \"2021-03-21T11:58:46.422076Z\", \"created_time\": \"2021-03-21T11:56:24.830645Z\", \"created_time_dt\": \"2021-03-21T11:56:24.830645Z\", \"duration\": \"0:02:21\", \"iteration\": \"9\", \"goal\": \"accuracy_max\", \"run_name\": \"SparseNormalizer, XGBoostClassifier\", \"run_properties\": \"<azureml.automl.runtime.shared.model_wrappers.SparseNormalizer object at 0x7f69d4158198\", \"primary_metric\": 0.84627119, \"best_metric\": 0.84627119}, {\"run_id\": \"AutoML_010da3bb-80a6-4657-9973-7eb391ad867f_10\", \"run_number\": 15, \"metric\": null, \"status\": \"Completed\", \"run_type\": \"azureml.scriptrun\", \"training_percent\": \"100\", \"start_time\": \"2021-03-21T11:57:41.059844Z\", \"end_time\": \"2021-03-21T11:58:29.545234Z\", \"created_time\": \"2021-03-21T11:56:27.726332Z\", \"created_time_dt\": \"2021-03-21T11:56:27.726332Z\", \"duration\": \"0:02:01\", \"iteration\": \"10\", \"goal\": \"accuracy_max\", \"run_name\": \"SparseNormalizer, XGBoostClassifier\", \"run_properties\": \"<azureml.automl.runtime.shared.model_wrappers.SparseNormalizer object at 0x7fcbcb338278\", \"primary_metric\": 0.86299435, \"best_metric\": 0.86299435}, {\"run_id\": \"AutoML_010da3bb-80a6-4657-9973-7eb391ad867f_11\", \"run_number\": 16, \"metric\": null, \"status\": \"Completed\", \"run_type\": \"azureml.scriptrun\", \"training_percent\": \"100\", \"start_time\": \"2021-03-21T11:57:57.385981Z\", \"end_time\": \"2021-03-21T11:58:43.138909Z\", \"created_time\": \"2021-03-21T11:57:26.173601Z\", \"created_time_dt\": \"2021-03-21T11:57:26.173601Z\", \"duration\": \"0:01:16\", \"iteration\": \"11\", \"goal\": \"accuracy_max\", \"run_name\": \"SparseNormalizer, XGBoostClassifier\", \"run_properties\": \"<azureml.automl.runtime.shared.model_wrappers.SparseNormalizer object at 0x7f9f80046208\", \"primary_metric\": 0.80937853, \"best_metric\": 0.86299435}, {\"run_id\": \"AutoML_010da3bb-80a6-4657-9973-7eb391ad867f_12\", \"run_number\": 17, \"metric\": null, \"status\": \"Completed\", \"run_type\": \"azureml.scriptrun\", \"training_percent\": \"100\", \"start_time\": \"2021-03-21T11:58:03.932087Z\", \"end_time\": \"2021-03-21T11:58:51.380684Z\", \"created_time\": \"2021-03-21T11:57:37.073946Z\", \"created_time_dt\": \"2021-03-21T11:57:37.073946Z\", \"duration\": \"0:01:14\", \"iteration\": \"12\", \"goal\": \"accuracy_max\", \"run_name\": \"StandardScalerWrapper, RandomForest\", \"run_properties\": \"<azureml.automl.runtime.shared.model_wrappers.StandardScalerWrapper object at 0x7f827a93dda0\", \"primary_metric\": 0.83926554, \"best_metric\": 0.86299435}, {\"run_id\": \"AutoML_010da3bb-80a6-4657-9973-7eb391ad867f_13\", \"run_number\": 18, \"metric\": null, \"status\": \"Completed\", \"run_type\": \"azureml.scriptrun\", \"training_percent\": \"100\", \"start_time\": \"2021-03-21T11:58:44.826514Z\", \"end_time\": \"2021-03-21T11:59:32.117075Z\", \"created_time\": \"2021-03-21T11:57:40.934566Z\", \"created_time_dt\": \"2021-03-21T11:57:40.934566Z\", \"duration\": \"0:01:51\", \"iteration\": \"13\", \"goal\": \"accuracy_max\", \"run_name\": \"SparseNormalizer, XGBoostClassifier\", \"run_properties\": \"<azureml.automl.runtime.shared.model_wrappers.SparseNormalizer object at 0x7f47d32af470\", \"primary_metric\": 0.82943503, \"best_metric\": 0.86299435}, {\"run_id\": \"AutoML_010da3bb-80a6-4657-9973-7eb391ad867f_14\", \"run_number\": 19, \"metric\": null, \"status\": \"Completed\", \"run_type\": \"azureml.scriptrun\", \"training_percent\": \"100\", \"start_time\": \"2021-03-21T11:59:00.54867Z\", \"end_time\": \"2021-03-21T11:59:47.612043Z\", \"created_time\": \"2021-03-21T11:58:32.188691Z\", \"created_time_dt\": \"2021-03-21T11:58:32.188691Z\", \"duration\": \"0:01:15\", \"iteration\": \"14\", \"goal\": \"accuracy_max\", \"run_name\": \"RobustScaler, RandomForest\", \"run_properties\": \"copy=True, quantile_range=[10, 90], with_centering=True,\\n             with_scaling=True\", \"primary_metric\": 0.8359887, \"best_metric\": 0.86299435}, {\"run_id\": \"AutoML_010da3bb-80a6-4657-9973-7eb391ad867f_15\", \"run_number\": 20, \"metric\": null, \"status\": \"Completed\", \"run_type\": \"azureml.scriptrun\", \"training_percent\": \"100\", \"start_time\": \"2021-03-21T11:59:24.522919Z\", \"end_time\": \"2021-03-21T12:00:18.951154Z\", \"created_time\": \"2021-03-21T11:58:45.307268Z\", \"created_time_dt\": \"2021-03-21T11:58:45.307268Z\", \"duration\": \"0:01:33\", \"iteration\": \"15\", \"goal\": \"accuracy_max\", \"run_name\": \"StandardScalerWrapper, XGBoostClassifier\", \"run_properties\": \"<azureml.automl.runtime.shared.model_wrappers.StandardScalerWrapper object at 0x7fbab0811b70\", \"primary_metric\": 0.82265537, \"best_metric\": 0.86299435}, {\"run_id\": \"AutoML_010da3bb-80a6-4657-9973-7eb391ad867f_16\", \"run_number\": 21, \"metric\": null, \"status\": \"Completed\", \"run_type\": \"azureml.scriptrun\", \"training_percent\": \"100\", \"start_time\": \"2021-03-21T11:59:47.567532Z\", \"end_time\": \"2021-03-21T12:01:38.821397Z\", \"created_time\": \"2021-03-21T11:58:49.134012Z\", \"created_time_dt\": \"2021-03-21T11:58:49.134012Z\", \"duration\": \"0:02:49\", \"iteration\": \"16\", \"goal\": \"accuracy_max\", \"run_name\": \"MaxAbsScaler, LightGBM\", \"run_properties\": \"copy=True\", \"primary_metric\": 0.82271186, \"best_metric\": 0.86299435}, {\"run_id\": \"AutoML_010da3bb-80a6-4657-9973-7eb391ad867f_17\", \"run_number\": 22, \"metric\": null, \"status\": \"Completed\", \"run_type\": \"azureml.scriptrun\", \"training_percent\": \"100\", \"start_time\": \"2021-03-21T11:59:48.062829Z\", \"end_time\": \"2021-03-21T12:00:36.60514Z\", \"created_time\": \"2021-03-21T11:58:53.043449Z\", \"created_time_dt\": \"2021-03-21T11:58:53.043449Z\", \"duration\": \"0:01:43\", \"iteration\": \"17\", \"goal\": \"accuracy_max\", \"run_name\": \"SparseNormalizer, LightGBM\", \"run_properties\": \"<azureml.automl.runtime.shared.model_wrappers.SparseNormalizer object at 0x7f67a91d2b00\", \"primary_metric\": 0.83299435, \"best_metric\": 0.86299435}, {\"run_id\": \"AutoML_010da3bb-80a6-4657-9973-7eb391ad867f_18\", \"run_number\": 23, \"metric\": null, \"status\": \"Completed\", \"run_type\": \"azureml.scriptrun\", \"training_percent\": \"100\", \"start_time\": \"2021-03-21T12:00:05.263381Z\", \"end_time\": \"2021-03-21T12:00:50.597578Z\", \"created_time\": \"2021-03-21T11:59:33.764346Z\", \"created_time_dt\": \"2021-03-21T11:59:33.764346Z\", \"duration\": \"0:01:16\", \"iteration\": \"18\", \"goal\": \"accuracy_max\", \"run_name\": \"MinMaxScaler, LightGBM\", \"run_properties\": \"copy=True, feature_range=(0, 1\", \"primary_metric\": 0.8260452, \"best_metric\": 0.86299435}, {\"run_id\": \"AutoML_010da3bb-80a6-4657-9973-7eb391ad867f_19\", \"run_number\": 24, \"metric\": null, \"status\": \"Completed\", \"run_type\": \"azureml.scriptrun\", \"training_percent\": \"100\", \"start_time\": \"2021-03-21T12:00:35.893322Z\", \"end_time\": \"2021-03-21T12:01:20.713007Z\", \"created_time\": \"2021-03-21T11:59:50.081345Z\", \"created_time_dt\": \"2021-03-21T11:59:50.081345Z\", \"duration\": \"0:01:30\", \"iteration\": \"19\", \"goal\": \"accuracy_max\", \"run_name\": \"StandardScalerWrapper, LightGBM\", \"run_properties\": \"<azureml.automl.runtime.shared.model_wrappers.StandardScalerWrapper object at 0x7fd5852baeb8\", \"primary_metric\": 0.84282486, \"best_metric\": 0.86299435}, {\"run_id\": \"AutoML_010da3bb-80a6-4657-9973-7eb391ad867f_20\", \"run_number\": 25, \"metric\": null, \"status\": \"Completed\", \"run_type\": \"azureml.scriptrun\", \"training_percent\": \"100\", \"start_time\": \"2021-03-21T12:01:12.487165Z\", \"end_time\": \"2021-03-21T12:01:55.999023Z\", \"created_time\": \"2021-03-21T12:00:22.470912Z\", \"created_time_dt\": \"2021-03-21T12:00:22.470912Z\", \"duration\": \"0:01:33\", \"iteration\": \"20\", \"goal\": \"accuracy_max\", \"run_name\": \"StandardScalerWrapper, LightGBM\", \"run_properties\": \"<azureml.automl.runtime.shared.model_wrappers.StandardScalerWrapper object at 0x7f0da97a5400\", \"primary_metric\": 0.74587571, \"best_metric\": 0.86299435}, {\"run_id\": \"AutoML_010da3bb-80a6-4657-9973-7eb391ad867f_21\", \"run_number\": 26, \"metric\": null, \"status\": \"Completed\", \"run_type\": \"azureml.scriptrun\", \"training_percent\": \"100\", \"start_time\": \"2021-03-21T12:01:34.652844Z\", \"end_time\": \"2021-03-21T12:02:22.845579Z\", \"created_time\": \"2021-03-21T12:00:38.461274Z\", \"created_time_dt\": \"2021-03-21T12:00:38.461274Z\", \"duration\": \"0:01:44\", \"iteration\": \"21\", \"goal\": \"accuracy_max\", \"run_name\": \"MinMaxScaler, LightGBM\", \"run_properties\": \"copy=True, feature_range=(0, 1\", \"primary_metric\": 0.81615819, \"best_metric\": 0.86299435}, {\"run_id\": \"AutoML_010da3bb-80a6-4657-9973-7eb391ad867f_22\", \"run_number\": 27, \"metric\": null, \"status\": \"Completed\", \"run_type\": \"azureml.scriptrun\", \"training_percent\": \"100\", \"start_time\": \"2021-03-21T12:01:53.500085Z\", \"end_time\": \"2021-03-21T12:02:42.708147Z\", \"created_time\": \"2021-03-21T12:00:52.379538Z\", \"created_time_dt\": \"2021-03-21T12:00:52.379538Z\", \"duration\": \"0:01:50\", \"iteration\": \"22\", \"goal\": \"accuracy_max\", \"run_name\": \"RobustScaler, LightGBM\", \"run_properties\": \"copy=True, quantile_range=[25, 75], with_centering=True,\\n             with_scaling=False\", \"primary_metric\": 0.8159322, \"best_metric\": 0.86299435}, {\"run_id\": \"AutoML_010da3bb-80a6-4657-9973-7eb391ad867f_23\", \"run_number\": 28, \"metric\": null, \"status\": \"Completed\", \"run_type\": \"azureml.scriptrun\", \"training_percent\": \"100\", \"start_time\": \"2021-03-21T12:02:10.553084Z\", \"end_time\": \"2021-03-21T12:03:00.100879Z\", \"created_time\": \"2021-03-21T12:01:22.331685Z\", \"created_time_dt\": \"2021-03-21T12:01:22.331685Z\", \"duration\": \"0:01:37\", \"iteration\": \"23\", \"goal\": \"accuracy_max\", \"run_name\": \"RobustScaler, LightGBM\", \"run_properties\": \"copy=True, quantile_range=[10, 90], with_centering=True,\\n             with_scaling=False\", \"primary_metric\": 0.7659322, \"best_metric\": 0.86299435}, {\"run_id\": \"AutoML_010da3bb-80a6-4657-9973-7eb391ad867f_24\", \"run_number\": 29, \"metric\": null, \"status\": \"Completed\", \"run_type\": \"azureml.scriptrun\", \"training_percent\": \"100\", \"start_time\": \"2021-03-21T12:02:35.029109Z\", \"end_time\": \"2021-03-21T12:03:38.58362Z\", \"created_time\": \"2021-03-21T12:01:40.594596Z\", \"created_time_dt\": \"2021-03-21T12:01:40.594596Z\", \"duration\": \"0:01:57\", \"iteration\": \"24\", \"goal\": \"accuracy_max\", \"run_name\": \"StandardScalerWrapper, LightGBM\", \"run_properties\": \"<azureml.automl.runtime.shared.model_wrappers.StandardScalerWrapper object at 0x7f2696276a90\", \"primary_metric\": 0.7959887, \"best_metric\": 0.86299435}, {\"run_id\": \"AutoML_010da3bb-80a6-4657-9973-7eb391ad867f_25\", \"run_number\": 30, \"metric\": null, \"status\": \"Completed\", \"run_type\": \"azureml.scriptrun\", \"training_percent\": \"100\", \"start_time\": \"2021-03-21T12:02:39.618555Z\", \"end_time\": \"2021-03-21T12:03:23.643783Z\", \"created_time\": \"2021-03-21T12:01:58.66739Z\", \"created_time_dt\": \"2021-03-21T12:01:58.66739Z\", \"duration\": \"0:01:24\", \"iteration\": \"25\", \"goal\": \"accuracy_max\", \"run_name\": \"TruncatedSVDWrapper, XGBoostClassifier\", \"run_properties\": \"n_components=0.5047368421052632, random_state=None\", \"primary_metric\": 0.67909605, \"best_metric\": 0.86299435}, {\"run_id\": \"AutoML_010da3bb-80a6-4657-9973-7eb391ad867f_26\", \"run_number\": 31, \"metric\": null, \"status\": \"Completed\", \"run_type\": \"azureml.scriptrun\", \"training_percent\": \"100\", \"start_time\": \"2021-03-21T12:03:10.985154Z\", \"end_time\": \"2021-03-21T12:04:06.924918Z\", \"created_time\": \"2021-03-21T12:02:24.652769Z\", \"created_time_dt\": \"2021-03-21T12:02:24.652769Z\", \"duration\": \"0:01:42\", \"iteration\": \"26\", \"goal\": \"accuracy_max\", \"run_name\": \"StandardScalerWrapper, LightGBM\", \"run_properties\": \"<azureml.automl.runtime.shared.model_wrappers.StandardScalerWrapper object at 0x7f0dac0beb00\", \"primary_metric\": 0.8359322, \"best_metric\": 0.86299435}, {\"run_id\": \"AutoML_010da3bb-80a6-4657-9973-7eb391ad867f_27\", \"run_number\": 32, \"metric\": null, \"status\": \"Completed\", \"run_type\": \"azureml.scriptrun\", \"training_percent\": \"100\", \"start_time\": \"2021-03-21T12:03:12.365583Z\", \"end_time\": \"2021-03-21T12:03:56.879095Z\", \"created_time\": \"2021-03-21T12:02:44.405817Z\", \"created_time_dt\": \"2021-03-21T12:02:44.405817Z\", \"duration\": \"0:01:12\", \"iteration\": \"27\", \"goal\": \"accuracy_max\", \"run_name\": \"MaxAbsScaler, ExtremeRandomTrees\", \"run_properties\": \"copy=True\", \"primary_metric\": 0.77932203, \"best_metric\": 0.86299435}, {\"run_id\": \"AutoML_010da3bb-80a6-4657-9973-7eb391ad867f_28\", \"run_number\": 33, \"metric\": null, \"status\": \"Completed\", \"run_type\": \"azureml.scriptrun\", \"training_percent\": \"100\", \"start_time\": \"2021-03-21T12:03:51.389171Z\", \"end_time\": \"2021-03-21T12:04:38.23002Z\", \"created_time\": \"2021-03-21T12:03:02.322019Z\", \"created_time_dt\": \"2021-03-21T12:03:02.322019Z\", \"duration\": \"0:01:35\", \"iteration\": \"28\", \"goal\": \"accuracy_max\", \"run_name\": \"SparseNormalizer, XGBoostClassifier\", \"run_properties\": \"<azureml.automl.runtime.shared.model_wrappers.SparseNormalizer object at 0x7f61808d48d0\", \"primary_metric\": 0.81282486, \"best_metric\": 0.86299435}, {\"run_id\": \"AutoML_010da3bb-80a6-4657-9973-7eb391ad867f_29\", \"run_number\": 34, \"metric\": null, \"status\": \"Completed\", \"run_type\": \"azureml.scriptrun\", \"training_percent\": \"100\", \"start_time\": \"2021-03-21T12:04:05.232938Z\", \"end_time\": \"2021-03-21T12:04:52.608653Z\", \"created_time\": \"2021-03-21T12:03:25.392117Z\", \"created_time_dt\": \"2021-03-21T12:03:25.392117Z\", \"duration\": \"0:01:27\", \"iteration\": \"29\", \"goal\": \"accuracy_max\", \"run_name\": \"SparseNormalizer, LightGBM\", \"run_properties\": \"<azureml.automl.runtime.shared.model_wrappers.SparseNormalizer object at 0x7f2b718b5c50\", \"primary_metric\": 0.84960452, \"best_metric\": 0.86299435}, {\"run_id\": \"AutoML_010da3bb-80a6-4657-9973-7eb391ad867f_30\", \"run_number\": 35, \"metric\": null, \"status\": \"Completed\", \"run_type\": \"azureml.scriptrun\", \"training_percent\": \"100\", \"start_time\": \"2021-03-21T12:04:18.381703Z\", \"end_time\": \"2021-03-21T12:05:05.144591Z\", \"created_time\": \"2021-03-21T12:03:41.662725Z\", \"created_time_dt\": \"2021-03-21T12:03:41.662725Z\", \"duration\": \"0:01:23\", \"iteration\": \"30\", \"goal\": \"accuracy_max\", \"run_name\": \"SparseNormalizer, XGBoostClassifier\", \"run_properties\": \"<azureml.automl.runtime.shared.model_wrappers.SparseNormalizer object at 0x7f17dddeecf8\", \"primary_metric\": 0.81621469, \"best_metric\": 0.86299435}, {\"run_id\": \"AutoML_010da3bb-80a6-4657-9973-7eb391ad867f_31\", \"run_number\": 36, \"metric\": null, \"status\": \"Completed\", \"run_type\": \"azureml.scriptrun\", \"training_percent\": \"100\", \"start_time\": \"2021-03-21T12:04:53.279263Z\", \"end_time\": \"2021-03-21T12:05:45.021201Z\", \"created_time\": \"2021-03-21T12:03:58.643387Z\", \"created_time_dt\": \"2021-03-21T12:03:58.643387Z\", \"duration\": \"0:01:46\", \"iteration\": \"31\", \"goal\": \"accuracy_max\", \"run_name\": \"SparseNormalizer, ExtremeRandomTrees\", \"run_properties\": \"<azureml.automl.runtime.shared.model_wrappers.SparseNormalizer object at 0x7f777ce791d0\", \"primary_metric\": 0.77254237, \"best_metric\": 0.86299435}, {\"run_id\": \"AutoML_010da3bb-80a6-4657-9973-7eb391ad867f_32\", \"run_number\": 37, \"metric\": null, \"status\": \"Completed\", \"run_type\": \"azureml.scriptrun\", \"training_percent\": \"100\", \"start_time\": \"2021-03-21T12:05:09.914595Z\", \"end_time\": \"2021-03-21T12:05:56.030985Z\", \"created_time\": \"2021-03-21T12:04:08.706297Z\", \"created_time_dt\": \"2021-03-21T12:04:08.706297Z\", \"duration\": \"0:01:47\", \"iteration\": \"32\", \"goal\": \"accuracy_max\", \"run_name\": \"SparseNormalizer, XGBoostClassifier\", \"run_properties\": \"<azureml.automl.runtime.shared.model_wrappers.SparseNormalizer object at 0x7f2e72c973c8\", \"primary_metric\": 0.83293785, \"best_metric\": 0.86299435}, {\"run_id\": \"AutoML_010da3bb-80a6-4657-9973-7eb391ad867f_33\", \"run_number\": 38, \"metric\": null, \"status\": \"Completed\", \"run_type\": \"azureml.scriptrun\", \"training_percent\": \"100\", \"start_time\": \"2021-03-21T12:05:21.224402Z\", \"end_time\": \"2021-03-21T12:06:12.725837Z\", \"created_time\": \"2021-03-21T12:04:39.966899Z\", \"created_time_dt\": \"2021-03-21T12:04:39.966899Z\", \"duration\": \"0:01:32\", \"iteration\": \"33\", \"goal\": \"accuracy_max\", \"run_name\": \"StandardScalerWrapper, ExtremeRandomTrees\", \"run_properties\": \"<azureml.automl.runtime.shared.model_wrappers.StandardScalerWrapper object at 0x7f15e7119240\", \"primary_metric\": 0.82271186, \"best_metric\": 0.86299435}, {\"run_id\": \"AutoML_010da3bb-80a6-4657-9973-7eb391ad867f_34\", \"run_number\": 39, \"metric\": null, \"status\": \"Canceled\", \"run_type\": \"azureml.scriptrun\", \"training_percent\": \"100\", \"start_time\": \"2021-03-21T12:05:46.339073Z\", \"end_time\": \"2021-03-21T12:06:21.823889Z\", \"created_time\": \"2021-03-21T12:04:54.384827Z\", \"created_time_dt\": \"2021-03-21T12:04:54.384827Z\", \"duration\": \"0:01:27\", \"iteration\": \"34\", \"goal\": null, \"run_name\": \"MaxAbsScaler, ExtremeRandomTrees\", \"run_properties\": null}, {\"run_id\": \"AutoML_010da3bb-80a6-4657-9973-7eb391ad867f_35\", \"run_number\": 40, \"metric\": null, \"status\": \"Canceled\", \"run_type\": \"azureml.scriptrun\", \"training_percent\": \"100\", \"start_time\": \"2021-03-21T12:06:00.231387Z\", \"end_time\": \"2021-03-21T12:06:20.669349Z\", \"created_time\": \"2021-03-21T12:05:07.896096Z\", \"created_time_dt\": \"2021-03-21T12:05:07.896096Z\", \"duration\": \"0:01:12\", \"iteration\": \"35\", \"goal\": null, \"run_name\": \"Canceled\", \"run_properties\": null}, {\"run_id\": \"AutoML_010da3bb-80a6-4657-9973-7eb391ad867f_36\", \"run_number\": 41, \"metric\": null, \"status\": \"Canceled\", \"run_type\": \"azureml.scriptrun\", \"training_percent\": \"100\", \"start_time\": \"2021-03-21T12:06:07.726031Z\", \"end_time\": \"2021-03-21T12:06:20.43343Z\", \"created_time\": \"2021-03-21T12:05:46.88596Z\", \"created_time_dt\": \"2021-03-21T12:05:46.88596Z\", \"duration\": \"0:00:33\", \"iteration\": \"36\", \"goal\": null, \"run_name\": \"Canceled\", \"run_properties\": null}, {\"run_id\": \"AutoML_010da3bb-80a6-4657-9973-7eb391ad867f_37\", \"run_number\": 42, \"metric\": null, \"status\": \"Canceled\", \"run_type\": \"azureml.scriptrun\", \"training_percent\": \"100\", \"start_time\": \"2021-03-21T12:06:12.342127Z\", \"end_time\": \"2021-03-21T12:06:20.306033Z\", \"created_time\": \"2021-03-21T12:05:58.067859Z\", \"created_time_dt\": \"2021-03-21T12:05:58.067859Z\", \"duration\": \"0:00:22\", \"iteration\": \"37\", \"goal\": null, \"run_name\": \"Canceled\", \"run_properties\": null}, {\"run_id\": \"AutoML_010da3bb-80a6-4657-9973-7eb391ad867f_38\", \"run_number\": 43, \"metric\": null, \"status\": \"Completed\", \"run_type\": \"azureml.scriptrun\", \"training_percent\": \"100\", \"start_time\": \"2021-03-21T12:06:29.833763Z\", \"end_time\": \"2021-03-21T12:07:40.25962Z\", \"created_time\": \"2021-03-21T12:06:22.246389Z\", \"created_time_dt\": \"2021-03-21T12:06:22.246389Z\", \"duration\": \"0:01:18\", \"iteration\": \"38\", \"goal\": \"accuracy_max\", \"run_name\": \"VotingEnsemble\", \"run_properties\": \"classification_labels=None,\\n                              estimators=[('10',\\n                                           Pipeline(memory=None,\\n                                                    steps=[('sparsenormalizer',\\n                                                            <azureml.automl.runtime.shared.model_wrappers.SparseNormalizer object at 0x7fbe841a80f0>\", \"primary_metric\": 0.87627119, \"best_metric\": 0.87627119}, {\"run_id\": \"AutoML_010da3bb-80a6-4657-9973-7eb391ad867f_39\", \"run_number\": 44, \"metric\": null, \"status\": \"Completed\", \"run_type\": \"azureml.scriptrun\", \"training_percent\": \"100\", \"start_time\": \"2021-03-21T12:06:32.396655Z\", \"end_time\": \"2021-03-21T12:07:49.389723Z\", \"created_time\": \"2021-03-21T12:06:22.302052Z\", \"created_time_dt\": \"2021-03-21T12:06:22.302052Z\", \"duration\": \"0:01:27\", \"iteration\": \"39\", \"goal\": \"accuracy_max\", \"run_name\": \"StackEnsemble\", \"run_properties\": \"base_learners=[('10',\\n                                        Pipeline(memory=None,\\n                                                 steps=[('sparsenormalizer',\\n                                                         <azureml.automl.runtime.shared.model_wrappers.SparseNormalizer object at 0x7fdb884f3e48>\", \"primary_metric\": 0.85960452, \"best_metric\": 0.87627119}], \"children_metrics\": {\"categories\": [0], \"series\": {\"AUC_weighted\": [{\"categories\": [\"0\", \"1\", \"2\", \"3\", \"4\", \"5\", \"6\", \"7\", \"8\", \"9\", \"10\", \"11\", \"12\", \"13\", \"14\", \"15\", \"16\", \"17\", \"18\", \"19\", \"20\", \"21\", \"22\", \"23\", \"24\", \"25\", \"26\", \"27\", \"28\", \"29\", \"30\", \"31\", \"32\", \"33\", \"38\", \"39\"], \"mode\": \"markers\", \"name\": \"AUC_weighted\", \"stepped\": false, \"type\": \"scatter\", \"data\": [0.8811331210778885, 0.8929591177556293, 0.8938627030269473, 0.9005648071244001, 0.9163196751568845, 0.8074931709117756, 0.8989534653008491, 0.7394446982281285, 0.8907245985603544, 0.894921534699151, 0.896017372646733, 0.8592381875230715, 0.9027979881875231, 0.8847910668143225, 0.9076691237541528, 0.8888375899778517, 0.8940475959763751, 0.8876433877814691, 0.9010801725729053, 0.9080272471391659, 0.8853701088962718, 0.8967023348098928, 0.9025438122923589, 0.8827188768918421, 0.8913032715023995, 0.5, 0.903203442229605, 0.8726848929494277, 0.8906659745293466, 0.909467008121078, 0.867155430970838, 0.8514371539313401, 0.885812476928756, 0.8726216085271318, 0.9110042220376522, 0.9167217838685863]}, {\"categories\": [\"0\", \"1\", \"2\", \"3\", \"4\", \"5\", \"6\", \"7\", \"8\", \"9\", \"10\", \"11\", \"12\", \"13\", \"14\", \"15\", \"16\", \"17\", \"18\", \"19\", \"20\", \"21\", \"22\", \"23\", \"24\", \"25\", \"26\", \"27\", \"28\", \"29\", \"30\", \"31\", \"32\", \"33\", \"38\", \"39\"], \"mode\": \"lines\", \"name\": \"AUC_weighted_max\", \"stepped\": true, \"type\": \"scatter\", \"data\": [0.8811331210778885, 0.8929591177556293, 0.8938627030269473, 0.9005648071244001, 0.9163196751568845, 0.9163196751568845, 0.9163196751568845, 0.9163196751568845, 0.9163196751568845, 0.9163196751568845, 0.9163196751568845, 0.9163196751568845, 0.9163196751568845, 0.9163196751568845, 0.9163196751568845, 0.9163196751568845, 0.9163196751568845, 0.9163196751568845, 0.9163196751568845, 0.9163196751568845, 0.9163196751568845, 0.9163196751568845, 0.9163196751568845, 0.9163196751568845, 0.9163196751568845, 0.9163196751568845, 0.9163196751568845, 0.9163196751568845, 0.9163196751568845, 0.9163196751568845, 0.9163196751568845, 0.9163196751568845, 0.9163196751568845, 0.9163196751568845, 0.9163196751568845, 0.9167217838685863]}], \"precision_score_micro\": [{\"categories\": [\"0\", \"1\", \"2\", \"3\", \"4\", \"5\", \"6\", \"7\", \"8\", \"9\", \"10\", \"11\", \"12\", \"13\", \"14\", \"15\", \"16\", \"17\", \"18\", \"19\", \"20\", \"21\", \"22\", \"23\", \"24\", \"25\", \"26\", \"27\", \"28\", \"29\", \"30\", \"31\", \"32\", \"33\", \"38\", \"39\"], \"mode\": \"markers\", \"name\": \"precision_score_micro\", \"stepped\": false, \"type\": \"scatter\", \"data\": [0.8059887005649717, 0.8259322033898304, 0.8325988700564972, 0.8291525423728814, 0.8292655367231638, 0.7258192090395481, 0.8293785310734464, 0.7157627118644068, 0.8261581920903955, 0.846271186440678, 0.8629943502824858, 0.8093785310734465, 0.8392655367231638, 0.8294350282485876, 0.8359887005649718, 0.8226553672316385, 0.8227118644067797, 0.8329943502824859, 0.8260451977401131, 0.8428248587570621, 0.7458757062146892, 0.8161581920903955, 0.8159322033898306, 0.7659322033898305, 0.7959887005649718, 0.67909604519774, 0.8359322033898305, 0.7793220338983051, 0.8128248587570621, 0.8496045197740113, 0.8162146892655369, 0.7725423728813559, 0.8329378531073447, 0.8227118644067797, 0.876271186440678, 0.8596045197740112]}, {\"categories\": [\"0\", \"1\", \"2\", \"3\", \"4\", \"5\", \"6\", \"7\", \"8\", \"9\", \"10\", \"11\", \"12\", \"13\", \"14\", \"15\", \"16\", \"17\", \"18\", \"19\", \"20\", \"21\", \"22\", \"23\", \"24\", \"25\", \"26\", \"27\", \"28\", \"29\", \"30\", \"31\", \"32\", \"33\", \"38\", \"39\"], \"mode\": \"lines\", \"name\": \"precision_score_micro_max\", \"stepped\": true, \"type\": \"scatter\", \"data\": [0.8059887005649717, 0.8259322033898304, 0.8325988700564972, 0.8325988700564972, 0.8325988700564972, 0.8325988700564972, 0.8325988700564972, 0.8325988700564972, 0.8325988700564972, 0.846271186440678, 0.8629943502824858, 0.8629943502824858, 0.8629943502824858, 0.8629943502824858, 0.8629943502824858, 0.8629943502824858, 0.8629943502824858, 0.8629943502824858, 0.8629943502824858, 0.8629943502824858, 0.8629943502824858, 0.8629943502824858, 0.8629943502824858, 0.8629943502824858, 0.8629943502824858, 0.8629943502824858, 0.8629943502824858, 0.8629943502824858, 0.8629943502824858, 0.8629943502824858, 0.8629943502824858, 0.8629943502824858, 0.8629943502824858, 0.8629943502824858, 0.876271186440678, 0.876271186440678]}], \"log_loss\": [{\"categories\": [\"0\", \"1\", \"2\", \"3\", \"4\", \"5\", \"6\", \"7\", \"8\", \"9\", \"10\", \"11\", \"12\", \"13\", \"14\", \"15\", \"16\", \"17\", \"18\", \"19\", \"20\", \"21\", \"22\", \"23\", \"24\", \"25\", \"26\", \"27\", \"28\", \"29\", \"30\", \"31\", \"32\", \"33\", \"38\", \"39\"], \"mode\": \"markers\", \"name\": \"log_loss\", \"stepped\": false, \"type\": \"scatter\", \"data\": [0.5282491261622873, 0.43217688137359717, 0.4013654943526642, 0.4084214857846433, 0.37844844050161547, 0.6251911058142838, 0.4011664233217617, 0.5893805441860023, 0.41609772050327454, 0.39668155380939407, 0.40088068079054817, 0.4899611430866921, 0.3990967861597859, 0.41580917256082356, 0.3851077754063974, 0.5044404800443761, 0.4583476083735859, 0.41472333246893617, 0.4369947229490065, 0.3851343531582403, 0.518262128162277, 0.4331556229669603, 0.38817719263935513, 0.49801622531538586, 0.43689630497305093, 0.6376475433924262, 0.38626091602586216, 0.48324231900736586, 0.4060252829096811, 0.3819035107169152, 0.4753840622509432, 0.6122510202057487, 0.4230571145937553, 0.5488511106526219, 0.38808912042039256, 0.38640200047026935]}, {\"categories\": [\"0\", \"1\", \"2\", \"3\", \"4\", \"5\", \"6\", \"7\", \"8\", \"9\", \"10\", \"11\", \"12\", \"13\", \"14\", \"15\", \"16\", \"17\", \"18\", \"19\", \"20\", \"21\", \"22\", \"23\", \"24\", \"25\", \"26\", \"27\", \"28\", \"29\", \"30\", \"31\", \"32\", \"33\", \"38\", \"39\"], \"mode\": \"lines\", \"name\": \"log_loss_min\", \"stepped\": true, \"type\": \"scatter\", \"data\": [0.5282491261622873, 0.43217688137359717, 0.4013654943526642, 0.4013654943526642, 0.37844844050161547, 0.37844844050161547, 0.37844844050161547, 0.37844844050161547, 0.37844844050161547, 0.37844844050161547, 0.37844844050161547, 0.37844844050161547, 0.37844844050161547, 0.37844844050161547, 0.37844844050161547, 0.37844844050161547, 0.37844844050161547, 0.37844844050161547, 0.37844844050161547, 0.37844844050161547, 0.37844844050161547, 0.37844844050161547, 0.37844844050161547, 0.37844844050161547, 0.37844844050161547, 0.37844844050161547, 0.37844844050161547, 0.37844844050161547, 0.37844844050161547, 0.37844844050161547, 0.37844844050161547, 0.37844844050161547, 0.37844844050161547, 0.37844844050161547, 0.37844844050161547, 0.37844844050161547]}], \"norm_macro_recall\": [{\"categories\": [\"0\", \"1\", \"2\", \"3\", \"4\", \"5\", \"6\", \"7\", \"8\", \"9\", \"10\", \"11\", \"12\", \"13\", \"14\", \"15\", \"16\", \"17\", \"18\", \"19\", \"20\", \"21\", \"22\", \"23\", \"24\", \"25\", \"26\", \"27\", \"28\", \"29\", \"30\", \"31\", \"32\", \"33\", \"38\", \"39\"], \"mode\": \"markers\", \"name\": \"norm_macro_recall\", \"stepped\": false, \"type\": \"scatter\", \"data\": [0.5520418050941306, 0.6120251937984496, 0.6076287375415281, 0.5900013842746401, 0.6358859357696567, 0.19153100775193796, 0.5837846068660022, 0.25152270210409744, 0.5792774086378738, 0.6536738648947951, 0.6571428571428571, 0.5205024916943521, 0.6138870431893688, 0.6021608527131784, 0.6158430232558139, 0.5280703211517166, 0.5625263012181616, 0.6086821705426356, 0.5655024916943521, 0.6176619601328903, 0.23094407530454042, 0.4989202657807309, 0.574125138427464, 0.3355786267995571, 0.4649750830564784, 0.0, 0.6240490033222592, 0.38, 0.5372452934662236, 0.644923864894795, 0.5602131782945736, 0.5523574197120709, 0.5599321705426357, 0.6290656146179403, 0.6875, 0.6541071428571429]}, {\"categories\": [\"0\", \"1\", \"2\", \"3\", \"4\", \"5\", \"6\", \"7\", \"8\", \"9\", \"10\", \"11\", \"12\", \"13\", \"14\", \"15\", \"16\", \"17\", \"18\", \"19\", \"20\", \"21\", \"22\", \"23\", \"24\", \"25\", \"26\", \"27\", \"28\", \"29\", \"30\", \"31\", \"32\", \"33\", \"38\", \"39\"], \"mode\": \"lines\", \"name\": \"norm_macro_recall_max\", \"stepped\": true, \"type\": \"scatter\", \"data\": [0.5520418050941306, 0.6120251937984496, 0.6120251937984496, 0.6120251937984496, 0.6358859357696567, 0.6358859357696567, 0.6358859357696567, 0.6358859357696567, 0.6358859357696567, 0.6536738648947951, 0.6571428571428571, 0.6571428571428571, 0.6571428571428571, 0.6571428571428571, 0.6571428571428571, 0.6571428571428571, 0.6571428571428571, 0.6571428571428571, 0.6571428571428571, 0.6571428571428571, 0.6571428571428571, 0.6571428571428571, 0.6571428571428571, 0.6571428571428571, 0.6571428571428571, 0.6571428571428571, 0.6571428571428571, 0.6571428571428571, 0.6571428571428571, 0.6571428571428571, 0.6571428571428571, 0.6571428571428571, 0.6571428571428571, 0.6571428571428571, 0.6875, 0.6875]}], \"weighted_accuracy\": [{\"categories\": [\"0\", \"1\", \"2\", \"3\", \"4\", \"5\", \"6\", \"7\", \"8\", \"9\", \"10\", \"11\", \"12\", \"13\", \"14\", \"15\", \"16\", \"17\", \"18\", \"19\", \"20\", \"21\", \"22\", \"23\", \"24\", \"25\", \"26\", \"27\", \"28\", \"29\", \"30\", \"31\", \"32\", \"33\", \"38\", \"39\"], \"mode\": \"markers\", \"name\": \"weighted_accuracy\", \"stepped\": false, \"type\": \"scatter\", \"data\": [0.8252063202764133, 0.8406325321291572, 0.8524905822754134, 0.8506502815281201, 0.837074325814239, 0.8133359860161248, 0.8543780608789877, 0.7775242910482673, 0.853412521437642, 0.8614527378563306, 0.8869663143082892, 0.8396048623725025, 0.8614983808166027, 0.848519821961955, 0.8558160820336795, 0.8628172670030745, 0.8513702623377982, 0.8533820798830117, 0.8573695682548553, 0.8664432444997843, 0.8328752534288894, 0.8613333959821501, 0.8363632081634705, 0.8329659895236341, 0.8385448394479814, 0.7971865900207855, 0.8526332262121, 0.8409487660450008, 0.8421791459400063, 0.8688540913180691, 0.8403274909190129, 0.7710988371637727, 0.8682044197915856, 0.827446621353437, 0.8983487791517929, 0.8817116110101999]}, {\"categories\": [\"0\", \"1\", \"2\", \"3\", \"4\", \"5\", \"6\", \"7\", \"8\", \"9\", \"10\", \"11\", \"12\", \"13\", \"14\", \"15\", \"16\", \"17\", \"18\", \"19\", \"20\", \"21\", \"22\", \"23\", \"24\", \"25\", \"26\", \"27\", \"28\", \"29\", \"30\", \"31\", \"32\", \"33\", \"38\", \"39\"], \"mode\": \"lines\", \"name\": \"weighted_accuracy_max\", \"stepped\": true, \"type\": \"scatter\", \"data\": [0.8252063202764133, 0.8406325321291572, 0.8524905822754134, 0.8524905822754134, 0.8524905822754134, 0.8524905822754134, 0.8543780608789877, 0.8543780608789877, 0.8543780608789877, 0.8614527378563306, 0.8869663143082892, 0.8869663143082892, 0.8869663143082892, 0.8869663143082892, 0.8869663143082892, 0.8869663143082892, 0.8869663143082892, 0.8869663143082892, 0.8869663143082892, 0.8869663143082892, 0.8869663143082892, 0.8869663143082892, 0.8869663143082892, 0.8869663143082892, 0.8869663143082892, 0.8869663143082892, 0.8869663143082892, 0.8869663143082892, 0.8869663143082892, 0.8869663143082892, 0.8869663143082892, 0.8869663143082892, 0.8869663143082892, 0.8869663143082892, 0.8983487791517929, 0.8983487791517929]}], \"balanced_accuracy\": [{\"categories\": [\"0\", \"1\", \"2\", \"3\", \"4\", \"5\", \"6\", \"7\", \"8\", \"9\", \"10\", \"11\", \"12\", \"13\", \"14\", \"15\", \"16\", \"17\", \"18\", \"19\", \"20\", \"21\", \"22\", \"23\", \"24\", \"25\", \"26\", \"27\", \"28\", \"29\", \"30\", \"31\", \"32\", \"33\", \"38\", \"39\"], \"mode\": \"markers\", \"name\": \"balanced_accuracy\", \"stepped\": false, \"type\": \"scatter\", \"data\": [0.7760209025470652, 0.8060125968992248, 0.8038143687707642, 0.79500069213732, 0.8179429678848283, 0.5957655038759689, 0.791892303433001, 0.6257613510520488, 0.7896387043189369, 0.8268369324473974, 0.8285714285714285, 0.7602512458471761, 0.8069435215946845, 0.8010804263565892, 0.8079215116279069, 0.7640351605758582, 0.7812631506090808, 0.8043410852713178, 0.782751245847176, 0.808830980066445, 0.6154720376522702, 0.7494601328903654, 0.7870625692137321, 0.6677893133997784, 0.7324875415282392, 0.5, 0.8120245016611296, 0.6900000000000001, 0.7686226467331119, 0.8224619324473975, 0.7801065891472868, 0.7761787098560354, 0.7799660852713178, 0.8145328073089703, 0.84375, 0.8270535714285714]}, {\"categories\": [\"0\", \"1\", \"2\", \"3\", \"4\", \"5\", \"6\", \"7\", \"8\", \"9\", \"10\", \"11\", \"12\", \"13\", \"14\", \"15\", \"16\", \"17\", \"18\", \"19\", \"20\", \"21\", \"22\", \"23\", \"24\", \"25\", \"26\", \"27\", \"28\", \"29\", \"30\", \"31\", \"32\", \"33\", \"38\", \"39\"], \"mode\": \"lines\", \"name\": \"balanced_accuracy_max\", \"stepped\": true, \"type\": \"scatter\", \"data\": [0.7760209025470652, 0.8060125968992248, 0.8060125968992248, 0.8060125968992248, 0.8179429678848283, 0.8179429678848283, 0.8179429678848283, 0.8179429678848283, 0.8179429678848283, 0.8268369324473974, 0.8285714285714285, 0.8285714285714285, 0.8285714285714285, 0.8285714285714285, 0.8285714285714285, 0.8285714285714285, 0.8285714285714285, 0.8285714285714285, 0.8285714285714285, 0.8285714285714285, 0.8285714285714285, 0.8285714285714285, 0.8285714285714285, 0.8285714285714285, 0.8285714285714285, 0.8285714285714285, 0.8285714285714285, 0.8285714285714285, 0.8285714285714285, 0.8285714285714285, 0.8285714285714285, 0.8285714285714285, 0.8285714285714285, 0.8285714285714285, 0.84375, 0.84375]}], \"AUC_micro\": [{\"categories\": [\"0\", \"1\", \"2\", \"3\", \"4\", \"5\", \"6\", \"7\", \"8\", \"9\", \"10\", \"11\", \"12\", \"13\", \"14\", \"15\", \"16\", \"17\", \"18\", \"19\", \"20\", \"21\", \"22\", \"23\", \"24\", \"25\", \"26\", \"27\", \"28\", \"29\", \"30\", \"31\", \"32\", \"33\", \"38\", \"39\"], \"mode\": \"markers\", \"name\": \"AUC_micro\", \"stepped\": false, \"type\": \"scatter\", \"data\": [0.8880105014523284, 0.8999905678444892, 0.9011292253183949, 0.9060622745698872, 0.9195285518209966, 0.8189744485939545, 0.905186664113122, 0.7803583660506239, 0.8961263525806761, 0.9035812346388331, 0.9061258737910564, 0.8762564716396948, 0.9138338759615692, 0.8932493376743592, 0.9109445082830604, 0.8911529573238852, 0.8854616010724887, 0.8939478119314372, 0.8975361486162982, 0.9127113536978518, 0.8540883845638227, 0.8947004372945194, 0.9054088863353442, 0.8660447029908391, 0.8871629321076318, 0.6790960451977401, 0.907773564429123, 0.8666980752657281, 0.8945518050368667, 0.9132944396565481, 0.8861220753934056, 0.851740815219126, 0.8983704076095631, 0.8775295094002361, 0.9142702288614382, 0.9145052666858182]}, {\"categories\": [\"0\", \"1\", \"2\", \"3\", \"4\", \"5\", \"6\", \"7\", \"8\", \"9\", \"10\", \"11\", \"12\", \"13\", \"14\", \"15\", \"16\", \"17\", \"18\", \"19\", \"20\", \"21\", \"22\", \"23\", \"24\", \"25\", \"26\", \"27\", \"28\", \"29\", \"30\", \"31\", \"32\", \"33\", \"38\", \"39\"], \"mode\": \"lines\", \"name\": \"AUC_micro_max\", \"stepped\": true, \"type\": \"scatter\", \"data\": [0.8880105014523284, 0.8999905678444892, 0.9011292253183949, 0.9060622745698872, 0.9195285518209966, 0.9195285518209966, 0.9195285518209966, 0.9195285518209966, 0.9195285518209966, 0.9195285518209966, 0.9195285518209966, 0.9195285518209966, 0.9195285518209966, 0.9195285518209966, 0.9195285518209966, 0.9195285518209966, 0.9195285518209966, 0.9195285518209966, 0.9195285518209966, 0.9195285518209966, 0.9195285518209966, 0.9195285518209966, 0.9195285518209966, 0.9195285518209966, 0.9195285518209966, 0.9195285518209966, 0.9195285518209966, 0.9195285518209966, 0.9195285518209966, 0.9195285518209966, 0.9195285518209966, 0.9195285518209966, 0.9195285518209966, 0.9195285518209966, 0.9195285518209966, 0.9195285518209966]}], \"f1_score_macro\": [{\"categories\": [\"0\", \"1\", \"2\", \"3\", \"4\", \"5\", \"6\", \"7\", \"8\", \"9\", \"10\", \"11\", \"12\", \"13\", \"14\", \"15\", \"16\", \"17\", \"18\", \"19\", \"20\", \"21\", \"22\", \"23\", \"24\", \"25\", \"26\", \"27\", \"28\", \"29\", \"30\", \"31\", \"32\", \"33\", \"38\", \"39\"], \"mode\": \"markers\", \"name\": \"f1_score_macro\", \"stepped\": false, \"type\": \"scatter\", \"data\": [0.7682096405971308, 0.7972526241921125, 0.7999082046073301, 0.7947626591341858, 0.8026405201737312, 0.5809124461675491, 0.7874193576321236, 0.6129761518305313, 0.784384931703028, 0.8182329158586782, 0.8330170318297402, 0.7611013563473851, 0.8039900953970907, 0.7956630428164676, 0.8039436419714334, 0.7744146297219825, 0.7815130779783559, 0.8017629707082936, 0.7854340850461309, 0.807743559742951, 0.604757684539565, 0.7625919451180303, 0.7764945621706989, 0.6706996613073369, 0.7390727456625624, 0.40276783177038933, 0.8047193590678777, 0.6934527270824636, 0.7685529786683336, 0.8202141650727146, 0.7782465471449488, 0.7470900967589973, 0.7917009670564957, 0.7964322558068453, 0.8462135769952355, 0.828107776240469]}, {\"categories\": [\"0\", \"1\", \"2\", \"3\", \"4\", \"5\", \"6\", \"7\", \"8\", \"9\", \"10\", \"11\", \"12\", \"13\", \"14\", \"15\", \"16\", \"17\", \"18\", \"19\", \"20\", \"21\", \"22\", \"23\", \"24\", \"25\", \"26\", \"27\", \"28\", \"29\", \"30\", \"31\", \"32\", \"33\", \"38\", \"39\"], \"mode\": \"lines\", \"name\": \"f1_score_macro_max\", \"stepped\": true, \"type\": \"scatter\", \"data\": [0.7682096405971308, 0.7972526241921125, 0.7999082046073301, 0.7999082046073301, 0.8026405201737312, 0.8026405201737312, 0.8026405201737312, 0.8026405201737312, 0.8026405201737312, 0.8182329158586782, 0.8330170318297402, 0.8330170318297402, 0.8330170318297402, 0.8330170318297402, 0.8330170318297402, 0.8330170318297402, 0.8330170318297402, 0.8330170318297402, 0.8330170318297402, 0.8330170318297402, 0.8330170318297402, 0.8330170318297402, 0.8330170318297402, 0.8330170318297402, 0.8330170318297402, 0.8330170318297402, 0.8330170318297402, 0.8330170318297402, 0.8330170318297402, 0.8330170318297402, 0.8330170318297402, 0.8330170318297402, 0.8330170318297402, 0.8330170318297402, 0.8462135769952355, 0.8462135769952355]}], \"f1_score_weighted\": [{\"categories\": [\"0\", \"1\", \"2\", \"3\", \"4\", \"5\", \"6\", \"7\", \"8\", \"9\", \"10\", \"11\", \"12\", \"13\", \"14\", \"15\", \"16\", \"17\", \"18\", \"19\", \"20\", \"21\", \"22\", \"23\", \"24\", \"25\", \"26\", \"27\", \"28\", \"29\", \"30\", \"31\", \"32\", \"33\", \"38\", \"39\"], \"mode\": \"markers\", \"name\": \"f1_score_weighted\", \"stepped\": false, \"type\": \"scatter\", \"data\": [0.8014398448329555, 0.8237396450256732, 0.8305558586769892, 0.8261516609869263, 0.8309799311347141, 0.6717712554011456, 0.82142628096068, 0.684403763159444, 0.8157297548639766, 0.8440887176790568, 0.8585983069929906, 0.8039757220257486, 0.8353929694790813, 0.8266619723924865, 0.8328532624858864, 0.8120819514951683, 0.8161214746749401, 0.8295428462047711, 0.818746420189768, 0.8362533905172974, 0.6868633739198018, 0.8021759951947371, 0.8106803089923957, 0.7286214043860831, 0.7817198455159401, 0.5526564268547016, 0.8327763367973816, 0.7487397487785887, 0.8061977658236245, 0.8468625051681823, 0.8135316501863595, 0.7783710863425967, 0.825786262504035, 0.8246321021235004, 0.8707958658747629, 0.8538116521878631]}, {\"categories\": [\"0\", \"1\", \"2\", \"3\", \"4\", \"5\", \"6\", \"7\", \"8\", \"9\", \"10\", \"11\", \"12\", \"13\", \"14\", \"15\", \"16\", \"17\", \"18\", \"19\", \"20\", \"21\", \"22\", \"23\", \"24\", \"25\", \"26\", \"27\", \"28\", \"29\", \"30\", \"31\", \"32\", \"33\", \"38\", \"39\"], \"mode\": \"lines\", \"name\": \"f1_score_weighted_max\", \"stepped\": true, \"type\": \"scatter\", \"data\": [0.8014398448329555, 0.8237396450256732, 0.8305558586769892, 0.8305558586769892, 0.8309799311347141, 0.8309799311347141, 0.8309799311347141, 0.8309799311347141, 0.8309799311347141, 0.8440887176790568, 0.8585983069929906, 0.8585983069929906, 0.8585983069929906, 0.8585983069929906, 0.8585983069929906, 0.8585983069929906, 0.8585983069929906, 0.8585983069929906, 0.8585983069929906, 0.8585983069929906, 0.8585983069929906, 0.8585983069929906, 0.8585983069929906, 0.8585983069929906, 0.8585983069929906, 0.8585983069929906, 0.8585983069929906, 0.8585983069929906, 0.8585983069929906, 0.8585983069929906, 0.8585983069929906, 0.8585983069929906, 0.8585983069929906, 0.8585983069929906, 0.8707958658747629, 0.8707958658747629]}], \"accuracy\": [{\"categories\": [\"0\", \"1\", \"2\", \"3\", \"4\", \"5\", \"6\", \"7\", \"8\", \"9\", \"10\", \"11\", \"12\", \"13\", \"14\", \"15\", \"16\", \"17\", \"18\", \"19\", \"20\", \"21\", \"22\", \"23\", \"24\", \"25\", \"26\", \"27\", \"28\", \"29\", \"30\", \"31\", \"32\", \"33\", \"38\", \"39\"], \"mode\": \"markers\", \"name\": \"accuracy\", \"stepped\": false, \"type\": \"scatter\", \"data\": [0.8059887005649717, 0.8259322033898304, 0.8325988700564972, 0.8291525423728814, 0.8292655367231638, 0.7258192090395481, 0.8293785310734464, 0.7157627118644068, 0.8261581920903955, 0.846271186440678, 0.8629943502824858, 0.8093785310734465, 0.8392655367231638, 0.8294350282485876, 0.8359887005649718, 0.8226553672316385, 0.8227118644067797, 0.8329943502824859, 0.8260451977401131, 0.8428248587570621, 0.7458757062146892, 0.8161581920903955, 0.8159322033898306, 0.7659322033898305, 0.7959887005649718, 0.67909604519774, 0.8359322033898305, 0.7793220338983051, 0.8128248587570621, 0.8496045197740113, 0.8162146892655369, 0.7725423728813559, 0.8329378531073447, 0.8227118644067797, 0.876271186440678, 0.8596045197740112]}, {\"categories\": [\"0\", \"1\", \"2\", \"3\", \"4\", \"5\", \"6\", \"7\", \"8\", \"9\", \"10\", \"11\", \"12\", \"13\", \"14\", \"15\", \"16\", \"17\", \"18\", \"19\", \"20\", \"21\", \"22\", \"23\", \"24\", \"25\", \"26\", \"27\", \"28\", \"29\", \"30\", \"31\", \"32\", \"33\", \"38\", \"39\"], \"mode\": \"lines\", \"name\": \"accuracy_max\", \"stepped\": true, \"type\": \"scatter\", \"data\": [0.8059887005649717, 0.8259322033898304, 0.8325988700564972, 0.8325988700564972, 0.8325988700564972, 0.8325988700564972, 0.8325988700564972, 0.8325988700564972, 0.8325988700564972, 0.846271186440678, 0.8629943502824858, 0.8629943502824858, 0.8629943502824858, 0.8629943502824858, 0.8629943502824858, 0.8629943502824858, 0.8629943502824858, 0.8629943502824858, 0.8629943502824858, 0.8629943502824858, 0.8629943502824858, 0.8629943502824858, 0.8629943502824858, 0.8629943502824858, 0.8629943502824858, 0.8629943502824858, 0.8629943502824858, 0.8629943502824858, 0.8629943502824858, 0.8629943502824858, 0.8629943502824858, 0.8629943502824858, 0.8629943502824858, 0.8629943502824858, 0.876271186440678, 0.876271186440678]}], \"AUC_macro\": [{\"categories\": [\"0\", \"1\", \"2\", \"3\", \"4\", \"5\", \"6\", \"7\", \"8\", \"9\", \"10\", \"11\", \"12\", \"13\", \"14\", \"15\", \"16\", \"17\", \"18\", \"19\", \"20\", \"21\", \"22\", \"23\", \"24\", \"25\", \"26\", \"27\", \"28\", \"29\", \"30\", \"31\", \"32\", \"33\", \"38\", \"39\"], \"mode\": \"markers\", \"name\": \"AUC_macro\", \"stepped\": false, \"type\": \"scatter\", \"data\": [0.8811331210778885, 0.8929591177556295, 0.8938627030269473, 0.9005648071244001, 0.9163196751568845, 0.8074931709117756, 0.8989534653008491, 0.7394446982281285, 0.8907245985603544, 0.894921534699151, 0.896017372646733, 0.8592381875230715, 0.9027979881875231, 0.8847910668143225, 0.9076691237541528, 0.8888375899778517, 0.8940475959763751, 0.8876433877814691, 0.9010801725729051, 0.9080272471391659, 0.8853701088962715, 0.8967023348098928, 0.9025438122923589, 0.8827188768918421, 0.8913032715023995, 0.5, 0.903203442229605, 0.8726848929494277, 0.8906659745293466, 0.909467008121078, 0.867155430970838, 0.85143715393134, 0.885812476928756, 0.8726216085271318, 0.9110042220376522, 0.9167217838685863]}, {\"categories\": [\"0\", \"1\", \"2\", \"3\", \"4\", \"5\", \"6\", \"7\", \"8\", \"9\", \"10\", \"11\", \"12\", \"13\", \"14\", \"15\", \"16\", \"17\", \"18\", \"19\", \"20\", \"21\", \"22\", \"23\", \"24\", \"25\", \"26\", \"27\", \"28\", \"29\", \"30\", \"31\", \"32\", \"33\", \"38\", \"39\"], \"mode\": \"lines\", \"name\": \"AUC_macro_max\", \"stepped\": true, \"type\": \"scatter\", \"data\": [0.8811331210778885, 0.8929591177556295, 0.8938627030269473, 0.9005648071244001, 0.9163196751568845, 0.9163196751568845, 0.9163196751568845, 0.9163196751568845, 0.9163196751568845, 0.9163196751568845, 0.9163196751568845, 0.9163196751568845, 0.9163196751568845, 0.9163196751568845, 0.9163196751568845, 0.9163196751568845, 0.9163196751568845, 0.9163196751568845, 0.9163196751568845, 0.9163196751568845, 0.9163196751568845, 0.9163196751568845, 0.9163196751568845, 0.9163196751568845, 0.9163196751568845, 0.9163196751568845, 0.9163196751568845, 0.9163196751568845, 0.9163196751568845, 0.9163196751568845, 0.9163196751568845, 0.9163196751568845, 0.9163196751568845, 0.9163196751568845, 0.9163196751568845, 0.9167217838685863]}], \"recall_score_weighted\": [{\"categories\": [\"0\", \"1\", \"2\", \"3\", \"4\", \"5\", \"6\", \"7\", \"8\", \"9\", \"10\", \"11\", \"12\", \"13\", \"14\", \"15\", \"16\", \"17\", \"18\", \"19\", \"20\", \"21\", \"22\", \"23\", \"24\", \"25\", \"26\", \"27\", \"28\", \"29\", \"30\", \"31\", \"32\", \"33\", \"38\", \"39\"], \"mode\": \"markers\", \"name\": \"recall_score_weighted\", \"stepped\": false, \"type\": \"scatter\", \"data\": [0.8059887005649717, 0.8259322033898304, 0.8325988700564972, 0.8291525423728814, 0.8292655367231638, 0.7258192090395481, 0.8293785310734464, 0.7157627118644068, 0.8261581920903955, 0.846271186440678, 0.8629943502824858, 0.8093785310734465, 0.8392655367231638, 0.8294350282485876, 0.8359887005649718, 0.8226553672316385, 0.8227118644067797, 0.8329943502824859, 0.8260451977401131, 0.8428248587570621, 0.7458757062146892, 0.8161581920903955, 0.8159322033898306, 0.7659322033898305, 0.7959887005649718, 0.67909604519774, 0.8359322033898305, 0.7793220338983051, 0.8128248587570621, 0.8496045197740113, 0.8162146892655369, 0.7725423728813559, 0.8329378531073447, 0.8227118644067797, 0.876271186440678, 0.8596045197740112]}, {\"categories\": [\"0\", \"1\", \"2\", \"3\", \"4\", \"5\", \"6\", \"7\", \"8\", \"9\", \"10\", \"11\", \"12\", \"13\", \"14\", \"15\", \"16\", \"17\", \"18\", \"19\", \"20\", \"21\", \"22\", \"23\", \"24\", \"25\", \"26\", \"27\", \"28\", \"29\", \"30\", \"31\", \"32\", \"33\", \"38\", \"39\"], \"mode\": \"lines\", \"name\": \"recall_score_weighted_max\", \"stepped\": true, \"type\": \"scatter\", \"data\": [0.8059887005649717, 0.8259322033898304, 0.8325988700564972, 0.8325988700564972, 0.8325988700564972, 0.8325988700564972, 0.8325988700564972, 0.8325988700564972, 0.8325988700564972, 0.846271186440678, 0.8629943502824858, 0.8629943502824858, 0.8629943502824858, 0.8629943502824858, 0.8629943502824858, 0.8629943502824858, 0.8629943502824858, 0.8629943502824858, 0.8629943502824858, 0.8629943502824858, 0.8629943502824858, 0.8629943502824858, 0.8629943502824858, 0.8629943502824858, 0.8629943502824858, 0.8629943502824858, 0.8629943502824858, 0.8629943502824858, 0.8629943502824858, 0.8629943502824858, 0.8629943502824858, 0.8629943502824858, 0.8629943502824858, 0.8629943502824858, 0.876271186440678, 0.876271186440678]}], \"matthews_correlation\": [{\"categories\": [\"0\", \"1\", \"2\", \"3\", \"4\", \"5\", \"6\", \"7\", \"8\", \"9\", \"10\", \"11\", \"12\", \"13\", \"14\", \"15\", \"16\", \"17\", \"18\", \"19\", \"20\", \"21\", \"22\", \"23\", \"24\", \"25\", \"26\", \"27\", \"28\", \"29\", \"30\", \"31\", \"32\", \"33\", \"38\", \"39\"], \"mode\": \"markers\", \"name\": \"matthews_correlation\", \"stepped\": false, \"type\": \"scatter\", \"data\": [0.5628617041183437, 0.6132552509330647, 0.6130027973211628, 0.605973689338897, 0.6185405569868665, 0.2948783800547833, 0.6104680360390021, 0.3059458968213117, 0.6162686798389891, 0.6604081807336983, 0.6922930062966495, 0.5428697166604373, 0.6276194729192299, 0.6096999604896205, 0.6256472669182933, 0.5832835639254463, 0.5894205461764175, 0.6311991764150848, 0.5980972417915383, 0.6428306836443766, 0.3936070356806245, 0.5731686693141919, 0.5842073745699479, 0.4472452299373761, 0.5220228726085524, 0.0, 0.6299505179818075, 0.4861389629305061, 0.5704224814344487, 0.6579856610335831, 0.5724894179464736, 0.5198444642922107, 0.6079676936350837, 0.6123610847528042, 0.7241348345650385, 0.687106268987339]}, {\"categories\": [\"0\", \"1\", \"2\", \"3\", \"4\", \"5\", \"6\", \"7\", \"8\", \"9\", \"10\", \"11\", \"12\", \"13\", \"14\", \"15\", \"16\", \"17\", \"18\", \"19\", \"20\", \"21\", \"22\", \"23\", \"24\", \"25\", \"26\", \"27\", \"28\", \"29\", \"30\", \"31\", \"32\", \"33\", \"38\", \"39\"], \"mode\": \"lines\", \"name\": \"matthews_correlation_max\", \"stepped\": true, \"type\": \"scatter\", \"data\": [0.5628617041183437, 0.6132552509330647, 0.6132552509330647, 0.6132552509330647, 0.6185405569868665, 0.6185405569868665, 0.6185405569868665, 0.6185405569868665, 0.6185405569868665, 0.6604081807336983, 0.6922930062966495, 0.6922930062966495, 0.6922930062966495, 0.6922930062966495, 0.6922930062966495, 0.6922930062966495, 0.6922930062966495, 0.6922930062966495, 0.6922930062966495, 0.6922930062966495, 0.6922930062966495, 0.6922930062966495, 0.6922930062966495, 0.6922930062966495, 0.6922930062966495, 0.6922930062966495, 0.6922930062966495, 0.6922930062966495, 0.6922930062966495, 0.6922930062966495, 0.6922930062966495, 0.6922930062966495, 0.6922930062966495, 0.6922930062966495, 0.7241348345650385, 0.7241348345650385]}], \"f1_score_micro\": [{\"categories\": [\"0\", \"1\", \"2\", \"3\", \"4\", \"5\", \"6\", \"7\", \"8\", \"9\", \"10\", \"11\", \"12\", \"13\", \"14\", \"15\", \"16\", \"17\", \"18\", \"19\", \"20\", \"21\", \"22\", \"23\", \"24\", \"25\", \"26\", \"27\", \"28\", \"29\", \"30\", \"31\", \"32\", \"33\", \"38\", \"39\"], \"mode\": \"markers\", \"name\": \"f1_score_micro\", \"stepped\": false, \"type\": \"scatter\", \"data\": [0.8059887005649718, 0.8259322033898304, 0.8325988700564972, 0.8291525423728814, 0.8292655367231638, 0.7258192090395481, 0.8293785310734464, 0.7157627118644068, 0.8261581920903955, 0.846271186440678, 0.8629943502824858, 0.8093785310734465, 0.8392655367231638, 0.8294350282485876, 0.8359887005649718, 0.8226553672316385, 0.8227118644067797, 0.8329943502824859, 0.8260451977401131, 0.8428248587570621, 0.7458757062146892, 0.8161581920903955, 0.8159322033898306, 0.7659322033898305, 0.7959887005649718, 0.67909604519774, 0.8359322033898305, 0.7793220338983051, 0.8128248587570621, 0.8496045197740113, 0.8162146892655369, 0.7725423728813559, 0.8329378531073447, 0.8227118644067797, 0.876271186440678, 0.8596045197740112]}, {\"categories\": [\"0\", \"1\", \"2\", \"3\", \"4\", \"5\", \"6\", \"7\", \"8\", \"9\", \"10\", \"11\", \"12\", \"13\", \"14\", \"15\", \"16\", \"17\", \"18\", \"19\", \"20\", \"21\", \"22\", \"23\", \"24\", \"25\", \"26\", \"27\", \"28\", \"29\", \"30\", \"31\", \"32\", \"33\", \"38\", \"39\"], \"mode\": \"lines\", \"name\": \"f1_score_micro_max\", \"stepped\": true, \"type\": \"scatter\", \"data\": [0.8059887005649718, 0.8259322033898304, 0.8325988700564972, 0.8325988700564972, 0.8325988700564972, 0.8325988700564972, 0.8325988700564972, 0.8325988700564972, 0.8325988700564972, 0.846271186440678, 0.8629943502824858, 0.8629943502824858, 0.8629943502824858, 0.8629943502824858, 0.8629943502824858, 0.8629943502824858, 0.8629943502824858, 0.8629943502824858, 0.8629943502824858, 0.8629943502824858, 0.8629943502824858, 0.8629943502824858, 0.8629943502824858, 0.8629943502824858, 0.8629943502824858, 0.8629943502824858, 0.8629943502824858, 0.8629943502824858, 0.8629943502824858, 0.8629943502824858, 0.8629943502824858, 0.8629943502824858, 0.8629943502824858, 0.8629943502824858, 0.876271186440678, 0.876271186440678]}], \"recall_score_micro\": [{\"categories\": [\"0\", \"1\", \"2\", \"3\", \"4\", \"5\", \"6\", \"7\", \"8\", \"9\", \"10\", \"11\", \"12\", \"13\", \"14\", \"15\", \"16\", \"17\", \"18\", \"19\", \"20\", \"21\", \"22\", \"23\", \"24\", \"25\", \"26\", \"27\", \"28\", \"29\", \"30\", \"31\", \"32\", \"33\", \"38\", \"39\"], \"mode\": \"markers\", \"name\": \"recall_score_micro\", \"stepped\": false, \"type\": \"scatter\", \"data\": [0.8059887005649717, 0.8259322033898304, 0.8325988700564972, 0.8291525423728814, 0.8292655367231638, 0.7258192090395481, 0.8293785310734464, 0.7157627118644068, 0.8261581920903955, 0.846271186440678, 0.8629943502824858, 0.8093785310734465, 0.8392655367231638, 0.8294350282485876, 0.8359887005649718, 0.8226553672316385, 0.8227118644067797, 0.8329943502824859, 0.8260451977401131, 0.8428248587570621, 0.7458757062146892, 0.8161581920903955, 0.8159322033898306, 0.7659322033898305, 0.7959887005649718, 0.67909604519774, 0.8359322033898305, 0.7793220338983051, 0.8128248587570621, 0.8496045197740113, 0.8162146892655369, 0.7725423728813559, 0.8329378531073447, 0.8227118644067797, 0.876271186440678, 0.8596045197740112]}, {\"categories\": [\"0\", \"1\", \"2\", \"3\", \"4\", \"5\", \"6\", \"7\", \"8\", \"9\", \"10\", \"11\", \"12\", \"13\", \"14\", \"15\", \"16\", \"17\", \"18\", \"19\", \"20\", \"21\", \"22\", \"23\", \"24\", \"25\", \"26\", \"27\", \"28\", \"29\", \"30\", \"31\", \"32\", \"33\", \"38\", \"39\"], \"mode\": \"lines\", \"name\": \"recall_score_micro_max\", \"stepped\": true, \"type\": \"scatter\", \"data\": [0.8059887005649717, 0.8259322033898304, 0.8325988700564972, 0.8325988700564972, 0.8325988700564972, 0.8325988700564972, 0.8325988700564972, 0.8325988700564972, 0.8325988700564972, 0.846271186440678, 0.8629943502824858, 0.8629943502824858, 0.8629943502824858, 0.8629943502824858, 0.8629943502824858, 0.8629943502824858, 0.8629943502824858, 0.8629943502824858, 0.8629943502824858, 0.8629943502824858, 0.8629943502824858, 0.8629943502824858, 0.8629943502824858, 0.8629943502824858, 0.8629943502824858, 0.8629943502824858, 0.8629943502824858, 0.8629943502824858, 0.8629943502824858, 0.8629943502824858, 0.8629943502824858, 0.8629943502824858, 0.8629943502824858, 0.8629943502824858, 0.876271186440678, 0.876271186440678]}], \"precision_score_macro\": [{\"categories\": [\"0\", \"1\", \"2\", \"3\", \"4\", \"5\", \"6\", \"7\", \"8\", \"9\", \"10\", \"11\", \"12\", \"13\", \"14\", \"15\", \"16\", \"17\", \"18\", \"19\", \"20\", \"21\", \"22\", \"23\", \"24\", \"25\", \"26\", \"27\", \"28\", \"29\", \"30\", \"31\", \"32\", \"33\", \"38\", \"39\"], \"mode\": \"markers\", \"name\": \"precision_score_macro\", \"stepped\": false, \"type\": \"scatter\", \"data\": [0.7889041743265773, 0.8086642059265495, 0.8100686371510605, 0.8120062221994644, 0.8017537714745673, 0.7298350304482379, 0.8229631228503009, 0.6939418853333947, 0.8342656144205393, 0.836190434874329, 0.8673755299221139, 0.7842618251313904, 0.8223390136433615, 0.8099783443234431, 0.8190561544163911, 0.8233427852120861, 0.8106583750313735, 0.8298263723233414, 0.8180650046438422, 0.8370351616974802, 0.8400196197564618, 0.8309955634427684, 0.8006463597424697, 0.8031773549900233, 0.7955691609977326, 0.33954802259887, 0.8195815096875213, 0.8220117122320627, 0.8057720963698127, 0.8371270158295749, 0.7935786435786435, 0.7458721428688058, 0.8307277481112247, 0.799029974715605, 0.8853886543587943, 0.8648637940170005]}, {\"categories\": [\"0\", \"1\", \"2\", \"3\", \"4\", \"5\", \"6\", \"7\", \"8\", \"9\", \"10\", \"11\", \"12\", \"13\", \"14\", \"15\", \"16\", \"17\", \"18\", \"19\", \"20\", \"21\", \"22\", \"23\", \"24\", \"25\", \"26\", \"27\", \"28\", \"29\", \"30\", \"31\", \"32\", \"33\", \"38\", \"39\"], \"mode\": \"lines\", \"name\": \"precision_score_macro_max\", \"stepped\": true, \"type\": \"scatter\", \"data\": [0.7889041743265773, 0.8086642059265495, 0.8100686371510605, 0.8120062221994644, 0.8120062221994644, 0.8120062221994644, 0.8229631228503009, 0.8229631228503009, 0.8342656144205393, 0.836190434874329, 0.8673755299221139, 0.8673755299221139, 0.8673755299221139, 0.8673755299221139, 0.8673755299221139, 0.8673755299221139, 0.8673755299221139, 0.8673755299221139, 0.8673755299221139, 0.8673755299221139, 0.8673755299221139, 0.8673755299221139, 0.8673755299221139, 0.8673755299221139, 0.8673755299221139, 0.8673755299221139, 0.8673755299221139, 0.8673755299221139, 0.8673755299221139, 0.8673755299221139, 0.8673755299221139, 0.8673755299221139, 0.8673755299221139, 0.8673755299221139, 0.8853886543587943, 0.8853886543587943]}], \"average_precision_score_macro\": [{\"categories\": [\"0\", \"1\", \"2\", \"3\", \"4\", \"5\", \"6\", \"7\", \"8\", \"9\", \"10\", \"11\", \"12\", \"13\", \"14\", \"15\", \"16\", \"17\", \"18\", \"19\", \"20\", \"21\", \"22\", \"23\", \"24\", \"25\", \"26\", \"27\", \"28\", \"29\", \"30\", \"31\", \"32\", \"33\", \"38\", \"39\"], \"mode\": \"markers\", \"name\": \"average_precision_score_macro\", \"stepped\": false, \"type\": \"scatter\", \"data\": [0.8655792376041671, 0.8826936933050062, 0.880961705983162, 0.8837288487340642, 0.9048436801436855, 0.7868948754805603, 0.8900223206415918, 0.7184634262666745, 0.873840304380457, 0.8817569707809666, 0.8808958055990385, 0.8329476717741734, 0.8899678293453219, 0.8676779735790486, 0.8938450839688507, 0.8701786665611053, 0.851284927554245, 0.8756968477195303, 0.8928733944394567, 0.9027943940747616, 0.8703009682525085, 0.8878516927812372, 0.8895478724886061, 0.8669814541700814, 0.8806908130147078, 0.5, 0.8900063129165934, 0.8595968214995542, 0.8655218932819334, 0.8895850283102295, 0.8485658664104742, 0.832500009273053, 0.8783970975460251, 0.8622870944487471, 0.8915736597708299, 0.9001488274244668]}, {\"categories\": [\"0\", \"1\", \"2\", \"3\", \"4\", \"5\", \"6\", \"7\", \"8\", \"9\", \"10\", \"11\", \"12\", \"13\", \"14\", \"15\", \"16\", \"17\", \"18\", \"19\", \"20\", \"21\", \"22\", \"23\", \"24\", \"25\", \"26\", \"27\", \"28\", \"29\", \"30\", \"31\", \"32\", \"33\", \"38\", \"39\"], \"mode\": \"lines\", \"name\": \"average_precision_score_macro_max\", \"stepped\": true, \"type\": \"scatter\", \"data\": [0.8655792376041671, 0.8826936933050062, 0.8826936933050062, 0.8837288487340642, 0.9048436801436855, 0.9048436801436855, 0.9048436801436855, 0.9048436801436855, 0.9048436801436855, 0.9048436801436855, 0.9048436801436855, 0.9048436801436855, 0.9048436801436855, 0.9048436801436855, 0.9048436801436855, 0.9048436801436855, 0.9048436801436855, 0.9048436801436855, 0.9048436801436855, 0.9048436801436855, 0.9048436801436855, 0.9048436801436855, 0.9048436801436855, 0.9048436801436855, 0.9048436801436855, 0.9048436801436855, 0.9048436801436855, 0.9048436801436855, 0.9048436801436855, 0.9048436801436855, 0.9048436801436855, 0.9048436801436855, 0.9048436801436855, 0.9048436801436855, 0.9048436801436855, 0.9048436801436855]}], \"recall_score_macro\": [{\"categories\": [\"0\", \"1\", \"2\", \"3\", \"4\", \"5\", \"6\", \"7\", \"8\", \"9\", \"10\", \"11\", \"12\", \"13\", \"14\", \"15\", \"16\", \"17\", \"18\", \"19\", \"20\", \"21\", \"22\", \"23\", \"24\", \"25\", \"26\", \"27\", \"28\", \"29\", \"30\", \"31\", \"32\", \"33\", \"38\", \"39\"], \"mode\": \"markers\", \"name\": \"recall_score_macro\", \"stepped\": false, \"type\": \"scatter\", \"data\": [0.7760209025470652, 0.8060125968992248, 0.8038143687707642, 0.79500069213732, 0.8179429678848283, 0.5957655038759689, 0.791892303433001, 0.6257613510520488, 0.7896387043189369, 0.8268369324473974, 0.8285714285714285, 0.7602512458471761, 0.8069435215946845, 0.8010804263565892, 0.8079215116279069, 0.7640351605758582, 0.7812631506090808, 0.8043410852713178, 0.782751245847176, 0.808830980066445, 0.6154720376522702, 0.7494601328903654, 0.7870625692137321, 0.6677893133997784, 0.7324875415282392, 0.5, 0.8120245016611296, 0.6900000000000001, 0.7686226467331119, 0.8224619324473975, 0.7801065891472868, 0.7761787098560354, 0.7799660852713178, 0.8145328073089703, 0.84375, 0.8270535714285714]}, {\"categories\": [\"0\", \"1\", \"2\", \"3\", \"4\", \"5\", \"6\", \"7\", \"8\", \"9\", \"10\", \"11\", \"12\", \"13\", \"14\", \"15\", \"16\", \"17\", \"18\", \"19\", \"20\", \"21\", \"22\", \"23\", \"24\", \"25\", \"26\", \"27\", \"28\", \"29\", \"30\", \"31\", \"32\", \"33\", \"38\", \"39\"], \"mode\": \"lines\", \"name\": \"recall_score_macro_max\", \"stepped\": true, \"type\": \"scatter\", \"data\": [0.7760209025470652, 0.8060125968992248, 0.8060125968992248, 0.8060125968992248, 0.8179429678848283, 0.8179429678848283, 0.8179429678848283, 0.8179429678848283, 0.8179429678848283, 0.8268369324473974, 0.8285714285714285, 0.8285714285714285, 0.8285714285714285, 0.8285714285714285, 0.8285714285714285, 0.8285714285714285, 0.8285714285714285, 0.8285714285714285, 0.8285714285714285, 0.8285714285714285, 0.8285714285714285, 0.8285714285714285, 0.8285714285714285, 0.8285714285714285, 0.8285714285714285, 0.8285714285714285, 0.8285714285714285, 0.8285714285714285, 0.8285714285714285, 0.8285714285714285, 0.8285714285714285, 0.8285714285714285, 0.8285714285714285, 0.8285714285714285, 0.84375, 0.84375]}], \"precision_score_weighted\": [{\"categories\": [\"0\", \"1\", \"2\", \"3\", \"4\", \"5\", \"6\", \"7\", \"8\", \"9\", \"10\", \"11\", \"12\", \"13\", \"14\", \"15\", \"16\", \"17\", \"18\", \"19\", \"20\", \"21\", \"22\", \"23\", \"24\", \"25\", \"26\", \"27\", \"28\", \"29\", \"30\", \"31\", \"32\", \"33\", \"38\", \"39\"], \"mode\": \"markers\", \"name\": \"precision_score_weighted\", \"stepped\": false, \"type\": \"scatter\", \"data\": [0.8237683758533973, 0.8403871377947292, 0.8416293514279459, 0.8396798223737602, 0.8447173547522757, 0.7450416213341274, 0.8499746505886602, 0.7319321993983544, 0.852412546738455, 0.8646464804683163, 0.8793008030363542, 0.8196810460480322, 0.8512562264013995, 0.8424335258100143, 0.847699837131497, 0.8353061511935346, 0.8361078787627895, 0.8531774663897151, 0.8382143805142755, 0.8568038631153261, 0.8114153671572643, 0.8351820421085817, 0.8369500206146446, 0.7972357830392003, 0.812041784849533, 0.4689005075169971, 0.8505201170953148, 0.815857668426365, 0.8331448186544836, 0.8611513202995165, 0.8264911504064045, 0.8053571689973719, 0.8423674535743595, 0.843934153226997, 0.895609301273298, 0.8773073794473488]}, {\"categories\": [\"0\", \"1\", \"2\", \"3\", \"4\", \"5\", \"6\", \"7\", \"8\", \"9\", \"10\", \"11\", \"12\", \"13\", \"14\", \"15\", \"16\", \"17\", \"18\", \"19\", \"20\", \"21\", \"22\", \"23\", \"24\", \"25\", \"26\", \"27\", \"28\", \"29\", \"30\", \"31\", \"32\", \"33\", \"38\", \"39\"], \"mode\": \"lines\", \"name\": \"precision_score_weighted_max\", \"stepped\": true, \"type\": \"scatter\", \"data\": [0.8237683758533973, 0.8403871377947292, 0.8416293514279459, 0.8416293514279459, 0.8447173547522757, 0.8447173547522757, 0.8499746505886602, 0.8499746505886602, 0.852412546738455, 0.8646464804683163, 0.8793008030363542, 0.8793008030363542, 0.8793008030363542, 0.8793008030363542, 0.8793008030363542, 0.8793008030363542, 0.8793008030363542, 0.8793008030363542, 0.8793008030363542, 0.8793008030363542, 0.8793008030363542, 0.8793008030363542, 0.8793008030363542, 0.8793008030363542, 0.8793008030363542, 0.8793008030363542, 0.8793008030363542, 0.8793008030363542, 0.8793008030363542, 0.8793008030363542, 0.8793008030363542, 0.8793008030363542, 0.8793008030363542, 0.8793008030363542, 0.895609301273298, 0.895609301273298]}], \"average_precision_score_micro\": [{\"categories\": [\"0\", \"1\", \"2\", \"3\", \"4\", \"5\", \"6\", \"7\", \"8\", \"9\", \"10\", \"11\", \"12\", \"13\", \"14\", \"15\", \"16\", \"17\", \"18\", \"19\", \"20\", \"21\", \"22\", \"23\", \"24\", \"25\", \"26\", \"27\", \"28\", \"29\", \"30\", \"31\", \"32\", \"33\", \"38\", \"39\"], \"mode\": \"markers\", \"name\": \"average_precision_score_micro\", \"stepped\": false, \"type\": \"scatter\", \"data\": [0.887958292631032, 0.9018582931163117, 0.9029027247855103, 0.9023047828655144, 0.9205653552092352, 0.8231136179272889, 0.908313446958981, 0.7623204577941343, 0.8993760782921816, 0.9020916181204706, 0.9054342444793011, 0.8723071880091318, 0.9105401198584147, 0.8912805992827832, 0.9101623793137111, 0.8857281642392479, 0.8859490806858659, 0.893386848713541, 0.8990797295066215, 0.9107181208927516, 0.866724638771393, 0.9000157462971572, 0.9077738131688052, 0.8766683090034386, 0.8935655626880713, 0.6293524849181271, 0.9077829381471568, 0.8692235330226851, 0.8970388594525961, 0.9149417549061976, 0.8772277785391959, 0.849518166886671, 0.8973268388481523, 0.8774360215801679, 0.9098273769651781, 0.9145344513600356]}, {\"categories\": [\"0\", \"1\", \"2\", \"3\", \"4\", \"5\", \"6\", \"7\", \"8\", \"9\", \"10\", \"11\", \"12\", \"13\", \"14\", \"15\", \"16\", \"17\", \"18\", \"19\", \"20\", \"21\", \"22\", \"23\", \"24\", \"25\", \"26\", \"27\", \"28\", \"29\", \"30\", \"31\", \"32\", \"33\", \"38\", \"39\"], \"mode\": \"lines\", \"name\": \"average_precision_score_micro_max\", \"stepped\": true, \"type\": \"scatter\", \"data\": [0.887958292631032, 0.9018582931163117, 0.9029027247855103, 0.9029027247855103, 0.9205653552092352, 0.9205653552092352, 0.9205653552092352, 0.9205653552092352, 0.9205653552092352, 0.9205653552092352, 0.9205653552092352, 0.9205653552092352, 0.9205653552092352, 0.9205653552092352, 0.9205653552092352, 0.9205653552092352, 0.9205653552092352, 0.9205653552092352, 0.9205653552092352, 0.9205653552092352, 0.9205653552092352, 0.9205653552092352, 0.9205653552092352, 0.9205653552092352, 0.9205653552092352, 0.9205653552092352, 0.9205653552092352, 0.9205653552092352, 0.9205653552092352, 0.9205653552092352, 0.9205653552092352, 0.9205653552092352, 0.9205653552092352, 0.9205653552092352, 0.9205653552092352, 0.9205653552092352]}], \"average_precision_score_weighted\": [{\"categories\": [\"0\", \"1\", \"2\", \"3\", \"4\", \"5\", \"6\", \"7\", \"8\", \"9\", \"10\", \"11\", \"12\", \"13\", \"14\", \"15\", \"16\", \"17\", \"18\", \"19\", \"20\", \"21\", \"22\", \"23\", \"24\", \"25\", \"26\", \"27\", \"28\", \"29\", \"30\", \"31\", \"32\", \"33\", \"38\", \"39\"], \"mode\": \"markers\", \"name\": \"average_precision_score_weighted\", \"stepped\": false, \"type\": \"scatter\", \"data\": [0.8955370396295249, 0.9103506263314479, 0.909407882912339, 0.9080714225187189, 0.9275507747991851, 0.8351314909724928, 0.9152411133685343, 0.7675756738587173, 0.9046303292122181, 0.907549263035289, 0.9081473515995656, 0.8720059756545379, 0.9141768693938148, 0.8970278471197135, 0.9162785421235359, 0.8948959997609753, 0.8899023871517153, 0.9027199794815131, 0.9151811345506434, 0.923832042360076, 0.9023029221607587, 0.9128183909604417, 0.9160472581370225, 0.8990671903385158, 0.9083263370191718, 0.5796089246385138, 0.9139653737579273, 0.8894783578343055, 0.9007779515149286, 0.9173854602559028, 0.8766586330599567, 0.866278819849206, 0.9012347678547219, 0.8907360200095388, 0.91498620333308, 0.9250135356246746]}, {\"categories\": [\"0\", \"1\", \"2\", \"3\", \"4\", \"5\", \"6\", \"7\", \"8\", \"9\", \"10\", \"11\", \"12\", \"13\", \"14\", \"15\", \"16\", \"17\", \"18\", \"19\", \"20\", \"21\", \"22\", \"23\", \"24\", \"25\", \"26\", \"27\", \"28\", \"29\", \"30\", \"31\", \"32\", \"33\", \"38\", \"39\"], \"mode\": \"lines\", \"name\": \"average_precision_score_weighted_max\", \"stepped\": true, \"type\": \"scatter\", \"data\": [0.8955370396295249, 0.9103506263314479, 0.9103506263314479, 0.9103506263314479, 0.9275507747991851, 0.9275507747991851, 0.9275507747991851, 0.9275507747991851, 0.9275507747991851, 0.9275507747991851, 0.9275507747991851, 0.9275507747991851, 0.9275507747991851, 0.9275507747991851, 0.9275507747991851, 0.9275507747991851, 0.9275507747991851, 0.9275507747991851, 0.9275507747991851, 0.9275507747991851, 0.9275507747991851, 0.9275507747991851, 0.9275507747991851, 0.9275507747991851, 0.9275507747991851, 0.9275507747991851, 0.9275507747991851, 0.9275507747991851, 0.9275507747991851, 0.9275507747991851, 0.9275507747991851, 0.9275507747991851, 0.9275507747991851, 0.9275507747991851, 0.9275507747991851, 0.9275507747991851]}]}, \"metricName\": null, \"primaryMetricName\": \"accuracy\", \"showLegend\": false}, \"run_metrics\": [{\"name\": \"experiment_status\", \"run_id\": \"AutoML_010da3bb-80a6-4657-9973-7eb391ad867f\", \"categories\": [0, 1, 2, 3, 4, 5, 6, 7, 8, 9, 10, 11, 12, 13], \"series\": [{\"data\": [\"DatasetEvaluation\", \"FeaturesGeneration\", \"DatasetFeaturization\", \"DatasetFeaturizationCompleted\", \"DatasetCrossValidationSplit\", \"ModelSelection\", \"BestRunExplainModel\", \"ModelExplanationDataSetSetup\", \"PickSurrogateModel\", \"EngineeredFeatureExplanations\", \"EngineeredFeatureExplanations\", \"RawFeaturesExplanations\", \"RawFeaturesExplanations\", \"BestRunExplainModel\"]}]}, {\"name\": \"experiment_status_description\", \"run_id\": \"AutoML_010da3bb-80a6-4657-9973-7eb391ad867f\", \"categories\": [0, 1, 2, 3, 4, 5, 6, 7, 8, 9, 10, 11, 12, 13], \"series\": [{\"data\": [\"Gathering dataset statistics.\", \"Generating features for the dataset.\", \"Beginning to fit featurizers and featurize the dataset.\", \"Completed fit featurizers and featurizing the dataset.\", \"Generating individually featurized CV splits.\", \"Beginning model selection.\", \"Best run model explanations started\", \"Model explanations data setup completed\", \"Choosing LightGBM as the surrogate model for explanations\", \"Computation of engineered features started\", \"Computation of engineered features completed\", \"Computation of raw features started\", \"Computation of raw features completed\", \"Best run model explanations completed\"]}]}, {\"name\": \"f1_score_micro\", \"run_id\": \"AutoML_010da3bb-80a6-4657-9973-7eb391ad867f\", \"categories\": [0], \"series\": [{\"data\": [0.876271186440678]}]}, {\"name\": \"balanced_accuracy\", \"run_id\": \"AutoML_010da3bb-80a6-4657-9973-7eb391ad867f\", \"categories\": [0], \"series\": [{\"data\": [0.84375]}]}, {\"name\": \"norm_macro_recall\", \"run_id\": \"AutoML_010da3bb-80a6-4657-9973-7eb391ad867f\", \"categories\": [0], \"series\": [{\"data\": [0.6875]}]}, {\"name\": \"recall_score_weighted\", \"run_id\": \"AutoML_010da3bb-80a6-4657-9973-7eb391ad867f\", \"categories\": [0], \"series\": [{\"data\": [0.876271186440678]}]}, {\"name\": \"AUC_micro\", \"run_id\": \"AutoML_010da3bb-80a6-4657-9973-7eb391ad867f\", \"categories\": [0], \"series\": [{\"data\": [0.9142702288614382]}]}, {\"name\": \"log_loss\", \"run_id\": \"AutoML_010da3bb-80a6-4657-9973-7eb391ad867f\", \"categories\": [0], \"series\": [{\"data\": [0.38808912042039256]}]}, {\"name\": \"f1_score_macro\", \"run_id\": \"AutoML_010da3bb-80a6-4657-9973-7eb391ad867f\", \"categories\": [0], \"series\": [{\"data\": [0.8462135769952355]}]}, {\"name\": \"accuracy\", \"run_id\": \"AutoML_010da3bb-80a6-4657-9973-7eb391ad867f\", \"categories\": [0], \"series\": [{\"data\": [0.876271186440678]}]}, {\"name\": \"average_precision_score_weighted\", \"run_id\": \"AutoML_010da3bb-80a6-4657-9973-7eb391ad867f\", \"categories\": [0], \"series\": [{\"data\": [0.91498620333308]}]}, {\"name\": \"precision_score_macro\", \"run_id\": \"AutoML_010da3bb-80a6-4657-9973-7eb391ad867f\", \"categories\": [0], \"series\": [{\"data\": [0.8853886543587943]}]}, {\"name\": \"recall_score_macro\", \"run_id\": \"AutoML_010da3bb-80a6-4657-9973-7eb391ad867f\", \"categories\": [0], \"series\": [{\"data\": [0.84375]}]}, {\"name\": \"precision_score_weighted\", \"run_id\": \"AutoML_010da3bb-80a6-4657-9973-7eb391ad867f\", \"categories\": [0], \"series\": [{\"data\": [0.895609301273298]}]}, {\"name\": \"AUC_weighted\", \"run_id\": \"AutoML_010da3bb-80a6-4657-9973-7eb391ad867f\", \"categories\": [0], \"series\": [{\"data\": [0.9110042220376522]}]}, {\"name\": \"weighted_accuracy\", \"run_id\": \"AutoML_010da3bb-80a6-4657-9973-7eb391ad867f\", \"categories\": [0], \"series\": [{\"data\": [0.8983487791517929]}]}, {\"name\": \"recall_score_micro\", \"run_id\": \"AutoML_010da3bb-80a6-4657-9973-7eb391ad867f\", \"categories\": [0], \"series\": [{\"data\": [0.876271186440678]}]}, {\"name\": \"matthews_correlation\", \"run_id\": \"AutoML_010da3bb-80a6-4657-9973-7eb391ad867f\", \"categories\": [0], \"series\": [{\"data\": [0.7241348345650385]}]}, {\"name\": \"average_precision_score_macro\", \"run_id\": \"AutoML_010da3bb-80a6-4657-9973-7eb391ad867f\", \"categories\": [0], \"series\": [{\"data\": [0.8915736597708299]}]}, {\"name\": \"average_precision_score_micro\", \"run_id\": \"AutoML_010da3bb-80a6-4657-9973-7eb391ad867f\", \"categories\": [0], \"series\": [{\"data\": [0.9098273769651781]}]}, {\"name\": \"AUC_macro\", \"run_id\": \"AutoML_010da3bb-80a6-4657-9973-7eb391ad867f\", \"categories\": [0], \"series\": [{\"data\": [0.9110042220376522]}]}, {\"name\": \"precision_score_micro\", \"run_id\": \"AutoML_010da3bb-80a6-4657-9973-7eb391ad867f\", \"categories\": [0], \"series\": [{\"data\": [0.876271186440678]}]}, {\"name\": \"f1_score_weighted\", \"run_id\": \"AutoML_010da3bb-80a6-4657-9973-7eb391ad867f\", \"categories\": [0], \"series\": [{\"data\": [0.8707958658747629]}]}], \"run_logs\": \"\\nRun is completed.\", \"graph\": {}, \"widget_settings\": {\"childWidgetDisplay\": \"popup\", \"send_telemetry\": false, \"log_level\": \"INFO\", \"sdk_version\": \"1.24.0\"}, \"loading\": false}"
     },
     "metadata": {},
     "output_type": "display_data"
    }
   ],
   "source": [
    "RunDetails(remote_run).show()"
   ]
  },
  {
   "cell_type": "code",
   "execution_count": 13,
   "metadata": {
    "gather": {
     "logged": 1616328482985
    }
   },
   "outputs": [
    {
     "data": {
      "text/plain": [
       "{'runId': 'AutoML_010da3bb-80a6-4657-9973-7eb391ad867f',\n",
       " 'target': 'capstone-cluster',\n",
       " 'status': 'Completed',\n",
       " 'startTimeUtc': '2021-03-21T11:48:11.594132Z',\n",
       " 'endTimeUtc': '2021-03-21T12:07:56.178697Z',\n",
       " 'properties': {'num_iterations': '1000',\n",
       "  'training_type': 'TrainFull',\n",
       "  'acquisition_function': 'EI',\n",
       "  'primary_metric': 'accuracy',\n",
       "  'train_split': '0',\n",
       "  'acquisition_parameter': '0',\n",
       "  'num_cross_validation': '5',\n",
       "  'target': 'capstone-cluster',\n",
       "  'AMLSettingsJsonString': '{\"path\":null,\"name\":\"automl-experiment\",\"subscription_id\":\"9a7511b8-150f-4a58-8528-3e7d50216c31\",\"resource_group\":\"aml-quickstarts-141035\",\"workspace_name\":\"quick-starts-ws-141035\",\"region\":\"southcentralus\",\"compute_target\":\"capstone-cluster\",\"spark_service\":null,\"azure_service\":\"remote\",\"many_models\":false,\"pipeline_fetch_max_batch_size\":1,\"enable_batch_run\":false,\"iterations\":1000,\"primary_metric\":\"accuracy\",\"task_type\":\"classification\",\"data_script\":null,\"validation_size\":0.0,\"n_cross_validations\":5,\"y_min\":null,\"y_max\":null,\"num_classes\":null,\"featurization\":\"auto\",\"_ignore_package_version_incompatibilities\":false,\"is_timeseries\":false,\"max_cores_per_iteration\":1,\"max_concurrent_iterations\":5,\"iteration_timeout_minutes\":null,\"mem_in_mb\":null,\"enforce_time_on_windows\":false,\"experiment_timeout_minutes\":60,\"experiment_exit_score\":null,\"whitelist_models\":null,\"blacklist_algos\":[\"TensorFlowLinearClassifier\",\"TensorFlowDNN\"],\"supported_models\":[\"LightGBM\",\"SVM\",\"MultinomialNaiveBayes\",\"ExtremeRandomTrees\",\"TensorFlowDNN\",\"KNN\",\"XGBoostClassifier\",\"SGD\",\"BernoulliNaiveBayes\",\"LogisticRegression\",\"AveragedPerceptronClassifier\",\"TensorFlowLinearClassifier\",\"RandomForest\",\"GradientBoosting\",\"LinearSVM\",\"DecisionTree\"],\"private_models\":[],\"auto_blacklist\":true,\"blacklist_samples_reached\":false,\"exclude_nan_labels\":true,\"verbosity\":20,\"_debug_log\":\"azureml_automl.log\",\"show_warnings\":false,\"model_explainability\":true,\"service_url\":null,\"sdk_url\":null,\"sdk_packages\":null,\"enable_onnx_compatible_models\":false,\"enable_split_onnx_featurizer_estimator_models\":false,\"vm_type\":\"STANDARD_DS3_V2\",\"telemetry_verbosity\":20,\"send_telemetry\":true,\"enable_dnn\":false,\"scenario\":\"SDK-1.13.0\",\"environment_label\":null,\"save_mlflow\":false,\"force_text_dnn\":false,\"enable_feature_sweeping\":true,\"enable_early_stopping\":true,\"early_stopping_n_iters\":10,\"metrics\":null,\"enable_metric_confidence\":false,\"enable_ensembling\":true,\"enable_stack_ensembling\":true,\"ensemble_iterations\":15,\"enable_tf\":false,\"enable_subsampling\":null,\"subsample_seed\":null,\"enable_nimbusml\":false,\"enable_streaming\":false,\"force_streaming\":false,\"track_child_runs\":true,\"allowed_private_models\":[],\"label_column_name\":\"DEATH_EVENT\",\"weight_column_name\":null,\"cv_split_column_names\":null,\"enable_local_managed\":false,\"_local_managed_run_id\":null,\"cost_mode\":1,\"lag_length\":0,\"metric_operation\":\"maximize\",\"preprocess\":true}',\n",
       "  'DataPrepJsonString': '{\\\\\"training_data\\\\\": \\\\\"{\\\\\\\\\\\\\"blocks\\\\\\\\\\\\\": [{\\\\\\\\\\\\\"id\\\\\\\\\\\\\": \\\\\\\\\\\\\"8c0c8719-1de1-4ad9-8154-c956c3a65d67\\\\\\\\\\\\\", \\\\\\\\\\\\\"type\\\\\\\\\\\\\": \\\\\\\\\\\\\"Microsoft.DPrep.GetDatastoreFilesBlock\\\\\\\\\\\\\", \\\\\\\\\\\\\"arguments\\\\\\\\\\\\\": {\\\\\\\\\\\\\"datastores\\\\\\\\\\\\\": [{\\\\\\\\\\\\\"datastoreName\\\\\\\\\\\\\": \\\\\\\\\\\\\"workspaceblobstore\\\\\\\\\\\\\", \\\\\\\\\\\\\"path\\\\\\\\\\\\\": \\\\\\\\\\\\\"UI/03-21-2021_114056_UTC/heart_failure_clinical_records_dataset.csv\\\\\\\\\\\\\", \\\\\\\\\\\\\"resourceGroup\\\\\\\\\\\\\": \\\\\\\\\\\\\"aml-quickstarts-141035\\\\\\\\\\\\\", \\\\\\\\\\\\\"subscription\\\\\\\\\\\\\": \\\\\\\\\\\\\"9a7511b8-150f-4a58-8528-3e7d50216c31\\\\\\\\\\\\\", \\\\\\\\\\\\\"workspaceName\\\\\\\\\\\\\": \\\\\\\\\\\\\"quick-starts-ws-141035\\\\\\\\\\\\\"}]}, \\\\\\\\\\\\\"localData\\\\\\\\\\\\\": {}, \\\\\\\\\\\\\"isEnabled\\\\\\\\\\\\\": true, \\\\\\\\\\\\\"name\\\\\\\\\\\\\": null, \\\\\\\\\\\\\"annotation\\\\\\\\\\\\\": null}, {\\\\\\\\\\\\\"id\\\\\\\\\\\\\": \\\\\\\\\\\\\"8da6e756-befe-4edd-bab7-63bea24bf4f8\\\\\\\\\\\\\", \\\\\\\\\\\\\"type\\\\\\\\\\\\\": \\\\\\\\\\\\\"Microsoft.DPrep.ParseDelimitedBlock\\\\\\\\\\\\\", \\\\\\\\\\\\\"arguments\\\\\\\\\\\\\": {\\\\\\\\\\\\\"columnHeadersMode\\\\\\\\\\\\\": 1, \\\\\\\\\\\\\"fileEncoding\\\\\\\\\\\\\": 0, \\\\\\\\\\\\\"handleQuotedLineBreaks\\\\\\\\\\\\\": false, \\\\\\\\\\\\\"preview\\\\\\\\\\\\\": false, \\\\\\\\\\\\\"separator\\\\\\\\\\\\\": \\\\\\\\\\\\\",\\\\\\\\\\\\\", \\\\\\\\\\\\\"skipRows\\\\\\\\\\\\\": 0, \\\\\\\\\\\\\"skipRowsMode\\\\\\\\\\\\\": 0}, \\\\\\\\\\\\\"localData\\\\\\\\\\\\\": {}, \\\\\\\\\\\\\"isEnabled\\\\\\\\\\\\\": true, \\\\\\\\\\\\\"name\\\\\\\\\\\\\": null, \\\\\\\\\\\\\"annotation\\\\\\\\\\\\\": null}, {\\\\\\\\\\\\\"id\\\\\\\\\\\\\": \\\\\\\\\\\\\"c1a0f3ef-fc8b-446d-8209-dd77f0d3260b\\\\\\\\\\\\\", \\\\\\\\\\\\\"type\\\\\\\\\\\\\": \\\\\\\\\\\\\"Microsoft.DPrep.DropColumnsBlock\\\\\\\\\\\\\", \\\\\\\\\\\\\"arguments\\\\\\\\\\\\\": {\\\\\\\\\\\\\"columns\\\\\\\\\\\\\": {\\\\\\\\\\\\\"type\\\\\\\\\\\\\": 0, \\\\\\\\\\\\\"details\\\\\\\\\\\\\": {\\\\\\\\\\\\\"selectedColumns\\\\\\\\\\\\\": [\\\\\\\\\\\\\"Path\\\\\\\\\\\\\"]}}}, \\\\\\\\\\\\\"localData\\\\\\\\\\\\\": {}, \\\\\\\\\\\\\"isEnabled\\\\\\\\\\\\\": true, \\\\\\\\\\\\\"name\\\\\\\\\\\\\": null, \\\\\\\\\\\\\"annotation\\\\\\\\\\\\\": null}, {\\\\\\\\\\\\\"id\\\\\\\\\\\\\": \\\\\\\\\\\\\"afae8bb3-b846-44d2-b594-4027cf3df73a\\\\\\\\\\\\\", \\\\\\\\\\\\\"type\\\\\\\\\\\\\": \\\\\\\\\\\\\"Microsoft.DPrep.SetColumnTypesBlock\\\\\\\\\\\\\", \\\\\\\\\\\\\"arguments\\\\\\\\\\\\\": {\\\\\\\\\\\\\"columnConversion\\\\\\\\\\\\\": [{\\\\\\\\\\\\\"column\\\\\\\\\\\\\": {\\\\\\\\\\\\\"type\\\\\\\\\\\\\": 2, \\\\\\\\\\\\\"details\\\\\\\\\\\\\": {\\\\\\\\\\\\\"selectedColumn\\\\\\\\\\\\\": \\\\\\\\\\\\\"Path\\\\\\\\\\\\\"}}, \\\\\\\\\\\\\"typeProperty\\\\\\\\\\\\\": 0}, {\\\\\\\\\\\\\"column\\\\\\\\\\\\\": {\\\\\\\\\\\\\"type\\\\\\\\\\\\\": 2, \\\\\\\\\\\\\"details\\\\\\\\\\\\\": {\\\\\\\\\\\\\"selectedColumn\\\\\\\\\\\\\": \\\\\\\\\\\\\"age\\\\\\\\\\\\\"}}, \\\\\\\\\\\\\"typeProperty\\\\\\\\\\\\\": 3}, {\\\\\\\\\\\\\"column\\\\\\\\\\\\\": {\\\\\\\\\\\\\"type\\\\\\\\\\\\\": 2, \\\\\\\\\\\\\"details\\\\\\\\\\\\\": {\\\\\\\\\\\\\"selectedColumn\\\\\\\\\\\\\": \\\\\\\\\\\\\"anaemia\\\\\\\\\\\\\"}}, \\\\\\\\\\\\\"typeProperty\\\\\\\\\\\\\": 2}, {\\\\\\\\\\\\\"column\\\\\\\\\\\\\": {\\\\\\\\\\\\\"type\\\\\\\\\\\\\": 2, \\\\\\\\\\\\\"details\\\\\\\\\\\\\": {\\\\\\\\\\\\\"selectedColumn\\\\\\\\\\\\\": \\\\\\\\\\\\\"creatinine_phosphokinase\\\\\\\\\\\\\"}}, \\\\\\\\\\\\\"typeProperty\\\\\\\\\\\\\": 2}, {\\\\\\\\\\\\\"column\\\\\\\\\\\\\": {\\\\\\\\\\\\\"type\\\\\\\\\\\\\": 2, \\\\\\\\\\\\\"details\\\\\\\\\\\\\": {\\\\\\\\\\\\\"selectedColumn\\\\\\\\\\\\\": \\\\\\\\\\\\\"diabetes\\\\\\\\\\\\\"}}, \\\\\\\\\\\\\"typeProperty\\\\\\\\\\\\\": 2}, {\\\\\\\\\\\\\"column\\\\\\\\\\\\\": {\\\\\\\\\\\\\"type\\\\\\\\\\\\\": 2, \\\\\\\\\\\\\"details\\\\\\\\\\\\\": {\\\\\\\\\\\\\"selectedColumn\\\\\\\\\\\\\": \\\\\\\\\\\\\"ejection_fraction\\\\\\\\\\\\\"}}, \\\\\\\\\\\\\"typeProperty\\\\\\\\\\\\\": 2}, {\\\\\\\\\\\\\"column\\\\\\\\\\\\\": {\\\\\\\\\\\\\"type\\\\\\\\\\\\\": 2, \\\\\\\\\\\\\"details\\\\\\\\\\\\\": {\\\\\\\\\\\\\"selectedColumn\\\\\\\\\\\\\": \\\\\\\\\\\\\"high_blood_pressure\\\\\\\\\\\\\"}}, \\\\\\\\\\\\\"typeProperty\\\\\\\\\\\\\": 2}, {\\\\\\\\\\\\\"column\\\\\\\\\\\\\": {\\\\\\\\\\\\\"type\\\\\\\\\\\\\": 2, \\\\\\\\\\\\\"details\\\\\\\\\\\\\": {\\\\\\\\\\\\\"selectedColumn\\\\\\\\\\\\\": \\\\\\\\\\\\\"platelets\\\\\\\\\\\\\"}}, \\\\\\\\\\\\\"typeProperty\\\\\\\\\\\\\": 3}, {\\\\\\\\\\\\\"column\\\\\\\\\\\\\": {\\\\\\\\\\\\\"type\\\\\\\\\\\\\": 2, \\\\\\\\\\\\\"details\\\\\\\\\\\\\": {\\\\\\\\\\\\\"selectedColumn\\\\\\\\\\\\\": \\\\\\\\\\\\\"serum_creatinine\\\\\\\\\\\\\"}}, \\\\\\\\\\\\\"typeProperty\\\\\\\\\\\\\": 3}, {\\\\\\\\\\\\\"column\\\\\\\\\\\\\": {\\\\\\\\\\\\\"type\\\\\\\\\\\\\": 2, \\\\\\\\\\\\\"details\\\\\\\\\\\\\": {\\\\\\\\\\\\\"selectedColumn\\\\\\\\\\\\\": \\\\\\\\\\\\\"serum_sodium\\\\\\\\\\\\\"}}, \\\\\\\\\\\\\"typeProperty\\\\\\\\\\\\\": 2}, {\\\\\\\\\\\\\"column\\\\\\\\\\\\\": {\\\\\\\\\\\\\"type\\\\\\\\\\\\\": 2, \\\\\\\\\\\\\"details\\\\\\\\\\\\\": {\\\\\\\\\\\\\"selectedColumn\\\\\\\\\\\\\": \\\\\\\\\\\\\"sex\\\\\\\\\\\\\"}}, \\\\\\\\\\\\\"typeProperty\\\\\\\\\\\\\": 2}, {\\\\\\\\\\\\\"column\\\\\\\\\\\\\": {\\\\\\\\\\\\\"type\\\\\\\\\\\\\": 2, \\\\\\\\\\\\\"details\\\\\\\\\\\\\": {\\\\\\\\\\\\\"selectedColumn\\\\\\\\\\\\\": \\\\\\\\\\\\\"smoking\\\\\\\\\\\\\"}}, \\\\\\\\\\\\\"typeProperty\\\\\\\\\\\\\": 2}, {\\\\\\\\\\\\\"column\\\\\\\\\\\\\": {\\\\\\\\\\\\\"type\\\\\\\\\\\\\": 2, \\\\\\\\\\\\\"details\\\\\\\\\\\\\": {\\\\\\\\\\\\\"selectedColumn\\\\\\\\\\\\\": \\\\\\\\\\\\\"time\\\\\\\\\\\\\"}}, \\\\\\\\\\\\\"typeProperty\\\\\\\\\\\\\": 2}, {\\\\\\\\\\\\\"column\\\\\\\\\\\\\": {\\\\\\\\\\\\\"type\\\\\\\\\\\\\": 2, \\\\\\\\\\\\\"details\\\\\\\\\\\\\": {\\\\\\\\\\\\\"selectedColumn\\\\\\\\\\\\\": \\\\\\\\\\\\\"DEATH_EVENT\\\\\\\\\\\\\"}}, \\\\\\\\\\\\\"typeProperty\\\\\\\\\\\\\": 2}]}, \\\\\\\\\\\\\"localData\\\\\\\\\\\\\": {}, \\\\\\\\\\\\\"isEnabled\\\\\\\\\\\\\": true, \\\\\\\\\\\\\"name\\\\\\\\\\\\\": null, \\\\\\\\\\\\\"annotation\\\\\\\\\\\\\": null}], \\\\\\\\\\\\\"inspectors\\\\\\\\\\\\\": [], \\\\\\\\\\\\\"meta\\\\\\\\\\\\\": {\\\\\\\\\\\\\"savedDatasetId\\\\\\\\\\\\\": \\\\\\\\\\\\\"0298a6ed-6a4c-4891-b6d0-06d53939e51c\\\\\\\\\\\\\", \\\\\\\\\\\\\"datasetType\\\\\\\\\\\\\": \\\\\\\\\\\\\"tabular\\\\\\\\\\\\\", \\\\\\\\\\\\\"subscriptionId\\\\\\\\\\\\\": \\\\\\\\\\\\\"9a7511b8-150f-4a58-8528-3e7d50216c31\\\\\\\\\\\\\", \\\\\\\\\\\\\"workspaceId\\\\\\\\\\\\\": \\\\\\\\\\\\\"9bf2f89e-a906-420d-99ae-abb9d156fa9e\\\\\\\\\\\\\", \\\\\\\\\\\\\"workspaceLocation\\\\\\\\\\\\\": \\\\\\\\\\\\\"southcentralus\\\\\\\\\\\\\"}}\\\\\", \\\\\"activities\\\\\": 0}',\n",
       "  'EnableSubsampling': None,\n",
       "  'runTemplate': 'AutoML',\n",
       "  'azureml.runsource': 'automl',\n",
       "  'display_task_type': 'classification',\n",
       "  'dependencies_versions': '{\"azureml-widgets\": \"1.24.0\", \"azureml-train\": \"1.24.0\", \"azureml-train-restclients-hyperdrive\": \"1.24.0\", \"azureml-train-core\": \"1.24.0\", \"azureml-train-automl\": \"1.24.0\", \"azureml-train-automl-runtime\": \"1.24.0\", \"azureml-train-automl-client\": \"1.24.0\", \"azureml-tensorboard\": \"1.24.0\", \"azureml-telemetry\": \"1.24.0\", \"azureml-sdk\": \"1.24.0\", \"azureml-samples\": \"0+unknown\", \"azureml-pipeline\": \"1.24.0\", \"azureml-pipeline-steps\": \"1.24.0\", \"azureml-pipeline-core\": \"1.24.0\", \"azureml-opendatasets\": \"1.24.0\", \"azureml-model-management-sdk\": \"1.0.1b6.post1\", \"azureml-mlflow\": \"1.24.0\", \"azureml-interpret\": \"1.24.0\", \"azureml-explain-model\": \"1.24.0\", \"azureml-defaults\": \"1.24.0\", \"azureml-dataset-runtime\": \"1.24.0\", \"azureml-dataprep\": \"2.11.1\", \"azureml-dataprep-rslex\": \"1.9.0\", \"azureml-dataprep-native\": \"30.0.0\", \"azureml-datadrift\": \"1.24.0\", \"azureml-core\": \"1.24.0\", \"azureml-contrib-services\": \"1.24.0\", \"azureml-contrib-server\": \"1.24.0\", \"azureml-contrib-reinforcementlearning\": \"1.24.0\", \"azureml-contrib-pipeline-steps\": \"1.24.0\", \"azureml-contrib-notebook\": \"1.24.0\", \"azureml-contrib-gbdt\": \"1.24.0\", \"azureml-contrib-fairness\": \"1.24.0\", \"azureml-contrib-dataset\": \"1.24.0\", \"azureml-cli-common\": \"1.24.0\", \"azureml-automl-runtime\": \"1.24.0\", \"azureml-automl-dnn-nlp\": \"1.24.0\", \"azureml-automl-core\": \"1.24.0\", \"azureml-accel-models\": \"1.24.0\"}',\n",
       "  '_aml_system_scenario_identification': 'Remote.Parent',\n",
       "  'ClientType': 'SDK',\n",
       "  'environment_cpu_name': 'AzureML-AutoML',\n",
       "  'environment_cpu_label': 'prod',\n",
       "  'environment_gpu_name': 'AzureML-AutoML-GPU',\n",
       "  'environment_gpu_label': 'prod',\n",
       "  'root_attribution': 'automl',\n",
       "  'attribution': 'AutoML',\n",
       "  'Orchestrator': 'AutoML',\n",
       "  'CancelUri': 'https://southcentralus.experiments.azureml.net/jasmine/v1.0/subscriptions/9a7511b8-150f-4a58-8528-3e7d50216c31/resourceGroups/aml-quickstarts-141035/providers/Microsoft.MachineLearningServices/workspaces/quick-starts-ws-141035/experimentids/098cf88a-73a8-4df2-bf88-1d7e51501833/cancel/AutoML_010da3bb-80a6-4657-9973-7eb391ad867f',\n",
       "  'ClientSdkVersion': '1.24.0',\n",
       "  'snapshotId': '00000000-0000-0000-0000-000000000000',\n",
       "  'SetupRunId': 'AutoML_010da3bb-80a6-4657-9973-7eb391ad867f_setup',\n",
       "  'SetupRunContainerId': 'dcid.AutoML_010da3bb-80a6-4657-9973-7eb391ad867f_setup',\n",
       "  'FeaturizationRunJsonPath': 'featurizer_container.json',\n",
       "  'FeaturizationRunId': 'AutoML_010da3bb-80a6-4657-9973-7eb391ad867f_featurize',\n",
       "  'ProblemInfoJsonString': '{\"dataset_num_categorical\": 0, \"is_sparse\": false, \"subsampling\": false, \"dataset_classes\": 2, \"dataset_features\": 12, \"dataset_samples\": 299, \"single_frequency_class_detected\": false}',\n",
       "  'ModelExplainRunId': 'AutoML_010da3bb-80a6-4657-9973-7eb391ad867f_ModelExplain'},\n",
       " 'inputDatasets': [{'dataset': {'id': '0298a6ed-6a4c-4891-b6d0-06d53939e51c'}, 'consumptionDetails': {'type': 'RunInput', 'inputName': 'training_data', 'mechanism': 'Direct'}}],\n",
       " 'outputDatasets': [],\n",
       " 'logFiles': {},\n",
       " 'submittedBy': 'ODL_User 141035'}"
      ]
     },
     "execution_count": 13,
     "metadata": {},
     "output_type": "execute_result"
    }
   ],
   "source": [
    "remote_run.wait_for_completion()"
   ]
  },
  {
   "cell_type": "markdown",
   "metadata": {},
   "source": [
    "## Best Model\n",
    "\n",
    "TODO: In the cell below, get the best model from the automl experiments and display all the properties of the model.\n",
    "\n"
   ]
  },
  {
   "cell_type": "code",
   "execution_count": 14,
   "metadata": {
    "gather": {
     "logged": 1616328506711
    },
    "jupyter": {
     "outputs_hidden": false,
     "source_hidden": false
    },
    "nteract": {
     "transient": {
      "deleting": false
     }
    }
   },
   "outputs": [],
   "source": [
    "automl_run, automl_model = remote_run.get_output()"
   ]
  },
  {
   "cell_type": "code",
   "execution_count": 15,
   "metadata": {
    "gather": {
     "logged": 1616328506800
    }
   },
   "outputs": [],
   "source": [
    "best_model = \"Best AutoML Run Model : {}\".format(automl_model)\n",
    "best_algorithm = \"Best AutoML Run Algorithm : {} \".format(automl_run.properties[\"run_algorithm\"])\n",
    "accuracy = \"Best AutoML Run Accuracy : {} \".format(automl_run.properties[\"score\"])"
   ]
  },
  {
   "cell_type": "code",
   "execution_count": 16,
   "metadata": {
    "gather": {
     "logged": 1616328507020
    }
   },
   "outputs": [
    {
     "name": "stdout",
     "output_type": "stream",
     "text": [
      "Best AutoML Run Algorithm : VotingEnsemble \n",
      "\n",
      "Best AutoML Run Model : Pipeline(memory=None,\n",
      "         steps=[('datatransformer',\n",
      "                 DataTransformer(enable_dnn=None, enable_feature_sweeping=None,\n",
      "                                 feature_sweeping_config=None,\n",
      "                                 feature_sweeping_timeout=None,\n",
      "                                 featurization_config=None, force_text_dnn=None,\n",
      "                                 is_cross_validation=None,\n",
      "                                 is_onnx_compatible=None, logger=None,\n",
      "                                 observer=None, task=None, working_dir=None)),\n",
      "                ('prefittedsoftvotingclassifier',...\n",
      "                                                                                        coef0=0.0,\n",
      "                                                                                        decision_function_shape='ovr',\n",
      "                                                                                        degree=3,\n",
      "                                                                                        gamma='scale',\n",
      "                                                                                        kernel='rbf',\n",
      "                                                                                        max_iter=-1,\n",
      "                                                                                        probability=True,\n",
      "                                                                                        random_state=None,\n",
      "                                                                                        shrinking=True,\n",
      "                                                                                        tol=0.001,\n",
      "                                                                                        verbose=False))],\n",
      "                                                                     verbose=False))],\n",
      "                                               flatten_transform=None,\n",
      "                                               weights=[0.16666666666666666,\n",
      "                                                        0.16666666666666666,\n",
      "                                                        0.16666666666666666,\n",
      "                                                        0.16666666666666666,\n",
      "                                                        0.16666666666666666,\n",
      "                                                        0.16666666666666666]))],\n",
      "         verbose=False)\n",
      "\n",
      "Best AutoML Run Accuracy : 0.876271186440678 \n"
     ]
    }
   ],
   "source": [
    "print( best_algorithm, best_model, accuracy, sep='\\n\\n')"
   ]
  },
  {
   "cell_type": "code",
   "execution_count": 17,
   "metadata": {
    "gather": {
     "logged": 1616328507087
    },
    "jupyter": {
     "outputs_hidden": false,
     "source_hidden": false
    },
    "nteract": {
     "transient": {
      "deleting": false
     }
    }
   },
   "outputs": [
    {
     "data": {
      "text/plain": [
       "['automl_model.joblib']"
      ]
     },
     "execution_count": 17,
     "metadata": {},
     "output_type": "execute_result"
    }
   ],
   "source": [
    "#TODO: Save the best model\n",
    "\n",
    "joblib.dump(value=automl_model, filename='automl_model.joblib')"
   ]
  },
  {
   "cell_type": "markdown",
   "metadata": {},
   "source": [
    "## Model Deployment\n",
    "\n",
    "Remember you have to deploy only one of the two models you trained.. Perform the steps in the rest of this notebook only if you wish to deploy this model.\n",
    "\n",
    "TODO: In the cell below, register the model, create an inference config and deploy the model as a web service."
   ]
  },
  {
   "cell_type": "code",
   "execution_count": 18,
   "metadata": {
    "gather": {
     "logged": 1616328508050
    },
    "jupyter": {
     "outputs_hidden": false,
     "source_hidden": false
    },
    "nteract": {
     "transient": {
      "deleting": false
     }
    }
   },
   "outputs": [],
   "source": [
    "registered_model = remote_run.register_model(model_name='automl_model')"
   ]
  },
  {
   "cell_type": "code",
   "execution_count": 19,
   "metadata": {
    "gather": {
     "logged": 1616328508271
    }
   },
   "outputs": [],
   "source": [
    "env = Environment.get(ws, \"AzureML-AutoML\")\n",
    "\n",
    "inference_config = InferenceConfig(entry_script='automl_score.py',\n",
    "                                   environment=env)"
   ]
  },
  {
   "cell_type": "code",
   "execution_count": 20,
   "metadata": {
    "gather": {
     "logged": 1616328508341
    }
   },
   "outputs": [],
   "source": [
    "deployment_config = AciWebservice.deploy_configuration(cpu_cores = 1, \n",
    "                                                       memory_gb = 1,\n",
    "                                                       enable_app_insights=True,\n",
    "                                                       description=\"Heart Failure Prediction Webservice\")"
   ]
  },
  {
   "cell_type": "code",
   "execution_count": 21,
   "metadata": {
    "gather": {
     "logged": 1616328509975
    }
   },
   "outputs": [],
   "source": [
    "service = Model.deploy(workspace = ws,\n",
    "                       name = \"aciservice\", \n",
    "                       models = [registered_model], \n",
    "                       inference_config = inference_config, \n",
    "                       deployment_config = deployment_config)"
   ]
  },
  {
   "cell_type": "code",
   "execution_count": 22,
   "metadata": {
    "gather": {
     "logged": 1616328695282
    }
   },
   "outputs": [
    {
     "name": "stdout",
     "output_type": "stream",
     "text": [
      "Tips: You can try get_logs(): https://aka.ms/debugimage#dockerlog or local deployment: https://aka.ms/debugimage#debug-locally to debug if deployment takes longer than 10 minutes.\n",
      "Running\n",
      "2021-03-21 12:08:29+00:00 Creating Container Registry if not exists.\n",
      "2021-03-21 12:08:29+00:00 Registering the environment.\n",
      "2021-03-21 12:08:30+00:00 Use the existing image.\n",
      "2021-03-21 12:08:30+00:00 Generating deployment configuration.\n",
      "2021-03-21 12:08:30+00:00 Submitting deployment to compute.\n",
      "2021-03-21 12:08:34+00:00 Checking the status of deployment aciservice..\n",
      "2021-03-21 12:11:24+00:00 Checking the status of inference endpoint aciservice.\n",
      "Succeeded\n",
      "ACI service creation operation finished, operation \"Succeeded\"\n"
     ]
    }
   ],
   "source": [
    "service.wait_for_deployment(show_output = True)"
   ]
  },
  {
   "cell_type": "code",
   "execution_count": 23,
   "metadata": {
    "gather": {
     "logged": 1616328695373
    }
   },
   "outputs": [
    {
     "data": {
      "text/plain": [
       "'Healthy'"
      ]
     },
     "execution_count": 23,
     "metadata": {},
     "output_type": "execute_result"
    }
   ],
   "source": [
    "service.state"
   ]
  },
  {
   "cell_type": "code",
   "execution_count": 24,
   "metadata": {
    "gather": {
     "logged": 1616328695625
    }
   },
   "outputs": [
    {
     "data": {
      "text/plain": [
       "'http://5e680752-424a-4ff2-89ea-c6608eb732fd.southcentralus.azurecontainer.io/score'"
      ]
     },
     "execution_count": 24,
     "metadata": {},
     "output_type": "execute_result"
    }
   ],
   "source": [
    "scoring_uri = service.scoring_uri\n",
    "scoring_uri"
   ]
  },
  {
   "cell_type": "markdown",
   "metadata": {
    "collapsed": true,
    "gather": {
     "logged": 1598431657736
    },
    "jupyter": {
     "outputs_hidden": false,
     "source_hidden": false
    },
    "nteract": {
     "transient": {
      "deleting": false
     }
    }
   },
   "source": [
    "TODO: In the cell below, send a request to the web service you deployed to test it."
   ]
  },
  {
   "cell_type": "code",
   "execution_count": 25,
   "metadata": {
    "gather": {
     "logged": 1616328695687
    },
    "jupyter": {
     "outputs_hidden": false,
     "source_hidden": false
    },
    "nteract": {
     "transient": {
      "deleting": false
     }
    }
   },
   "outputs": [],
   "source": [
    "\n",
    "data = {\n",
    "    \"data\": [\n",
    "        {\n",
    "            'age': 50,\n",
    "            'anaemia': 0,\n",
    "            'creatinine_phosphokinase': 90 ,\n",
    "            'diabetes': 1,\n",
    "            'ejection_fraction': 20,\n",
    "            'high_blood_pressure': 1,\n",
    "            'platelets': 230000,\n",
    "            'serum_creatinine': 1.6,\n",
    "            'serum_sodium': 120,\n",
    "            'sex': 0,\n",
    "            'smoking': 1,\n",
    "            'time': 7\n",
    "        },\n",
    "        {\n",
    "            'age': 70,\n",
    "            'anaemia': 1,\n",
    "            'creatinine_phosphokinase': 110,\n",
    "            'diabetes': 0,\n",
    "            'ejection_fraction': 25,\n",
    "            'high_blood_pressure': 0,\n",
    "            'platelets': 210000,\n",
    "            'serum_creatinine': 1.8,\n",
    "            'serum_sodium': 142,\n",
    "            'sex': 1,\n",
    "            'smoking': 0,\n",
    "            'time': 8\n",
    "        }\n",
    "    ]\n",
    "}\n",
    "# Convert to JSON string\n",
    "request_data = json.dumps(data)\n",
    "\n",
    "# Set the content type\n",
    "headers = {'Content-Type': 'application/json'}\n",
    "\n",
    "# Make the request and display the response\n",
    "response = requests.post(scoring_uri, request_data, headers=headers)"
   ]
  },
  {
   "cell_type": "code",
   "execution_count": 26,
   "metadata": {
    "gather": {
     "logged": 1616328695774
    }
   },
   "outputs": [
    {
     "data": {
      "text/plain": [
       "[1, 1]"
      ]
     },
     "execution_count": 26,
     "metadata": {},
     "output_type": "execute_result"
    }
   ],
   "source": [
    "response.json()"
   ]
  },
  {
   "cell_type": "markdown",
   "metadata": {
    "collapsed": true,
    "gather": {
     "logged": 1598432765711
    },
    "jupyter": {
     "outputs_hidden": false,
     "source_hidden": false
    },
    "nteract": {
     "transient": {
      "deleting": false
     }
    }
   },
   "source": [
    "TODO: In the cell below, print the logs of the web service and delete the service"
   ]
  },
  {
   "cell_type": "code",
   "execution_count": 27,
   "metadata": {
    "gather": {
     "logged": 1616328696977
    },
    "jupyter": {
     "outputs_hidden": false,
     "source_hidden": false
    },
    "nteract": {
     "transient": {
      "deleting": false
     }
    }
   },
   "outputs": [],
   "source": [
    "service.update(enable_app_insights=True)"
   ]
  },
  {
   "cell_type": "code",
   "execution_count": 28,
   "metadata": {
    "gather": {
     "logged": 1616328697725
    }
   },
   "outputs": [
    {
     "data": {
      "text/plain": [
       "'2021-03-21T12:11:15,432122200+00:00 - gunicorn/run \\n2021-03-21T12:11:15,429209100+00:00 - rsyslog/run \\n2021-03-21T12:11:15,443800300+00:00 - iot-server/run \\n2021-03-21T12:11:15,452569200+00:00 - nginx/run \\nrsyslogd: /azureml-envs/azureml_2b14f450572e78de640d54eaabed5e4d/lib/libuuid.so.1: no version information available (required by rsyslogd)\\n/usr/sbin/nginx: /azureml-envs/azureml_2b14f450572e78de640d54eaabed5e4d/lib/libcrypto.so.1.0.0: no version information available (required by /usr/sbin/nginx)\\n/usr/sbin/nginx: /azureml-envs/azureml_2b14f450572e78de640d54eaabed5e4d/lib/libcrypto.so.1.0.0: no version information available (required by /usr/sbin/nginx)\\n/usr/sbin/nginx: /azureml-envs/azureml_2b14f450572e78de640d54eaabed5e4d/lib/libssl.so.1.0.0: no version information available (required by /usr/sbin/nginx)\\n/usr/sbin/nginx: /azureml-envs/azureml_2b14f450572e78de640d54eaabed5e4d/lib/libssl.so.1.0.0: no version information available (required by /usr/sbin/nginx)\\n/usr/sbin/nginx: /azureml-envs/azureml_2b14f450572e78de640d54eaabed5e4d/lib/libssl.so.1.0.0: no version information available (required by /usr/sbin/nginx)\\nEdgeHubConnectionString and IOTEDGE_IOTHUBHOSTNAME are not set. Exiting...\\n2021-03-21T12:11:16,821803200+00:00 - iot-server/finish 1 0\\n2021-03-21T12:11:16,834124100+00:00 - Exit code 1 is normal. Not restarting iot-server.\\nStarting gunicorn 19.9.0\\nListening at: http://127.0.0.1:31311 (68)\\nUsing worker: sync\\nworker timeout is set to 300\\nBooting worker with pid: 95\\nSPARK_HOME not set. Skipping PySpark Initialization.\\nGenerating new fontManager, this may take some time...\\nFailure while loading azureml_run_type_providers. Failed to load entrypoint automl = azureml.train.automl.run:AutoMLRun._from_run_dto with exception (cryptography 3.2 (/azureml-envs/azureml_2b14f450572e78de640d54eaabed5e4d/lib/python3.6/site-packages), Requirement.parse(\\'cryptography<4.0.0,>=3.3.1; extra == \"crypto\"\\'), {\\'PyJWT\\'}).\\nInitializing logger\\n2021-03-21 12:11:26,075 | root | INFO | Starting up app insights client\\n2021-03-21 12:11:26,075 | root | INFO | Starting up request id generator\\n2021-03-21 12:11:26,075 | root | INFO | Starting up app insight hooks\\n2021-03-21 12:11:26,076 | root | INFO | Invoking user\\'s init function\\n/azureml-envs/azureml_2b14f450572e78de640d54eaabed5e4d/lib/python3.6/site-packages/sklearn/externals/joblib/__init__.py:15: FutureWarning: sklearn.externals.joblib is deprecated in 0.21 and will be removed in 0.23. Please import this functionality directly from joblib, which can be installed with: pip install joblib. If this warning is raised when loading pickled models, you may need to re-serialize those models with scikit-learn 0.21+.\\n  warnings.warn(msg, category=FutureWarning)\\n2021-03-21 12:11:31,418 | root | INFO | Users\\'s init has completed successfully\\n2021-03-21 12:11:31,424 | root | INFO | Skipping middleware: dbg_model_info as it\\'s not enabled.\\n2021-03-21 12:11:31,426 | root | INFO | Skipping middleware: dbg_resource_usage as it\\'s not enabled.\\n2021-03-21 12:11:31,428 | root | INFO | Scoring timeout is found from os.environ: 60000 ms\\n2021-03-21 12:11:31,446 | root | INFO | Swagger file not present\\n2021-03-21 12:11:31,446 | root | INFO | 404\\n127.0.0.1 - - [21/Mar/2021:12:11:31 +0000] \"GET /swagger.json HTTP/1.0\" 404 19 \"-\" \"Go-http-client/1.1\"\\n2021-03-21 12:11:34,383 | root | INFO | Swagger file not present\\n2021-03-21 12:11:34,384 | root | INFO | 404\\n127.0.0.1 - - [21/Mar/2021:12:11:34 +0000] \"GET /swagger.json HTTP/1.0\" 404 19 \"-\" \"Go-http-client/1.1\"\\n2021-03-21 12:11:34,634 | root | INFO | Validation Request Content-Type\\n2021-03-21 12:11:34,636 | root | INFO | Scoring Timer is set to 60.0 seconds\\n2021-03-21 12:11:34,731 | root | INFO | 200\\n127.0.0.1 - - [21/Mar/2021:12:11:34 +0000] \"POST /score HTTP/1.0\" 200 6 \"-\" \"python-requests/2.25.1\"\\n2021-03-21 12:11:35,439 | root | INFO | Swagger file not present\\n2021-03-21 12:11:35,440 | root | INFO | 404\\n127.0.0.1 - - [21/Mar/2021:12:11:35 +0000] \"GET /swagger.json HTTP/1.0\" 404 19 \"-\" \"Go-http-client/1.1\"\\n'"
      ]
     },
     "execution_count": 28,
     "metadata": {},
     "output_type": "execute_result"
    }
   ],
   "source": [
    "service.get_logs()"
   ]
  },
  {
   "cell_type": "code",
   "execution_count": 29,
   "metadata": {
    "gather": {
     "logged": 1616334820074
    }
   },
   "outputs": [],
   "source": [
    "service.delete()"
   ]
  },
  {
   "cell_type": "code",
   "execution_count": 30,
   "metadata": {
    "collapsed": true,
    "gather": {
     "logged": 1616334825031
    },
    "jupyter": {
     "outputs_hidden": false,
     "source_hidden": false
    },
    "nteract": {
     "transient": {
      "deleting": false
     }
    }
   },
   "outputs": [],
   "source": [
    "compute_cluster.delete()"
   ]
  },
  {
   "cell_type": "raw",
   "metadata": {},
   "source": []
  }
 ],
 "metadata": {
  "kernel_info": {
   "name": "python3"
  },
  "kernelspec": {
   "display_name": "Python 3",
   "language": "python",
   "name": "python3"
  },
  "language_info": {
   "codemirror_mode": {
    "name": "ipython",
    "version": 3
   },
   "file_extension": ".py",
   "mimetype": "text/x-python",
   "name": "python",
   "nbconvert_exporter": "python",
   "pygments_lexer": "ipython3",
   "version": "3.7.10"
  },
  "microsoft": {
   "host": {
    "AzureML": {
     "notebookHasBeenCompleted": true
    }
   }
  },
  "nteract": {
   "version": "nteract-front-end@1.0.0"
  }
 },
 "nbformat": 4,
 "nbformat_minor": 2
}
